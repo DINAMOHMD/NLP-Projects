{
  "cells": [
    {
      "cell_type": "markdown",
      "metadata": {
        "id": "JCtnNSiKUW4p"
      },
      "source": [
        "**Dataset:**\n",
        "personality type data (Lab 2 - Personality Profile Type.csv)\n",
        "\n",
        "**Objective:**\n",
        "classify Personality type as one of the following **using RNNs**. <br>\n",
        "['INFJ', 'ENTP', 'INTP', 'INTJ', 'ENTJ', 'ENFJ', 'INFP', 'ENFP',\n",
        "       'ISFP', 'ISTP', 'ISFJ', 'ISTJ', 'ESTP', 'ESFP', 'ESTJ', 'ESFJ']\n",
        "\n",
        "**Evaluation metric:**\n",
        "Precision"
      ]
    },
    {
      "cell_type": "markdown",
      "metadata": {
        "id": "v-6lrKz6orxT"
      },
      "source": [
        "### Import used libraries"
      ]
    },
    {
      "cell_type": "code",
      "execution_count": 3,
      "metadata": {
        "id": "eXUPo3g4orxV"
      },
      "outputs": [],
      "source": [
        "import pandas as pd\n",
        "import numpy as np\n",
        "import matplotlib.pyplot as plt\n",
        "import re\n",
        "import nltk\n",
        "from nltk.corpus import stopwords\n",
        "from nltk.stem import PorterStemmer\n",
        "import string\n",
        "import contractions\n",
        "from sklearn.model_selection import train_test_split\n",
        "from sklearn.preprocessing import LabelEncoder\n",
        "import tensorflow as tf\n",
        "from tensorflow.keras import metrics\n",
        "from tensorflow.keras.preprocessing.text import Tokenizer\n",
        "from tensorflow.keras.preprocessing.sequence import pad_sequences\n",
        "from tensorflow.keras import Model, Input\n",
        "from tensorflow.keras.layers import LSTM, Embedding, Dense\n",
        "from tensorflow.keras.layers import TimeDistributed, SpatialDropout1D, Bidirectional\n",
        "from sklearn import metrics\n",
        "from sklearn.metrics import precision_score\n",
        "from sklearn.feature_extraction.text import CountVectorizer\n",
        "pd.set_option('display.max_rows', 500)\n",
        "pd.set_option('display.max_colwidth', 500)"
      ]
    },
    {
      "cell_type": "code",
      "source": [
        "nltk.download('wordnet')"
      ],
      "metadata": {
        "colab": {
          "base_uri": "https://localhost:8080/"
        },
        "id": "iqkG_vIvZEvd",
        "outputId": "9fc0636b-618d-487d-cb28-9119c0779b96"
      },
      "execution_count": 4,
      "outputs": [
        {
          "output_type": "stream",
          "name": "stderr",
          "text": [
            "[nltk_data] Downloading package wordnet to /root/nltk_data...\n"
          ]
        },
        {
          "output_type": "execute_result",
          "data": {
            "text/plain": [
              "True"
            ]
          },
          "metadata": {},
          "execution_count": 4
        }
      ]
    },
    {
      "cell_type": "code",
      "source": [
        "nltk.download('stopwords')"
      ],
      "metadata": {
        "colab": {
          "base_uri": "https://localhost:8080/"
        },
        "id": "PAqLhoTKeEqC",
        "outputId": "babeff4a-699f-4a2b-a4f7-5f6141642089"
      },
      "execution_count": 5,
      "outputs": [
        {
          "output_type": "stream",
          "name": "stderr",
          "text": [
            "[nltk_data] Downloading package stopwords to /root/nltk_data...\n",
            "[nltk_data]   Unzipping corpora/stopwords.zip.\n"
          ]
        },
        {
          "output_type": "execute_result",
          "data": {
            "text/plain": [
              "True"
            ]
          },
          "metadata": {},
          "execution_count": 5
        }
      ]
    },
    {
      "cell_type": "markdown",
      "metadata": {
        "id": "fG8MkuvjorxX"
      },
      "source": [
        "### Load Dataset"
      ]
    },
    {
      "cell_type": "code",
      "execution_count": 6,
      "metadata": {
        "id": "BYeqhp66orxY",
        "colab": {
          "base_uri": "https://localhost:8080/",
          "height": 918
        },
        "outputId": "f96d6384-21ab-4066-c03c-36363562717d"
      },
      "outputs": [
        {
          "output_type": "execute_result",
          "data": {
            "text/plain": [
              "   type  \\\n",
              "0  INFJ   \n",
              "1  ENTP   \n",
              "2  INTP   \n",
              "3  INTJ   \n",
              "4  ENTJ   \n",
              "5  INTJ   \n",
              "6  INFJ   \n",
              "7  INTJ   \n",
              "8  INFJ   \n",
              "9  INTP   \n",
              "\n",
              "                                                                                                                                                                                                                                                                                                                                                                                                                                                                                                                 posts  \n",
              "0  'http://www.youtube.com/watch?v=qsXHcwe3krw|||http://41.media.tumblr.com/tumblr_lfouy03PMA1qa1rooo1_500.jpg|||enfp and intj moments  https://www.youtube.com/watch?v=iz7lE1g4XM4  sportscenter not top ten plays  https://www.youtube.com/watch?v=uCdfze1etec  pranks|||What has been the most life-changing experience in your life?|||http://www.youtube.com/watch?v=vXZeYwwRDw8   http://www.youtube.com/watch?v=u8ejam5DP3E  On repeat for most of today.|||May the PerC Experience immerse you.|||The last ...  \n",
              "1  'I'm finding the lack of me in these posts very alarming.|||Sex can be boring if it's in the same position often. For example me and my girlfriend are currently in an environment where we have to creatively use cowgirl and missionary. There isn't enough...|||Giving new meaning to 'Game' theory.|||Hello *ENTP Grin*  That's all it takes. Than we converse and they do most of the flirting while I acknowledge their presence and return their words with smooth wordplay and more cheeky grins.|||This...  \n",
              "2  'Good one  _____   https://www.youtube.com/watch?v=fHiGbolFFGw|||Of course, to which I say I know; that's my blessing and my curse.|||Does being absolutely positive that you and your best friend could be an amazing couple count? If so, than yes.   Or it's more I could be madly in love in case I reconciled my feelings (which at...|||No, I didn't; thank you for a link!|||So-called Ti-Si loop (and it can stem from any current topic/obsession) can be deadly. It's like when you're stuck in your o...  \n",
              "3  'Dear INTP,   I enjoyed our conversation the other day.  Esoteric gabbing about the nature of the universe and the idea that every rule and social code being arbitrary constructs created...|||Dear ENTJ sub,   Long time no see.  Sincerely, Alpha|||None of them. All other types hurt in deep existential ways that I want no part of.|||Probably a sliding scale that depends on individual preferences, like everything in humanity.|||Draco Malfoy also. I'd say he's either 358 or 368.|||I'm either 358...  \n",
              "4  'You're fired.|||That's another silly misconception. That approaching is logically is going to be the key to unlocking whatever it is you think you are entitled to.   Nobody wants to be approached with BS...|||But guys... he REALLY wants to go on a super-duper-long-ass vacation. C'mon guys. His boss just doesn't listen or get it. He even approached him logically and everything.|||Never mind. Just go on permanent vacation.|||Two months? I wouldn't be crazy about the idea. If you are really hi...  \n",
              "5  '18/37 @.@|||Science  is not perfect. No scientist claims that it is, or that scientific  information will not be revised as we discover new things.  Rational  thinking has been very useful to our society....|||INFP- Edgar Allen Poe was an INFP and he's in your siggy.|||People see the obvious Fi and are quick to put her as INFP. I agree that she has no Ne. I see her as an ISFP. Compare her to Haku (definite INFP). She is flat through most of Naruto.. but I don't...|||Lets get this party star...  \n",
              "6  'No, I can't draw on my own nails (haha). Those were done by professionals on my nails. And yes, those are all gel.  You mean those you posted were done by yourself on your own nails? Awesome!|||Probably the Electronic Screen Syndrome. With the advent of technology and social media, we all suffer from overstimulation on a daily basis. I'm guilty as well. In the past, I can be happy just...|||I love nail arts too! These are some of mine:  718282 718290 718298 718306 718314|||This is the first...  \n",
              "7  'I tend to build up a collection of things on my desktop that i use frequently and then move them into a folder called  'Everything' from there it get sorted into type and sub type|||i ike to collect odd objects, even at work...a lot of people would call it junk but i like to collect it.  Old unused software? ill take that off your hands :) i have a bunch of old adobe...|||i think its quite normal, i tend to only see my friends in real life every couple of months, as said earlier some people...  \n",
              "8  I'm not sure, that's a good question. The distinction between the two is so dependant on perception. To quote Robb Flynn, ''The hate you feel is nothing more, than love you feel to win this war.''|||Good question! It's tough to say for sure but I loved Winona Ryder as Lydia in Beetlejuice...  http://i63.photobucket.com/albums/h158/trinsghost/Misc-Images/2921aa070866f20450f8e1160b1e5d41.jpg|||https://www.youtube.com/watch?v=r5If816MhoU|||https://www.youtube.com/watch?v=Q-sQklvpDhA|||I've been...  \n",
              "9  'https://www.youtube.com/watch?v=w8-egj0y8Qs|||I'm in this position where I have to actually let go of the person, due to a various reasons. Unfortunately I'm having trouble mustering enough strength to actually pull through it. Sometimes,...|||WHAT A YEAR, MAN. WHAT A YEAR.   I am just utterly bewildered with my 20s at this point.|||my laundry. as long as i've got clothes left to wear i'm fine.  and then the time comes that i DO run out, and i'm left to contend with The Mountain that is my ...  "
            ],
            "text/html": [
              "\n",
              "  <div id=\"df-04bd9db7-ea87-4af3-87e7-3c50d6d3404b\" class=\"colab-df-container\">\n",
              "    <div>\n",
              "<style scoped>\n",
              "    .dataframe tbody tr th:only-of-type {\n",
              "        vertical-align: middle;\n",
              "    }\n",
              "\n",
              "    .dataframe tbody tr th {\n",
              "        vertical-align: top;\n",
              "    }\n",
              "\n",
              "    .dataframe thead th {\n",
              "        text-align: right;\n",
              "    }\n",
              "</style>\n",
              "<table border=\"1\" class=\"dataframe\">\n",
              "  <thead>\n",
              "    <tr style=\"text-align: right;\">\n",
              "      <th></th>\n",
              "      <th>type</th>\n",
              "      <th>posts</th>\n",
              "    </tr>\n",
              "  </thead>\n",
              "  <tbody>\n",
              "    <tr>\n",
              "      <th>0</th>\n",
              "      <td>INFJ</td>\n",
              "      <td>'http://www.youtube.com/watch?v=qsXHcwe3krw|||http://41.media.tumblr.com/tumblr_lfouy03PMA1qa1rooo1_500.jpg|||enfp and intj moments  https://www.youtube.com/watch?v=iz7lE1g4XM4  sportscenter not top ten plays  https://www.youtube.com/watch?v=uCdfze1etec  pranks|||What has been the most life-changing experience in your life?|||http://www.youtube.com/watch?v=vXZeYwwRDw8   http://www.youtube.com/watch?v=u8ejam5DP3E  On repeat for most of today.|||May the PerC Experience immerse you.|||The last ...</td>\n",
              "    </tr>\n",
              "    <tr>\n",
              "      <th>1</th>\n",
              "      <td>ENTP</td>\n",
              "      <td>'I'm finding the lack of me in these posts very alarming.|||Sex can be boring if it's in the same position often. For example me and my girlfriend are currently in an environment where we have to creatively use cowgirl and missionary. There isn't enough...|||Giving new meaning to 'Game' theory.|||Hello *ENTP Grin*  That's all it takes. Than we converse and they do most of the flirting while I acknowledge their presence and return their words with smooth wordplay and more cheeky grins.|||This...</td>\n",
              "    </tr>\n",
              "    <tr>\n",
              "      <th>2</th>\n",
              "      <td>INTP</td>\n",
              "      <td>'Good one  _____   https://www.youtube.com/watch?v=fHiGbolFFGw|||Of course, to which I say I know; that's my blessing and my curse.|||Does being absolutely positive that you and your best friend could be an amazing couple count? If so, than yes.   Or it's more I could be madly in love in case I reconciled my feelings (which at...|||No, I didn't; thank you for a link!|||So-called Ti-Si loop (and it can stem from any current topic/obsession) can be deadly. It's like when you're stuck in your o...</td>\n",
              "    </tr>\n",
              "    <tr>\n",
              "      <th>3</th>\n",
              "      <td>INTJ</td>\n",
              "      <td>'Dear INTP,   I enjoyed our conversation the other day.  Esoteric gabbing about the nature of the universe and the idea that every rule and social code being arbitrary constructs created...|||Dear ENTJ sub,   Long time no see.  Sincerely, Alpha|||None of them. All other types hurt in deep existential ways that I want no part of.|||Probably a sliding scale that depends on individual preferences, like everything in humanity.|||Draco Malfoy also. I'd say he's either 358 or 368.|||I'm either 358...</td>\n",
              "    </tr>\n",
              "    <tr>\n",
              "      <th>4</th>\n",
              "      <td>ENTJ</td>\n",
              "      <td>'You're fired.|||That's another silly misconception. That approaching is logically is going to be the key to unlocking whatever it is you think you are entitled to.   Nobody wants to be approached with BS...|||But guys... he REALLY wants to go on a super-duper-long-ass vacation. C'mon guys. His boss just doesn't listen or get it. He even approached him logically and everything.|||Never mind. Just go on permanent vacation.|||Two months? I wouldn't be crazy about the idea. If you are really hi...</td>\n",
              "    </tr>\n",
              "    <tr>\n",
              "      <th>5</th>\n",
              "      <td>INTJ</td>\n",
              "      <td>'18/37 @.@|||Science  is not perfect. No scientist claims that it is, or that scientific  information will not be revised as we discover new things.  Rational  thinking has been very useful to our society....|||INFP- Edgar Allen Poe was an INFP and he's in your siggy.|||People see the obvious Fi and are quick to put her as INFP. I agree that she has no Ne. I see her as an ISFP. Compare her to Haku (definite INFP). She is flat through most of Naruto.. but I don't...|||Lets get this party star...</td>\n",
              "    </tr>\n",
              "    <tr>\n",
              "      <th>6</th>\n",
              "      <td>INFJ</td>\n",
              "      <td>'No, I can't draw on my own nails (haha). Those were done by professionals on my nails. And yes, those are all gel.  You mean those you posted were done by yourself on your own nails? Awesome!|||Probably the Electronic Screen Syndrome. With the advent of technology and social media, we all suffer from overstimulation on a daily basis. I'm guilty as well. In the past, I can be happy just...|||I love nail arts too! These are some of mine:  718282 718290 718298 718306 718314|||This is the first...</td>\n",
              "    </tr>\n",
              "    <tr>\n",
              "      <th>7</th>\n",
              "      <td>INTJ</td>\n",
              "      <td>'I tend to build up a collection of things on my desktop that i use frequently and then move them into a folder called  'Everything' from there it get sorted into type and sub type|||i ike to collect odd objects, even at work...a lot of people would call it junk but i like to collect it.  Old unused software? ill take that off your hands :) i have a bunch of old adobe...|||i think its quite normal, i tend to only see my friends in real life every couple of months, as said earlier some people...</td>\n",
              "    </tr>\n",
              "    <tr>\n",
              "      <th>8</th>\n",
              "      <td>INFJ</td>\n",
              "      <td>I'm not sure, that's a good question. The distinction between the two is so dependant on perception. To quote Robb Flynn, ''The hate you feel is nothing more, than love you feel to win this war.''|||Good question! It's tough to say for sure but I loved Winona Ryder as Lydia in Beetlejuice...  http://i63.photobucket.com/albums/h158/trinsghost/Misc-Images/2921aa070866f20450f8e1160b1e5d41.jpg|||https://www.youtube.com/watch?v=r5If816MhoU|||https://www.youtube.com/watch?v=Q-sQklvpDhA|||I've been...</td>\n",
              "    </tr>\n",
              "    <tr>\n",
              "      <th>9</th>\n",
              "      <td>INTP</td>\n",
              "      <td>'https://www.youtube.com/watch?v=w8-egj0y8Qs|||I'm in this position where I have to actually let go of the person, due to a various reasons. Unfortunately I'm having trouble mustering enough strength to actually pull through it. Sometimes,...|||WHAT A YEAR, MAN. WHAT A YEAR.   I am just utterly bewildered with my 20s at this point.|||my laundry. as long as i've got clothes left to wear i'm fine.  and then the time comes that i DO run out, and i'm left to contend with The Mountain that is my ...</td>\n",
              "    </tr>\n",
              "  </tbody>\n",
              "</table>\n",
              "</div>\n",
              "    <div class=\"colab-df-buttons\">\n",
              "\n",
              "  <div class=\"colab-df-container\">\n",
              "    <button class=\"colab-df-convert\" onclick=\"convertToInteractive('df-04bd9db7-ea87-4af3-87e7-3c50d6d3404b')\"\n",
              "            title=\"Convert this dataframe to an interactive table.\"\n",
              "            style=\"display:none;\">\n",
              "\n",
              "  <svg xmlns=\"http://www.w3.org/2000/svg\" height=\"24px\" viewBox=\"0 -960 960 960\">\n",
              "    <path d=\"M120-120v-720h720v720H120Zm60-500h600v-160H180v160Zm220 220h160v-160H400v160Zm0 220h160v-160H400v160ZM180-400h160v-160H180v160Zm440 0h160v-160H620v160ZM180-180h160v-160H180v160Zm440 0h160v-160H620v160Z\"/>\n",
              "  </svg>\n",
              "    </button>\n",
              "\n",
              "  <style>\n",
              "    .colab-df-container {\n",
              "      display:flex;\n",
              "      gap: 12px;\n",
              "    }\n",
              "\n",
              "    .colab-df-convert {\n",
              "      background-color: #E8F0FE;\n",
              "      border: none;\n",
              "      border-radius: 50%;\n",
              "      cursor: pointer;\n",
              "      display: none;\n",
              "      fill: #1967D2;\n",
              "      height: 32px;\n",
              "      padding: 0 0 0 0;\n",
              "      width: 32px;\n",
              "    }\n",
              "\n",
              "    .colab-df-convert:hover {\n",
              "      background-color: #E2EBFA;\n",
              "      box-shadow: 0px 1px 2px rgba(60, 64, 67, 0.3), 0px 1px 3px 1px rgba(60, 64, 67, 0.15);\n",
              "      fill: #174EA6;\n",
              "    }\n",
              "\n",
              "    .colab-df-buttons div {\n",
              "      margin-bottom: 4px;\n",
              "    }\n",
              "\n",
              "    [theme=dark] .colab-df-convert {\n",
              "      background-color: #3B4455;\n",
              "      fill: #D2E3FC;\n",
              "    }\n",
              "\n",
              "    [theme=dark] .colab-df-convert:hover {\n",
              "      background-color: #434B5C;\n",
              "      box-shadow: 0px 1px 3px 1px rgba(0, 0, 0, 0.15);\n",
              "      filter: drop-shadow(0px 1px 2px rgba(0, 0, 0, 0.3));\n",
              "      fill: #FFFFFF;\n",
              "    }\n",
              "  </style>\n",
              "\n",
              "    <script>\n",
              "      const buttonEl =\n",
              "        document.querySelector('#df-04bd9db7-ea87-4af3-87e7-3c50d6d3404b button.colab-df-convert');\n",
              "      buttonEl.style.display =\n",
              "        google.colab.kernel.accessAllowed ? 'block' : 'none';\n",
              "\n",
              "      async function convertToInteractive(key) {\n",
              "        const element = document.querySelector('#df-04bd9db7-ea87-4af3-87e7-3c50d6d3404b');\n",
              "        const dataTable =\n",
              "          await google.colab.kernel.invokeFunction('convertToInteractive',\n",
              "                                                    [key], {});\n",
              "        if (!dataTable) return;\n",
              "\n",
              "        const docLinkHtml = 'Like what you see? Visit the ' +\n",
              "          '<a target=\"_blank\" href=https://colab.research.google.com/notebooks/data_table.ipynb>data table notebook</a>'\n",
              "          + ' to learn more about interactive tables.';\n",
              "        element.innerHTML = '';\n",
              "        dataTable['output_type'] = 'display_data';\n",
              "        await google.colab.output.renderOutput(dataTable, element);\n",
              "        const docLink = document.createElement('div');\n",
              "        docLink.innerHTML = docLinkHtml;\n",
              "        element.appendChild(docLink);\n",
              "      }\n",
              "    </script>\n",
              "  </div>\n",
              "\n",
              "\n",
              "<div id=\"df-d4f71e1f-a059-45d3-8f04-d700168ce073\">\n",
              "  <button class=\"colab-df-quickchart\" onclick=\"quickchart('df-d4f71e1f-a059-45d3-8f04-d700168ce073')\"\n",
              "            title=\"Suggest charts\"\n",
              "            style=\"display:none;\">\n",
              "\n",
              "<svg xmlns=\"http://www.w3.org/2000/svg\" height=\"24px\"viewBox=\"0 0 24 24\"\n",
              "     width=\"24px\">\n",
              "    <g>\n",
              "        <path d=\"M19 3H5c-1.1 0-2 .9-2 2v14c0 1.1.9 2 2 2h14c1.1 0 2-.9 2-2V5c0-1.1-.9-2-2-2zM9 17H7v-7h2v7zm4 0h-2V7h2v10zm4 0h-2v-4h2v4z\"/>\n",
              "    </g>\n",
              "</svg>\n",
              "  </button>\n",
              "\n",
              "<style>\n",
              "  .colab-df-quickchart {\n",
              "      --bg-color: #E8F0FE;\n",
              "      --fill-color: #1967D2;\n",
              "      --hover-bg-color: #E2EBFA;\n",
              "      --hover-fill-color: #174EA6;\n",
              "      --disabled-fill-color: #AAA;\n",
              "      --disabled-bg-color: #DDD;\n",
              "  }\n",
              "\n",
              "  [theme=dark] .colab-df-quickchart {\n",
              "      --bg-color: #3B4455;\n",
              "      --fill-color: #D2E3FC;\n",
              "      --hover-bg-color: #434B5C;\n",
              "      --hover-fill-color: #FFFFFF;\n",
              "      --disabled-bg-color: #3B4455;\n",
              "      --disabled-fill-color: #666;\n",
              "  }\n",
              "\n",
              "  .colab-df-quickchart {\n",
              "    background-color: var(--bg-color);\n",
              "    border: none;\n",
              "    border-radius: 50%;\n",
              "    cursor: pointer;\n",
              "    display: none;\n",
              "    fill: var(--fill-color);\n",
              "    height: 32px;\n",
              "    padding: 0;\n",
              "    width: 32px;\n",
              "  }\n",
              "\n",
              "  .colab-df-quickchart:hover {\n",
              "    background-color: var(--hover-bg-color);\n",
              "    box-shadow: 0 1px 2px rgba(60, 64, 67, 0.3), 0 1px 3px 1px rgba(60, 64, 67, 0.15);\n",
              "    fill: var(--button-hover-fill-color);\n",
              "  }\n",
              "\n",
              "  .colab-df-quickchart-complete:disabled,\n",
              "  .colab-df-quickchart-complete:disabled:hover {\n",
              "    background-color: var(--disabled-bg-color);\n",
              "    fill: var(--disabled-fill-color);\n",
              "    box-shadow: none;\n",
              "  }\n",
              "\n",
              "  .colab-df-spinner {\n",
              "    border: 2px solid var(--fill-color);\n",
              "    border-color: transparent;\n",
              "    border-bottom-color: var(--fill-color);\n",
              "    animation:\n",
              "      spin 1s steps(1) infinite;\n",
              "  }\n",
              "\n",
              "  @keyframes spin {\n",
              "    0% {\n",
              "      border-color: transparent;\n",
              "      border-bottom-color: var(--fill-color);\n",
              "      border-left-color: var(--fill-color);\n",
              "    }\n",
              "    20% {\n",
              "      border-color: transparent;\n",
              "      border-left-color: var(--fill-color);\n",
              "      border-top-color: var(--fill-color);\n",
              "    }\n",
              "    30% {\n",
              "      border-color: transparent;\n",
              "      border-left-color: var(--fill-color);\n",
              "      border-top-color: var(--fill-color);\n",
              "      border-right-color: var(--fill-color);\n",
              "    }\n",
              "    40% {\n",
              "      border-color: transparent;\n",
              "      border-right-color: var(--fill-color);\n",
              "      border-top-color: var(--fill-color);\n",
              "    }\n",
              "    60% {\n",
              "      border-color: transparent;\n",
              "      border-right-color: var(--fill-color);\n",
              "    }\n",
              "    80% {\n",
              "      border-color: transparent;\n",
              "      border-right-color: var(--fill-color);\n",
              "      border-bottom-color: var(--fill-color);\n",
              "    }\n",
              "    90% {\n",
              "      border-color: transparent;\n",
              "      border-bottom-color: var(--fill-color);\n",
              "    }\n",
              "  }\n",
              "</style>\n",
              "\n",
              "  <script>\n",
              "    async function quickchart(key) {\n",
              "      const quickchartButtonEl =\n",
              "        document.querySelector('#' + key + ' button');\n",
              "      quickchartButtonEl.disabled = true;  // To prevent multiple clicks.\n",
              "      quickchartButtonEl.classList.add('colab-df-spinner');\n",
              "      try {\n",
              "        const charts = await google.colab.kernel.invokeFunction(\n",
              "            'suggestCharts', [key], {});\n",
              "      } catch (error) {\n",
              "        console.error('Error during call to suggestCharts:', error);\n",
              "      }\n",
              "      quickchartButtonEl.classList.remove('colab-df-spinner');\n",
              "      quickchartButtonEl.classList.add('colab-df-quickchart-complete');\n",
              "    }\n",
              "    (() => {\n",
              "      let quickchartButtonEl =\n",
              "        document.querySelector('#df-d4f71e1f-a059-45d3-8f04-d700168ce073 button');\n",
              "      quickchartButtonEl.style.display =\n",
              "        google.colab.kernel.accessAllowed ? 'block' : 'none';\n",
              "    })();\n",
              "  </script>\n",
              "</div>\n",
              "\n",
              "    </div>\n",
              "  </div>\n"
            ],
            "application/vnd.google.colaboratory.intrinsic+json": {
              "type": "dataframe",
              "variable_name": "df",
              "summary": "{\n  \"name\": \"df\",\n  \"rows\": 8675,\n  \"fields\": [\n    {\n      \"column\": \"type\",\n      \"properties\": {\n        \"dtype\": \"category\",\n        \"num_unique_values\": 16,\n        \"samples\": [\n          \"INFJ\",\n          \"ENTP\",\n          \"ENFJ\"\n        ],\n        \"semantic_type\": \"\",\n        \"description\": \"\"\n      }\n    },\n    {\n      \"column\": \"posts\",\n      \"properties\": {\n        \"dtype\": \"string\",\n        \"num_unique_values\": 8675,\n        \"samples\": [\n          \"'This. When I lie it's to avoid an unreasonable response for something I did that was completely justifiable to me but if I was to try to justify to someone else they'd be too hung up on what I did. I...|||Your IQ (SD15): 128|||I typically have very difficult times maintaining friends I've come to realize. I've had people I talk to for years and I still don't want to talk to them... I DID, but then I just got bored of them,...|||An INTJ friend of mine told me she really hates eating because it's so repetitive. As an INTP I don't really feel bothered, I don't really register eating I just do it while I'm thinking about...|||Similar Minds Advanced Test|||INTP 9 sx/so I have a lot of friends but I only have one I speak about how I actually feel with and only 1 other that I talk about what I am actually thinking about - with regards to...|||Getting close to someone and end up wanting to be infinitely close to them and end up merging every damn time.|||Interesting topic, I know two ENFP's, 1 is strange, as an INTP I view some of the stuff she does as 'coming onto me'?  - sort of. She gets really close and is very open to me, just what ENFP's do,...|||As far as I'm aware this is normal in all people, it's not so much your pessimistic self but just that humans are social creatures and you will feel better after socializing for that reason. Being...|||Vajrayaksa  How dare you use Lelouch as an INTP! He is an INTJ I say!|||I normally think about doing this stuff but don't actually do it.|||You'll probably find that commenting on their nihilistic thoughts logically would make them more open. Dismissing ideas will merely make them agree with that idea more as they'll feel a need to...|||Don't worry, calling me thinker is the same.|||INTJ - Winter - Coldest ENTJ - Summer - Actually doing things ENTP - Spring - Bringing out the fun in people INTP - Autumn - No one ever notices this season|||I've known a couple ENTP's, one ENTJ and an INTJ and it kind of went ENTP>ENTJ>ENTP>INTJ I love being able to constantly talk with ENTP's but also they need to know when to stop talking, if an ENTP...|||If you mean actually 1v1ing yourself I also have done this, maybe I'm wrong but I find it pretty easy to think about the most logical move the player I am playing should make with the information...|||Gender: female Age: 19-29 Intelligence: gifted Idea adoption: early-adopter MBTI personality profile: ESFP Closest alternative we found: ESFJ  I think I killed it when it told me to write...|||I'm fine with them, I'm more on shortage of people I'd ever want to do them with but that's on the grounds that any socialising that could be done could just as well be done over skype without the...|||I used to use pencils then I was told that my teachers wanted me to use pens only - so I used pens only. I haven't used a pencil - excluding my games of naughts and crosses earlier - in a couple...|||I'd love to own either a calm house out somewhere distant with a porch and a log cabin aesthetic - fuck it, I want a log cabin. OR I'd actually really like the idea of being in one of those smokey...|||Yeah I enjoy listening to lyrics but it doesn't make much of a difference if they're present or not, if they are there they're just another part of the instrumental I don't necessarily listen to...|||More often then not someone is only going to be fully entering my world if they invite me into theirs first and it's similar or we're friends on the internet - because then there are few...|||What did you get me today?  My head = Shit, shit, shit what did I miss, is it your birthday? Was I supposed to get you something? Are we that good friends that I should be buying you stuff? I...|||I frequently say it as an off hand thing, someone does something really awesome and I say fuck yeah I love you man or something like that. If I was to say it in a genuine way then it'd feel really...|||So something strange has been happening recently, my interest was drawn to naughts and crosses and how I could make it more enjoyable to play. I started by increasing the grid size and tried...|||You could tell them your thoughts. You could not tell them your thoughts and continue to brew over it. I think that there's no reason to be ashamed or annoyed about anything and if you don't...|||loudly, whilst he drew his|||and the baby platypi quivered|||particularly in the higher regions|||Starting with a lingering feeling|||What's the point of stopping? Why does it matter what they're called? Guilty pleasures are pleasures for a reason, does it matter that much?|||their own god dam story|||post multiple times to do|||It's impressive how people would|||Maximum of five words per line, feel free to say other stuff in the most but make sure it's clear which is the five words.     Once upon a time in|||someone who appreciates c.c. Fuck yeah!|||Yeezus can't we come to a reasonable conclusion without you picking a fight? It's not being open minded.|||More often then not I judge them purely by how they judge me, I have a dark sense of humor that I'm not exactly secretive about, I get along with most people on the grounds that I'm just friendly to...|||I chose my avatar as it's an awesome art work of Kaneki from Tokyo Ghoul and by god I loved the manga, love tragedies. Name is a slightly altered version of my name, George - Georgius. Liked the Halo...|||Violence in this situation would probably be a faster way to get things done for both parties involved and especially on the receiving end, trying to talk sense into someone who just said something...|||But surely the point that everyone would be worse off initially isn't relevant? Rebuilding a system would obviously have it's issues here and there.  I'm not crying revolution and I'm not being...|||We'd call it Diagon Alley!|||I'm with you, I make a pretty big point of not being a person for people to expect feelings from, I want to be that person but I just feel wrong, someones crying their eyes out and here I am lying...|||Good call but that's just how I read it ^^'|||What about a four dimensional plane.|||Why airplane why not aeroplane?|||Hit them for having the expectation that you should live up to their expectations which is infuriating in and of itself probably.|||It's just because hitting a women is politically incorrect and some women will use that to their advantage.|||What he's saying is that they should assume that if they say something worthy of being hit for, that they should be grateful when they're not hit for it, not expect not to be hit just on the basis...|||Is it particularly common amongst INTP's and other types to just acknowledge another sides point of view even though socially you shouldn't. What I mean by this is I can't have conversation with...'\",\n          \"'I said zero flexibility and little time for dating. Going around sifting through dates to find one that clicks isn't going to be as viable.  That has nothing to do with maintaining a relationship I...|||How you've come to the conclusion I have nothing to offer  merely because I am busy is beyond me.       No not really. Again, more made up stuff.|||okay, this isn't cool.  you're specifically looking to get into a relationship because you're about to enter a life phase where you will not have any resources to give to a relationship?   that is...|||I do take it slow (that's why I'm still single), but I'm not interested in making friends. I  have friends. Enough for my liking. I'm interested in going on dates with the intent of entering a...|||Absolutely not for me. I find the idea repugnant, actually.|||People could have been polite. Maybe average is a more conservative bet. And I'm not claiming I'm a social butterfly. I'm just a normal guy who is introverted but not a social doofus.  I don't...|||I'm probably giving up the online thing here when my next subscription runs out. After that I really don't know where to look. Bars are a definite no. I don't understand where people meet their...|||I've tried both ways, actually. The last few women I have gone out with have gotten really weird and/or ignored my backhanded compliments. I don't know what to do anymore. Seems I get screwed either...|||I'm actually pretty healthy.     Sorry you feel that way. Not sure which ones you met, but assholes exist everywhere. The number isn't anywhere near 99% though.|||If anything I err on the side of being indifferent. Definitely not overeager.|||Yeah my close friends don't live near me anymore.  The issue is that I have been meeting people, a good amount, and nothing works. I want to know why it is that deformed, infirm, mentally unstable,...|||My friends are in worse positions than I am. Asking them isn't going to help.   As far as feedback, not really because that seems like an extraordinarily awkward thing to ask someone you barely...|||So, I'm a 26 year old male who has been striking out time and time again when it comes to relationships. I've been in one relationship my entire life that lasted like 1.5 years and ended when I was...|||I don't think this sort of dating method is very reasonable, and at best, it is counterproductive. Being friends first just throws a wrench in what is normally a smooth dating process. When you fear...|||Never was a kiss.|||I appreciate the feedback. I think I'm just going to tell her we shouldn't hang out unless she can dedicate a decent amount of time to it. What is happening right now is dragging things out and...|||I don't know. After thinking more, I'm on the verge of giving up. It has nothing to do with seeing her infrequently, or not making it official or what have you. It's that she keeps things...|||I don't know. I'm not a model or anything but I'm decent looking. She's drop dead gorgeous and nice and smart. Guys are always after her it seems. But I'm also smarter and have better career...|||I like your answer, but maybe I'm just being optimistic. It is basically, what I've been doing. I can't shake the feeling that she wouldn't be giving me any of her time if she weren't interested and...|||How am I supposed to know if an INFJ just wants to be friends? Things have been very weird with an INFJ I've been seeing. I've been very upfront about my intentions and she essentially told me she...|||Interesting. I find it unusual INFJs are known for taking forever to open up and trust people yet all the responses so far have indicated kissing in 3 or fewer dates....|||My INFJ friend has been with an INTJ, and i don't want to bust your confidence but even though she liked him at first, she soon found out that he was putting her down and felt caged. I can see that...|||Enlighten us infjs. Also indicate your gender and if you initiated.|||Well there was more than that. She also said she was basically trying to figure out if I'm trustworthy and decent.|||Those two things seem at odds. How can you be simultaneously not saying things that need to be said but also being proactively aggressive?|||Pretty much yeah. Women just do not enjoy my company on any level. I'm in the same situation. Never had any female friends, dated one person in my life and it lasted a little less than two years. The...|||I don't think that is going to help me dig myself out of the very clingy seeming hole I dug myself. I basically asked her if she knew I was romantically interested and she responded of course lol...|||I should have just let things proceed at a natural pace. Pretty pissed at myself. About zero chance she speaks to me again.|||I read through most of that thread. From what I can tell I never did anything egregious. Good chance she lost interest after my bluntness though lol.|||I broke that off shortly after my post. I felt like a slime ball. I only did it because people were telling me she's a lost cause and I should see other people. BTW I have a very well developed...|||Update on this. Told her I liked her and got no reassurance she liked me or even that she wasn't interested. Those who said she was ambivalent were right. I'm pretty much calling it off at this point...|||Yeah so I told her and didn't get an affirmation she liked me nor that she didn't. She basically said she had known for a while I like her. Pretty much what I expected. Probably going to call it...|||Is the crystal ball reference supposed to mean your guess is as good as mine or what? Edit: guess not :p|||So I've gone on six or so dates with an INFJ over a 3 month period (she's pretty busy, and me too) and recently I feel like progress has been a little glacial. For a bit I thought she was warming up...|||She hates texting.  And yeah, she told me how picky she was about people recently and that normally she wouldn't give anyone the time of day.|||You would literally have to have an autism spectrum disorder. I would know.  Not to mention you don't tell someone who is just friends how much you like them. That would be more than bizarre.|||It's kind of hard to get to the point of officially dating when you have no idea what is going on in her head. For all I know an attempt to kiss her would result in abject horror and assault...|||Spoke to her last night, she essentially said she likes me a lot and would normally never make any time for people unless she was obligated to. But she also indirectly used the word friend but it...|||So I met an INFJ female a while back, and we've been out like five or so times on a date. They go well, we get along, everything seems nice. I find her very attractive and we have quite a bit in...|||'  I don't know, I kind of have a rule that I don't compliment a female on her appearance until she trusts me. I did compliment her personality a few times.  She is extremely cautious from what I...|||Well, now I have a new question. Went on a second date a few days ago and it went well and she said she wanted to meet up again. The problem is, there hasn't been an ounce of flirting or touching...|||She started initiating with me and asked if I'm free soon. -_-    If there is anything to be learned it is don't play the analysis game. You will lose.|||Expectations of....?|||I don't know. I can't really fault a strong introvert for being wary about someone she doesn't really know. Number 2 is cruel, but it is how modern dating works.    Pretty sure this isn't the...|||I don't know. I can't really fault a strong introvert for being wary about someone she doesn't really know. Number 2 is cruel, but it is how modern dating works.    Pretty sure this isn't the...|||Thanks, option 1 seems most likely. It seems whenever I finally get her to open up there is like a cascade of good conversation that finally ensues, but it is like pulling teeth initially. Then I...|||I'm socially retarded and would know that if a random stranger asked for my contact info then asked me out for drinks or lunch then the person probably isn't interested in just being friends.|||So I shouldn't be deterred by the fact she doesn't really ever reach out to me? I don't enjoy appearing like someone who can't take a hint or who puts someone else in an awkward situation. I worry...|||No this seems to fit her pretty well.|||Thanks for the advice everyone. I appreciate your taking the time to respond.'\",\n          \"'This has to be written with bias or something, I'm not sure how you could even say that truthfully. For some reason you put subjectivity for both God and man? It says nothing.    That makes no...|||??? How?  The main priority of the church is written throughout it's texts for the past nearly 2000 years and reverberated throughout the church's dialogues both before and after the incident about...|||That's an annoying phrasing, as it's just obtuse and confusing to newcomers. I don't blame you for your response there.    Why must the revealed knowledge not speak truth but contain a bias...|||There are no priestly desk jobs. The closest thing you have to being a priest that gets you away from people is being a monk and that in itself is very different.  I am telling you they did it out...|||No, you really won't. You can't just go to an INTP and assume their intelligence level. That would end in failure. Don't be afraid to ask big questions when musing with the INTP and just try to...|||Heresy is, like, the core reason most all Christian in-fighting occurs. Everything else is minor disputes about theological opinions.|||That's exceedingly subjective. See what they're interested in, strike up a conversation about it. Definitely ask them their thoughts.|||To dismiss my concept of it is to dismiss all history on the topic, dismiss what the apostles taught, and literally all sects of Christianity. But fine, whatever.|||Do cool shit, discuss ideas, have patience, don't try to judge personally too quickly or control them. ALSO, make the first move to show you're interested in talking with them.|||I used to feel about the same until I read the book Self-Made Man, where a lesbian 'butch' woman dressed like a man and tried to live as one. She noticed herself being considered a feminine man quite...|||I'm not sure what the hell is going on in this thread but I would like to say I know no ENTJs personally, I don't think. It'd be neat, though.|||All churches are forms of political institutions. Catholic and Orthodox ones have the benefit of being centralized. All sects have declared doctrine in one way or another.  You're speaking against...|||And here is the most boring post in the whole thread.|||What part? If it's the idea of a teaching authority, you have a problem with all church until the 13th century. If it's the idea of a group being guided by the Holy Spirit in their decisions on...|||For Catholics, the church has a dual meaning. The whole of the believers (the Body of Christ) and the political institution. For Catholicism, their teachings of Christ are said to be protected by...|||Priests were relocated to other parishes so they may quiet down the criticism of the time and handle thing themselves. Again, poor decision but that was their decision.  The church's first priority...|||Well sure then. Yes, the church did protect child offenders. The church's reasoning was the image of the church itself and the their leadership's own ignorance of the size of the problem. The church...|||Edit: Based double post|||No, it really isn't. The Bible itself is the canon collection of texts. The Bible was established once the theological and historical work was done to establish the canon and it was not modified...|||Yes, nevermind it because the two claims do not contradict each other at all. I could work through how there is no contradiction if you're struggling.    I wouldn't say all, no. That's a...|||? There's no way to tell? But many of them depend on logic and/or history that contradicts or ruins their claims? Granted there are a few cases of we're yet to be able to know but many of it can...|||The problem of induction is a grand way of humbling yourself about scientific findings when you're younger. It brings into question if what we know is what we could call true.|||Rubix cubes.|||Pantheism makes no sense. I'd advise otherwise. Atheism and Abrahamic Theism are the only two rational choices.|||You, motherfucker.|||What is the meaning of everything? The universe exists. We are to learn to love in it.|||Disappointed 24 year old reporting in.  Good luck, OP.|||This is exceedingly naive. The early church, before scripture, applied their teaching to better society. After scripture, it was held in high esteem as a basis to properly better society. Most work...|||From the Catholic Catechism (list of official teaching) here is how we are to read the Bible:  III. THE HOLY SPIRIT, INTERPRETER OF SCRIPTURE   109 In Sacred Scripture, God speaks to man in a...|||I never liked people pointing to the Scandinavian model for the success of their economic system and not their incredible oil and natural resource supply compared to their small populations.|||While shit just got stupid for a moment. Lets try to get back on track.|||You're pretty smart, you know that?  Look at this fucker, she thinks I'm smart. Pfft.|||Exceedingly poor.|||I've just been told I'm bright, but I'm sure most everyone else says the same to the kids.|||And what of you?|||The most efficient way to remove self-doubt is to stop doubting yourself so much. Faith and trust, nigga.|||You suspect wrongly. I like the chatter and I'm being friendly with you. I seriously do hope you have a good day too.|||Indeed you do. Feel free to ask/argue/chat/or bullshit with me if you want. Have a good one, man.|||I'd say that's a stretch to say. Catholics believe the bible was inspired by God but written by men. Orthodox do too. As they assembled the biblical canon I'd have to say they have the greatest say...|||Edit: Welp.|||I see the arguments for inconsistencies. Sometimes they aren't actually inconsistencies. Sometimes they are. I find the simplest example of a true one being the rabbit that is apparently chewing...|||Sorry to take so long to get back to you, my internet has been screwing up horribly.  As for the answer, there was a considerable amount of things that got me off the atheist train but if I were to...|||The believing portion was a long and arduous process for me. I researched culture as a hobby and eventually I rolled around to religion. It was an interesting topic for me and I eventually began to...|||To your first statement... just... what. Where did that even come from? Of course they can know love, though with God they can know it fully, I'd argue.  As for Hell, it's taken a variety of...|||I'm very mixed on him. His criticism of Christianity (and envy, now that I've seen the video) is, while popular, piss poor and Max Scheler did a wonderful job making an argument otherwise on his...|||People believing in something as incontrovertibly true is what gets people into a murderous rage? Why just the incontrovertibly true? Why not the empirically true? Why not just majority opinion? To...|||Sure thing. Sounds sorta similar to the Epicurean Paradox.  Suffering/free will exists to strengthen the good. If you create a people so they may know love they cannot sincerely know love if they...|||Yo. Christian INTP here.  Anything you want?|||It's not we can make healthy children! it's we only let the healthy babies live! which is the issue. It's a moral issue about the innate value of life.|||249210'\"\n        ],\n        \"semantic_type\": \"\",\n        \"description\": \"\"\n      }\n    }\n  ]\n}"
            }
          },
          "metadata": {},
          "execution_count": 6
        }
      ],
      "source": [
        "df = pd.read_csv(\"Lab 2 - Personality Profile Type.csv\")\n",
        "df.head(10)"
      ]
    },
    {
      "cell_type": "markdown",
      "metadata": {
        "id": "r011madUUW41"
      },
      "source": [
        "### Data splitting"
      ]
    },
    {
      "cell_type": "code",
      "execution_count": 7,
      "metadata": {
        "id": "OIHm4Mb7UW42"
      },
      "outputs": [],
      "source": [
        "x = df.drop([\"type\"],axis=1)"
      ]
    },
    {
      "cell_type": "code",
      "execution_count": 8,
      "metadata": {
        "id": "_WhT_gmDUW42"
      },
      "outputs": [],
      "source": [
        "y = df['type']"
      ]
    },
    {
      "cell_type": "code",
      "execution_count": 9,
      "metadata": {
        "id": "jvNmzU3cUW43"
      },
      "outputs": [],
      "source": [
        "x_train, x_test, y_train, y_test = train_test_split(x,y,test_size=0.15,random_state=42, shuffle=True)"
      ]
    },
    {
      "cell_type": "code",
      "source": [
        "x_train, x_val , y_train, y_val = train_test_split(x_train, y_train, test_size=0.15, random_state=24, shuffle=True)"
      ],
      "metadata": {
        "id": "82UoJh_paW5R"
      },
      "execution_count": 10,
      "outputs": []
    },
    {
      "cell_type": "markdown",
      "metadata": {
        "id": "hqWVKi_GorxZ"
      },
      "source": [
        "### EDA on training data"
      ]
    },
    {
      "cell_type": "markdown",
      "metadata": {
        "id": "R1zxJpFxorxa"
      },
      "source": [
        "- check NaNs"
      ]
    },
    {
      "cell_type": "code",
      "execution_count": 11,
      "metadata": {
        "id": "HVEttSujorxa",
        "colab": {
          "base_uri": "https://localhost:8080/"
        },
        "outputId": "a3c0e6cf-e993-4a66-eba0-641796042770"
      },
      "outputs": [
        {
          "output_type": "execute_result",
          "data": {
            "text/plain": [
              "posts    0\n",
              "dtype: int64"
            ]
          },
          "metadata": {},
          "execution_count": 11
        }
      ],
      "source": [
        "x_train.isnull().sum()"
      ]
    },
    {
      "cell_type": "markdown",
      "metadata": {
        "id": "UwjbzVaIorxb"
      },
      "source": [
        "- check duplicates"
      ]
    },
    {
      "cell_type": "code",
      "execution_count": 12,
      "metadata": {
        "id": "J_FlBWISorxb",
        "colab": {
          "base_uri": "https://localhost:8080/"
        },
        "outputId": "33d406df-32cc-4bb6-87d5-a6f9ec7f093b"
      },
      "outputs": [
        {
          "output_type": "stream",
          "name": "stdout",
          "text": [
            "0\n"
          ]
        }
      ],
      "source": [
        "row_duplicated = x_train[x_train.duplicated()]\n",
        "print(len(row_duplicated))"
      ]
    },
    {
      "cell_type": "markdown",
      "metadata": {
        "id": "YjIBFc35orxc"
      },
      "source": [
        "- show a representative sample of data texts to find out required preprocessing steps"
      ]
    },
    {
      "cell_type": "code",
      "execution_count": 13,
      "metadata": {
        "id": "zGFKzSCRorxc",
        "colab": {
          "base_uri": "https://localhost:8080/",
          "height": 466
        },
        "outputId": "6060dc24-05b5-4d3b-e054-6d5e7409216c"
      },
      "outputs": [
        {
          "output_type": "execute_result",
          "data": {
            "text/plain": [
              "                                                                                                                                                                                                                                                                                                                                                                                                                                                                                                                    posts\n",
              "5899  'Sometimes, I think I love Spring, and then Fall comes to remind me why I love it instead.|||di.fm is my jam|||I feel like Business/Management/Marketing degrees are quite open to opportunity for the job seeker to embed him/her self into something they have a passion for. Most job fields require some form of...|||I went to school for Aerospace Engineering and to stick with my HS girlfriend. That led to imminent singularity, and my major turned into Electrical Engineering, which then turned in...\n",
              "7995  'Having some physical action in my life helps to revitalize me and reconnect me with the tangible world when I have absorbed myself for far too long in my thoughts.  I am with the other two guys on...|||I don't relate much to this other than that which is highlighted in bold, but here's what I got: __________________________________________________________________________________ Martial State  ...|||While I am not sure of being an ISTP myself, I deal with this frequently. I remember when I ...\n",
              "3530  'NomadLeviathan  Yeah, it can take this form as well. The hip-ratio is extremely important in regards to healthy childbirth, dating to our evolutionary past. As death during labor was common, mates...|||We love to eat. No doubt about that. I prefer the muscular, hydrated look compared to the ripped, thirsty look any day. Males look for someone healthy, who would be able to safely ensure the arrival...|||Peter  You would be wise to take a stab at this from another perspective. Say, if INFJs a...\n",
              "4535  'It sounds catchy although a bit condescending with genius. Maybe c-tard? C for capable.|||Am I allowed to call myself a rucking fetard?  On another note..I never considered mentally handicapped people retards. I think it sounds mean to call them retards, but I'm on the fence about...|||hmm so I just wasted time writing my post, since I had an entirely different definition in mind. I thought the word selfish simply meant focusing on self, did not know it means lack of consideration...|||Beca...\n",
              "4941  'I think saying, I like hanging out with you...we have a lot of fun or you make me laugh or you make me think or something of that nature would work better. Shows interest, doesn't assume that you...|||he sounds a little aspie to me...monologue-ing, poor boundary recognition, lack of social cues...  Just a thought since I have a teenage aspie at home, it seems familiar.|||Are you referring to the Contest?   https://www.youtube.com/watch?v=MhDa9RW0UQE|||Well, I hear you. I think it's mainly (..."
            ],
            "text/html": [
              "\n",
              "  <div id=\"df-68852938-879c-4919-b3c5-7e79642a0c17\" class=\"colab-df-container\">\n",
              "    <div>\n",
              "<style scoped>\n",
              "    .dataframe tbody tr th:only-of-type {\n",
              "        vertical-align: middle;\n",
              "    }\n",
              "\n",
              "    .dataframe tbody tr th {\n",
              "        vertical-align: top;\n",
              "    }\n",
              "\n",
              "    .dataframe thead th {\n",
              "        text-align: right;\n",
              "    }\n",
              "</style>\n",
              "<table border=\"1\" class=\"dataframe\">\n",
              "  <thead>\n",
              "    <tr style=\"text-align: right;\">\n",
              "      <th></th>\n",
              "      <th>posts</th>\n",
              "    </tr>\n",
              "  </thead>\n",
              "  <tbody>\n",
              "    <tr>\n",
              "      <th>5899</th>\n",
              "      <td>'Sometimes, I think I love Spring, and then Fall comes to remind me why I love it instead.|||di.fm is my jam|||I feel like Business/Management/Marketing degrees are quite open to opportunity for the job seeker to embed him/her self into something they have a passion for. Most job fields require some form of...|||I went to school for Aerospace Engineering and to stick with my HS girlfriend. That led to imminent singularity, and my major turned into Electrical Engineering, which then turned in...</td>\n",
              "    </tr>\n",
              "    <tr>\n",
              "      <th>7995</th>\n",
              "      <td>'Having some physical action in my life helps to revitalize me and reconnect me with the tangible world when I have absorbed myself for far too long in my thoughts.  I am with the other two guys on...|||I don't relate much to this other than that which is highlighted in bold, but here's what I got: __________________________________________________________________________________ Martial State  ...|||While I am not sure of being an ISTP myself, I deal with this frequently. I remember when I ...</td>\n",
              "    </tr>\n",
              "    <tr>\n",
              "      <th>3530</th>\n",
              "      <td>'NomadLeviathan  Yeah, it can take this form as well. The hip-ratio is extremely important in regards to healthy childbirth, dating to our evolutionary past. As death during labor was common, mates...|||We love to eat. No doubt about that. I prefer the muscular, hydrated look compared to the ripped, thirsty look any day. Males look for someone healthy, who would be able to safely ensure the arrival...|||Peter  You would be wise to take a stab at this from another perspective. Say, if INFJs a...</td>\n",
              "    </tr>\n",
              "    <tr>\n",
              "      <th>4535</th>\n",
              "      <td>'It sounds catchy although a bit condescending with genius. Maybe c-tard? C for capable.|||Am I allowed to call myself a rucking fetard?  On another note..I never considered mentally handicapped people retards. I think it sounds mean to call them retards, but I'm on the fence about...|||hmm so I just wasted time writing my post, since I had an entirely different definition in mind. I thought the word selfish simply meant focusing on self, did not know it means lack of consideration...|||Beca...</td>\n",
              "    </tr>\n",
              "    <tr>\n",
              "      <th>4941</th>\n",
              "      <td>'I think saying, I like hanging out with you...we have a lot of fun or you make me laugh or you make me think or something of that nature would work better. Shows interest, doesn't assume that you...|||he sounds a little aspie to me...monologue-ing, poor boundary recognition, lack of social cues...  Just a thought since I have a teenage aspie at home, it seems familiar.|||Are you referring to the Contest?   https://www.youtube.com/watch?v=MhDa9RW0UQE|||Well, I hear you. I think it's mainly (...</td>\n",
              "    </tr>\n",
              "  </tbody>\n",
              "</table>\n",
              "</div>\n",
              "    <div class=\"colab-df-buttons\">\n",
              "\n",
              "  <div class=\"colab-df-container\">\n",
              "    <button class=\"colab-df-convert\" onclick=\"convertToInteractive('df-68852938-879c-4919-b3c5-7e79642a0c17')\"\n",
              "            title=\"Convert this dataframe to an interactive table.\"\n",
              "            style=\"display:none;\">\n",
              "\n",
              "  <svg xmlns=\"http://www.w3.org/2000/svg\" height=\"24px\" viewBox=\"0 -960 960 960\">\n",
              "    <path d=\"M120-120v-720h720v720H120Zm60-500h600v-160H180v160Zm220 220h160v-160H400v160Zm0 220h160v-160H400v160ZM180-400h160v-160H180v160Zm440 0h160v-160H620v160ZM180-180h160v-160H180v160Zm440 0h160v-160H620v160Z\"/>\n",
              "  </svg>\n",
              "    </button>\n",
              "\n",
              "  <style>\n",
              "    .colab-df-container {\n",
              "      display:flex;\n",
              "      gap: 12px;\n",
              "    }\n",
              "\n",
              "    .colab-df-convert {\n",
              "      background-color: #E8F0FE;\n",
              "      border: none;\n",
              "      border-radius: 50%;\n",
              "      cursor: pointer;\n",
              "      display: none;\n",
              "      fill: #1967D2;\n",
              "      height: 32px;\n",
              "      padding: 0 0 0 0;\n",
              "      width: 32px;\n",
              "    }\n",
              "\n",
              "    .colab-df-convert:hover {\n",
              "      background-color: #E2EBFA;\n",
              "      box-shadow: 0px 1px 2px rgba(60, 64, 67, 0.3), 0px 1px 3px 1px rgba(60, 64, 67, 0.15);\n",
              "      fill: #174EA6;\n",
              "    }\n",
              "\n",
              "    .colab-df-buttons div {\n",
              "      margin-bottom: 4px;\n",
              "    }\n",
              "\n",
              "    [theme=dark] .colab-df-convert {\n",
              "      background-color: #3B4455;\n",
              "      fill: #D2E3FC;\n",
              "    }\n",
              "\n",
              "    [theme=dark] .colab-df-convert:hover {\n",
              "      background-color: #434B5C;\n",
              "      box-shadow: 0px 1px 3px 1px rgba(0, 0, 0, 0.15);\n",
              "      filter: drop-shadow(0px 1px 2px rgba(0, 0, 0, 0.3));\n",
              "      fill: #FFFFFF;\n",
              "    }\n",
              "  </style>\n",
              "\n",
              "    <script>\n",
              "      const buttonEl =\n",
              "        document.querySelector('#df-68852938-879c-4919-b3c5-7e79642a0c17 button.colab-df-convert');\n",
              "      buttonEl.style.display =\n",
              "        google.colab.kernel.accessAllowed ? 'block' : 'none';\n",
              "\n",
              "      async function convertToInteractive(key) {\n",
              "        const element = document.querySelector('#df-68852938-879c-4919-b3c5-7e79642a0c17');\n",
              "        const dataTable =\n",
              "          await google.colab.kernel.invokeFunction('convertToInteractive',\n",
              "                                                    [key], {});\n",
              "        if (!dataTable) return;\n",
              "\n",
              "        const docLinkHtml = 'Like what you see? Visit the ' +\n",
              "          '<a target=\"_blank\" href=https://colab.research.google.com/notebooks/data_table.ipynb>data table notebook</a>'\n",
              "          + ' to learn more about interactive tables.';\n",
              "        element.innerHTML = '';\n",
              "        dataTable['output_type'] = 'display_data';\n",
              "        await google.colab.output.renderOutput(dataTable, element);\n",
              "        const docLink = document.createElement('div');\n",
              "        docLink.innerHTML = docLinkHtml;\n",
              "        element.appendChild(docLink);\n",
              "      }\n",
              "    </script>\n",
              "  </div>\n",
              "\n",
              "\n",
              "<div id=\"df-35443251-d889-4ffb-83be-97607b071c54\">\n",
              "  <button class=\"colab-df-quickchart\" onclick=\"quickchart('df-35443251-d889-4ffb-83be-97607b071c54')\"\n",
              "            title=\"Suggest charts\"\n",
              "            style=\"display:none;\">\n",
              "\n",
              "<svg xmlns=\"http://www.w3.org/2000/svg\" height=\"24px\"viewBox=\"0 0 24 24\"\n",
              "     width=\"24px\">\n",
              "    <g>\n",
              "        <path d=\"M19 3H5c-1.1 0-2 .9-2 2v14c0 1.1.9 2 2 2h14c1.1 0 2-.9 2-2V5c0-1.1-.9-2-2-2zM9 17H7v-7h2v7zm4 0h-2V7h2v10zm4 0h-2v-4h2v4z\"/>\n",
              "    </g>\n",
              "</svg>\n",
              "  </button>\n",
              "\n",
              "<style>\n",
              "  .colab-df-quickchart {\n",
              "      --bg-color: #E8F0FE;\n",
              "      --fill-color: #1967D2;\n",
              "      --hover-bg-color: #E2EBFA;\n",
              "      --hover-fill-color: #174EA6;\n",
              "      --disabled-fill-color: #AAA;\n",
              "      --disabled-bg-color: #DDD;\n",
              "  }\n",
              "\n",
              "  [theme=dark] .colab-df-quickchart {\n",
              "      --bg-color: #3B4455;\n",
              "      --fill-color: #D2E3FC;\n",
              "      --hover-bg-color: #434B5C;\n",
              "      --hover-fill-color: #FFFFFF;\n",
              "      --disabled-bg-color: #3B4455;\n",
              "      --disabled-fill-color: #666;\n",
              "  }\n",
              "\n",
              "  .colab-df-quickchart {\n",
              "    background-color: var(--bg-color);\n",
              "    border: none;\n",
              "    border-radius: 50%;\n",
              "    cursor: pointer;\n",
              "    display: none;\n",
              "    fill: var(--fill-color);\n",
              "    height: 32px;\n",
              "    padding: 0;\n",
              "    width: 32px;\n",
              "  }\n",
              "\n",
              "  .colab-df-quickchart:hover {\n",
              "    background-color: var(--hover-bg-color);\n",
              "    box-shadow: 0 1px 2px rgba(60, 64, 67, 0.3), 0 1px 3px 1px rgba(60, 64, 67, 0.15);\n",
              "    fill: var(--button-hover-fill-color);\n",
              "  }\n",
              "\n",
              "  .colab-df-quickchart-complete:disabled,\n",
              "  .colab-df-quickchart-complete:disabled:hover {\n",
              "    background-color: var(--disabled-bg-color);\n",
              "    fill: var(--disabled-fill-color);\n",
              "    box-shadow: none;\n",
              "  }\n",
              "\n",
              "  .colab-df-spinner {\n",
              "    border: 2px solid var(--fill-color);\n",
              "    border-color: transparent;\n",
              "    border-bottom-color: var(--fill-color);\n",
              "    animation:\n",
              "      spin 1s steps(1) infinite;\n",
              "  }\n",
              "\n",
              "  @keyframes spin {\n",
              "    0% {\n",
              "      border-color: transparent;\n",
              "      border-bottom-color: var(--fill-color);\n",
              "      border-left-color: var(--fill-color);\n",
              "    }\n",
              "    20% {\n",
              "      border-color: transparent;\n",
              "      border-left-color: var(--fill-color);\n",
              "      border-top-color: var(--fill-color);\n",
              "    }\n",
              "    30% {\n",
              "      border-color: transparent;\n",
              "      border-left-color: var(--fill-color);\n",
              "      border-top-color: var(--fill-color);\n",
              "      border-right-color: var(--fill-color);\n",
              "    }\n",
              "    40% {\n",
              "      border-color: transparent;\n",
              "      border-right-color: var(--fill-color);\n",
              "      border-top-color: var(--fill-color);\n",
              "    }\n",
              "    60% {\n",
              "      border-color: transparent;\n",
              "      border-right-color: var(--fill-color);\n",
              "    }\n",
              "    80% {\n",
              "      border-color: transparent;\n",
              "      border-right-color: var(--fill-color);\n",
              "      border-bottom-color: var(--fill-color);\n",
              "    }\n",
              "    90% {\n",
              "      border-color: transparent;\n",
              "      border-bottom-color: var(--fill-color);\n",
              "    }\n",
              "  }\n",
              "</style>\n",
              "\n",
              "  <script>\n",
              "    async function quickchart(key) {\n",
              "      const quickchartButtonEl =\n",
              "        document.querySelector('#' + key + ' button');\n",
              "      quickchartButtonEl.disabled = true;  // To prevent multiple clicks.\n",
              "      quickchartButtonEl.classList.add('colab-df-spinner');\n",
              "      try {\n",
              "        const charts = await google.colab.kernel.invokeFunction(\n",
              "            'suggestCharts', [key], {});\n",
              "      } catch (error) {\n",
              "        console.error('Error during call to suggestCharts:', error);\n",
              "      }\n",
              "      quickchartButtonEl.classList.remove('colab-df-spinner');\n",
              "      quickchartButtonEl.classList.add('colab-df-quickchart-complete');\n",
              "    }\n",
              "    (() => {\n",
              "      let quickchartButtonEl =\n",
              "        document.querySelector('#df-35443251-d889-4ffb-83be-97607b071c54 button');\n",
              "      quickchartButtonEl.style.display =\n",
              "        google.colab.kernel.accessAllowed ? 'block' : 'none';\n",
              "    })();\n",
              "  </script>\n",
              "</div>\n",
              "\n",
              "    </div>\n",
              "  </div>\n"
            ],
            "application/vnd.google.colaboratory.intrinsic+json": {
              "type": "dataframe",
              "summary": "{\n  \"name\": \"x_train\",\n  \"rows\": 5,\n  \"fields\": [\n    {\n      \"column\": \"posts\",\n      \"properties\": {\n        \"dtype\": \"string\",\n        \"num_unique_values\": 5,\n        \"samples\": [\n          \"'Having some physical action in my life helps to revitalize me and reconnect me with the tangible world when I have absorbed myself for far too long in my thoughts.  I am with the other two guys on...|||I don't relate much to this other than that which is highlighted in bold, but here's what I got: __________________________________________________________________________________ Martial State  ...|||While I am not sure of being an ISTP myself, I deal with this frequently. I remember when I was in my 10th grade Chemistry class, there were a few classmates that always talked amongst themselves...|||When talking to someone can be as equally draining as running a half-marathon.|||I think possibly an IxFP type.|||The world would definitely be less exciting. All that Se-domination!|||You have no idea how stupid this sounds to me and many others right now.|||How does being a Christian relate to telling your children about Santa Claus? I agree with children being able to exercise their imagination else wise, but I don't understand your second statement.|||How do you handle the idea that you will eventually die? It's inevitable and pointless to fear. Just love life, friends, and family. Since the possibility exists for you to die in the next second,...|||There's nothing wrong with wanting to know why, but you need to not over analyze it. It is simply fun.  I personally care very little for watching sports on TV, but if other people enjoy it, then...|||If I should interpret it correctly, I believe it to mean that INTPs are more than likely to drift into becoming negative existentialists since they are constantly analyzing for what life is really...|||Sounds more like an ESTJ, however the information you provided is very little.  I would suggest thinking on how he makes his decisions. Are they based on group-consensus (Fe) or on defined...|||I think he summed it up pretty nicely. You may change the environment that human nature acts in, but you will never change human nature itself.|||Or you could say nothing at all since if you care enough about the relationship, you will learn to compromise your impulsive desires with your overall desire for a harmonious relationship.|||Hi Panda. I think you need to listen to that saying, If everyone has a problem with Bob, then Bob is probably the problem.  I understand you may be under an intense amount of stress in your life....|||Well I answered your question. :)|||To answer your question, I would need to understand what standard you are using to say that extroverts are better than introverts. Since you haven't labeled this so clearly, I can only theorize and...|||Well, this is an interesting thread and I am glad it is here. I have been wrestling with my type for a long time and I hope that anyone who has seen my posts would either confirm me being an INFJ or...|||I can relate.|||Sherlock is a good show. I approve this message.|||Is she yes and then no?  How about in and then out?  Up and then down?|||Care to elaborate on what you mean there? I believe by emergent you mean a structure being generated from a new source other than an existing structure? Also, I never said S and P were in the same...|||True. I do tend to jump to conclusions. More information would be good.|||Absolutely l. You have such a short life to live. Enjoy it as much as you can and love who you are - with the exception that if you could be Batman. Always be Batman. Lol  Sounds like you have had...|||Patience, Yago. Patience...  I would definitely assert your type as INFP and here's why:  1. Introverted Feeling: You mention a desire to be sincere, but being afraid to share your own feelings...|||Usually INTJs have very little interest in their physical surroundings just due to the order of their functions. Introverted Sensing creates a desire in the user to replicate past environments since...|||First, before I give you my answer, I would like to indicate that your current condition may actually be concealing your true identity as a person. I am sorry to hear that you have had very little...|||I am sorry to hear that she said that to you, but I have to admit the directness is pretty funny. I enjoy some dark humor, so I had to smirk a little at this one.  Now, for her type: ISTJ all the...|||If your pattern of communication remains constant, you definitely have Extroverted Sensing as at least your auxiliary function. You are very direct and do not try to dress up your words.  Also, I...|||I am kind of confused because here is a man that hates rules and structure whilst hating change? That's sort of a contradiction in my opinion since rules and structure fall under the umbrella of...|||I am going with ENTP based on the arguments previous posters have made.  Also, is English your first language? Were you using a phone or other electronic device when typing this post? I seriously...|||This seems rather confusing to me. Part of me wants to say that he is an FJ type, but I am not sure. Just because someone is an introvert does not mean that they can't enjoy social interaction. Just...|||Passive aggressive? Where the hell are you picking that up from? I don't think anyone is really offended here. lol  They are just trying to show you another perspective. But again, you are venting....|||You obviously have just started learning about Jung and MBTI. Thinking types are very capable of being influenced by their emotions just as Feeling types can be influenced by their logic. We all have...|||I'll definitely have to give him a look. Thanks for the heads up.|||No problem. My point about the lengths of posts was not to address that topic itself, but rather the form of argument you took against the notion.  On your response to my comments on Ti-dominance,...|||I think you are an INTP and here's why:    Introverted Thinking logic: If people that consider themselves to be INTJs can write long posts and INTPs short posts, then that means your argument is...|||I just tried this. Holy crap! Get out of my head! lol  This theory does show some credibility and oddly enough some surprise. I like it.|||I am inclined to agree with drmiller100.|||Yeah. I've had a couple of people on these forums type me as an ENFJ and I most certainly am not an Fe-dom, let alone an extrovert. I come off as more of a cold person to plenty of people until they...|||Almost everyone starting out in something as complicated and abstract as personality typing can be confused. We have all been there. lol  Looking at your post, you come across as an Fe user. Let me...|||Just think of the following:  Ni - Big picture.  Si - Living in the immediate present with very little thoughts on the future (in terms of changing the outside world in one way or another).|||Well, until the logic adds up differently, I am going with INFJ for the following reasons:  1. I want my life to be for the betterment of this world. As much as I want to enjoy my life, I want...|||I'm sort of along the lines of jbking here, but I am going to explain why much of grade school is useful:  1. History: While I now have a skepticism about almost everything, much of what we learn...|||I apologize. When I was mentioning the anomaly, I was referring to either a more preferred use of Ti over Fe possibly.|||Anybody at all?|||Ok. I just wanted to either have a reaffirmation or correction of my type. I had someone help me through PMs and he said that I am a possible INFJ. However, I don't completely agree with that since I...|||I'm actually offended by the thought that you are using no standard to measure by that which N's are better than S's. There are skills that will come easier to someone with an Intuiting function,...|||I don't think I have much of a problem discerning between N's and S's. The difference is usually clear.|||I'd say as you understand the Jungian functions and MBTI over time, you will understand the types much more. I know I have and I have been studying this stuff for about 2-3 years now. It is much more...'\",\n          \"'I think saying, I like hanging out with you...we have a lot of fun or you make me laugh or you make me think or something of that nature would work better. Shows interest, doesn't assume that you...|||he sounds a little aspie to me...monologue-ing, poor boundary recognition, lack of social cues...  Just a thought since I have a teenage aspie at home, it seems familiar.|||Are you referring to the Contest?   https://www.youtube.com/watch?v=MhDa9RW0UQE|||Well, I hear you. I think it's mainly (a) and (d). People have a hard time being empathetic if they haven't experienced it.  That said, I was plenty scared of this woman. Maybe not physically; but,...|||I had one at work too. It was more than annoying and unpleasant. I couldn't stand the sight of her after a while...hate is a strong word, but, man I disliked being around her. And the weird thing is...|||Well, that'll do it. He probably has stayed cordial with you so that you won't sneak into his house a make rabbit stew...  http://hardymag.com/wp-content/uploads/2010/05/boilrabbit.jpg|||Maybe this applies to women, but in general for men (especially young men), we're talking about the second layer.   A discussion about male orbiters popped up in the ISTJ forum a while back and it...|||jddg5wa  Orbiting refers to people who circle around a love interest through friendship, favors, and emotional support with the hope that someday the love interest will see the light and love...|||I've seen your posting pattern over the past month or two and it's obvious...you know what I'm talking about.  Fact: You like the INTJ girl in that way and she doesn't (i.e., unrequited love). ...|||I have to plan and develop goals to help me move forward. Action toward solving a problem works wonders. Oh, and alcohol...the experts warn against it, but it worked for me ;-)|||Can you believe that once upon a time I was a stander and naturally evolved into a sitter?  True story.|||Dude, you're orbiting. And what's obvious to me, is that you're judging your friend for her choice of a new boyfriend that's not you. Just stop.   ...|||I think this works really well to clearly state your thoughts to your partner, especially for LDRs. I would perhaps tell him your plan ahead of time and get his thoughts about sending this...|||He needs a purpose.   https://www.youtube.com/watch?v=ymucqmjJs20|||Don't be jealous that we have an in-built excuse for our immaturity. Some of us don't ever grow up, so I suppose the 65 is an average.|||Fixed it for you.  C'est la vie...|||I can't be ass-bothered to really pinpoint it, but I'm with lilysocks on her read. Something is off. You could read it either way, but, truly, we'll never know. I think marital counseling would be...|||I agree with you wholeheartedly here. A good relationship involves intimacy which requires vulnerability. It's a risk no doubt, and uncomfortable at times. But necessary.     Yep, definitely a...|||I thanked your post specifically for this comment alone. I do this all the time. It's my primary coping mechanism, believe it or not.|||Pfffft...that doesn't come close to an old thread! Try this one (with poll!): http://personalitycafe.com/intj-forum-scientists/43545-intjs-what-your-love-languages.html  oh...and there is this one...|||In other words, what  Swede and  Green Girl are saying is...relax, breathe, enjoy what you have by letting go of the anxiety and fear. It will come...It will come...  264778|||The only surefire way to truly know whether or not he will stray is to subject his penis to an online MBTI test. Once we type it, then we can predict what he will do (or not do) while traveling.|||I know...I'm an excellent lurker. o_O|||Hey Sela! Nice to see you drop in...  *hugs*  (I just wanted to see you faint)|||I've always been pretty physical with my love interests...I like giving hugs and kisses, holding hands, playful smacks on the rear, snuggling on the couch, etc. I'm getting better at verbal...|||Here's an INTJ conversation flowchart that I think will help INTPs:  252226|||It sounded like you which made me laugh.     You were correct on most of them. In order from left to right, top to bottom:  Andy Rooney George Carlin Socrates William Jennings Bryan|||Well, apparently we have an outlandish definition of friendly that we operate on. So...|||243058  I think that you are just outside of the top ten. And that's just because of the outdated sexist notion that women cannot be curmudgeons as well.  I also got a kick out of this article...|||Thank you--welcome to the INTJ mind. In actuality, you've gotten some good information (some of it in just how we think and respond) from those who have posted, if you're open to receiving and...|||Interesting that you interpreted my response as rude. As @jeb stated, you misinterpreted my motivations. As anyone who still remembers me from around here will tell you, I have a pretty direct...|||andy969  My feeling is what's the fucking point? If it's not to garner my interest despite the fact that I'm in a committed relationship, then why say anything? It won't affect my romantic...|||Nope. For two reasons: (1) I don't tend to look back very often so the knowledge doesn't really matter; and (2) when I'm in a committed relationship, then I'm all in...I would prefer not to hear that...|||Obviously, you are having problems communicating about your respective roles in the relationship, much of which could probably be traced to your re-entry into the workforce. I suspect that you are...|||When I was younger, I kind of went for the opposite type. None of them worked out all that well, including my marriage (ESTP-can't get anymore opposite than that really). Now that I'm way older, I'm...|||I've always respected Smokin' Joe...he got a really raw deal from Muhammad Ali, in my opinion. Joe has a big heart (it shows in the ring as well as the clip you shared) and Ali disrespected him. ...|||Me too. Lol! I knew it was a lost cause from the beginning.|||Hahaha! Why do I feel like I just watched a conversation of a 15 year old? Oh yeah, I live with some...their level of reasoning and comprehension seems comparable. And then she blocked him without...|||Yeah, it's First Class Meeting Stupor syndrome from students. No doubt you'll be good. :)  I miss teaching. :-/|||Good luck! Make sure to have fun ... and always fall back on You know, that's a good question and I don't know the answer. I'll check and get back to you. Lol!|||TBH, I wonder how much this is related to being in an LDR. In these types of relationships, it seems like everything has to be verbalized, especially since it's very easy for insecurity to seep in...|||Damnit! One of my favorite popcorn eating threads (http://personalitycafe.com/gossip/170748-return-infamous-tell-member-thread.html) was closed once again ... just when the drama was heating up too!...|||After reading through this thread, here's how I would summarize:  OP...  https://farm4.staticflickr.com/3837/14999386876_cabbaa32dc_o.gif  And to the INTJ in question: ...|||I wish I could, but I'm a grown-up now ... Too many things to get done!|||Dear ISTJ,  Thanks for being in my life. You're so beautiful, inside and out; I'm one damn lucky guy.  https://farm6.staticflickr.com/5596/14806671069_59f61c5f2a_o.gif  Your INTJ|||Thanks niss :) I've been around here and there...not much has been going on in this thread, which is where I usually stick my nose in! What happened to all those ENFPs that were stumbling in here...|||I think that it is a natural progression for our children, particularly our sons, to pull away from us. It's important that they develop their own identity and path in life independent of their...|||How old is your son, may I ask?|||I completely agree. With INFJs, the difference is subtle...you think you are on the same page because you see the same things, but you can come to completely different conclusions! And with ENTPs,...|||Is it just me or does the Te/Fi + Ti/Fe combination mix like oil and water? So many misunderstandings...'\",\n          \"'NomadLeviathan  Yeah, it can take this form as well. The hip-ratio is extremely important in regards to healthy childbirth, dating to our evolutionary past. As death during labor was common, mates...|||We love to eat. No doubt about that. I prefer the muscular, hydrated look compared to the ripped, thirsty look any day. Males look for someone healthy, who would be able to safely ensure the arrival...|||Peter  You would be wise to take a stab at this from another perspective. Say, if INFJs and INTJs innately know things, beyond our control, as we are receivers of thoughts and feelings by others,...|||I hear ya.   But then ask yourself; How do I know what I know?   And watch yourself navigate that rabbit hole.|||You have to learn the rules of the game. And then you have to play better than anyone else. - Albert Einstein  Although this is true;   The world is a dangerous place to live; not because of the...|||Ethanol  Although I'm an atheist, I highly respect the Jesus figure. But, don't limit your personal philosophy to just the Christian savior figure. From Krishna, Horus, Muhammad, to Buddha, all of...|||Peter   What's interesting to me is the way you dealt with these situations. I think it's a very typical INFJ way. Not my way of dealing with these kinds of things, but since it worked for you,...|||The replies were everywhere! From personal psychology, to religion, to personal anecdotes, and everything in between. But, I think this thread contains a plethora of information that can help anyone...|||I hear you, fam.  What are you doing to help?   With such a wide array of problems, one would be best served to devote yourself to a specific mission, rather than take on all of the worlds...|||Peter   If you're still on this in light of everything that has been posted, then I digress.   Sure, my parents were shitty growing up. Though I justified this by understanding that their...|||He's an anomaly for sure. I'd say once you get to a certain level of freedom, you could interact with anyone and everyone in the method of your choosing.   From Ghandi, Mlk, Albert Einstein, all...|||Yeah, I think this is a false narrative, based upon preconceived notions trying to box everyone. It is important that we judge specific mannerisms and actions, rather than just look at what they have...|||I believe Fedor was also an INFJ. Fedor being of course, the greatest of all time. Here he is.356082  Quotes that lead me to believe he's an INFJ;  A fighter, a real strong fighter should always...|||Watch this if you're still uncertain. Watch his eye movements, tone of voice affectations, irritability, all the while trying to remain calm and collected.  ...|||I'm uh, pretty buff. You guys aren't lucky enough to get a pic though ;)  But, we're out there.   Ever heard of GSP, only the second greatest MMA fighter of all time. Plus I've posted Kai Greene,...|||Haba Aba Daba Aba  Yes, I have listened to the podcast. What seems short sighted? They opened with remarks stating that their views were remarkably similar, in order to provide context for those...|||therandomsciencegirl  What seems unlikely?   It is generally argued that our sense of free will presents a compelling mystery: on the one hand, it is impossible to make sense of it in causal...|||Abraham Law   Give it a shot! If you find yourself judging someone unfairly, try to imagine yourself in their shoes.   https://www.youtube.com/watch?v=7_5A8Q_Tzc4|||Is Free Will a Magic Trick?\\u00c2*|\\u00c2*Melissa Burkley, Ph.D.  [url=http://freewill.projekti.ifzg.hr/?page_id=30]People | Free Will, Causality and Luck ...|||The word x93spiritx94 comes from the Latin spiritus, which in turn is a translation of the Greek pneuma, meaning x93breath.x94 Around the 13th century, the term became bound up with notions of immaterial...|||On the surface in day to day conversation, yes.   When planning future goals, or meditating about past events, no. I am urging folks to look below the surface, and into their past motivations.  ...|||Did you choose to attend the college you are enrolled or graduated from? If so, what made you choose to go there?   Was it financial reasons, parents wishes, proximity to home? If so, how did these...|||Read the entirety of the post please. I did not refute the claim that we are not responsible for our actions, but rather that we do not will them in to being. This has delved into a debate over...|||You just posted a summary of my entire post, agreed with me, and then told me to take it deeper...   So I will.   When talking about awareness, most of us identify with our awareness through the...|||Felidire  If I were to claim that 'we're free to consciously perceive and act with the parameters of our own individual minds', would you refute that?   Yes, I would. I would claim that the...|||Peter  The idea that free will is making choice based on,..... nothing,... is wrong. I know it is what we want to believe what free will is. But that doesn't even make sense. You can not make a...|||Felidire  One of the most common objections to my position on free will is that accepting it could have terrible consequences, psychologically or socially. This is a strange rejoinder, analogous...|||Peter   https://www.youtube.com/watch?v=iRIcbsRXQ0o|||This post is just a tad deeper than the Zeitgeist, my friend.   The Christian religion was developed in response to Egyptian domination over the Levant, circa 600 BCE. In order to regain control...|||Now read your post again, but exchange the words God or Yhwh, with Horus - the Egyptian deity of God's son who would be murdered on earth, and be resurrected, ascending to rule the afterlife.    I...|||Recent studies in neuroscience have proven that our actions are perceived by our brain a full 10 seconds before a thought/feeling/image are generated. Normally, we believe that we are the controller...|||https://www.youtube.com/watch?v=EEzGekC1044|||If anyone needed any motivation, please listen to this guy. He's an inspiration to myself and many others, whether or not you find bodybuilding attractive. The activity is more than meat heads...|||You all should take the time an really consider the implications of an Omnipotent creator.  Listen to fellow INFJ, Sam Harris. If you're interested, look into his books; Waking Up, and Letters To A...|||https://www.youtube.com/watch?v=bi2yw1N2el8|||No problem!  Heck, I'd kill to be around INFPs and INTPs all day. Just wait till you get out in the real world, and you're surrounded by ESTJs and ENTJs. :sad:|||I thought that you had the magical ability to control how you feel. Why are you unhealthy? Why did the post make you angry?   I kid, I kid. Happy birthday, hang in there. A word of advice - quit...|||For sure. Especially when I was a teenager. My cheeks would get all red, and i'd look super flustered. So now I have a beard...|||Do your research. Check erowid for guides and such. Try to do it either alone, or with really good friends(not freinenemies). It can be a life changing experience, in the very best way possible. But...|||Try to do as much as I can. I can become an adrenaline junkie for short periods of time. Been skydiving, snowboarding and all that good stuff. Also have trained/competed in many sports/martial arts;...|||https://www.youtube.com/watch?v=V7SdWGPrJwA|||https://www.youtube.com/watch?v=9aVs-pRTE9M|||Please show me the way Master deflowering:perc3:|||INFJ 5w4  Definitely love hip hop more than any other genre. The free flow form allows for ideas to be expressed in a way that can only be done with many words spoken quickly, with purpose. I enjoy...|||We are the byproduct of a lost civilization, which died off during the last ice age. Archaeological evidence points to the Sphinx, G\\u00f6bekli Tepe, and the Ancient Mexican temples all to being at least...|||Definitely Slytherin. INFJ here btw. Though, I'd be like a double agent when crap started to go down. Severus Snape ftw!|||Depends on the situation. Sometimes dark/mean if I'm trying to convey a message. Childish if in a fun, relaxed environment. Although, I've always been the one to bully the bully, so to speak. I was...|||Philip Larkin This Be The Verse  They fuck you up, your mum and dad.   They may not mean to, but they do. They fill you with the faults they had   And add some extra, just for you.  But they...|||Henry Taylor Riding A One-Eyed Horse  One side of his world is always missing. You may give it a casual wave of the hand Or rub it with your shoulder as you pass, But nothing on his blind side...|||Say everything on my mind. What I do end up saying gets lost in translation anyways, so who cares. I'm not always super judgmental except when something is absolutely ridiculous, so I wouldn't be...'\"\n        ],\n        \"semantic_type\": \"\",\n        \"description\": \"\"\n      }\n    }\n  ]\n}"
            }
          },
          "metadata": {},
          "execution_count": 13
        }
      ],
      "source": [
        "x_train.tail()"
      ]
    },
    {
      "cell_type": "markdown",
      "metadata": {
        "id": "UqdSUtbdorxd"
      },
      "source": [
        "- check dataset balancing"
      ]
    },
    {
      "cell_type": "code",
      "execution_count": 14,
      "metadata": {
        "id": "JBHrSvXhorxd",
        "colab": {
          "base_uri": "https://localhost:8080/"
        },
        "outputId": "9c25490a-c45e-4021-8e91-2c37aaf05705"
      },
      "outputs": [
        {
          "output_type": "execute_result",
          "data": {
            "text/plain": [
              "type\n",
              "INFP    1324\n",
              "INFJ    1071\n",
              "INTP     896\n",
              "INTJ     794\n",
              "ENFP     508\n",
              "ENTP     494\n",
              "ISTP     245\n",
              "ISFP     198\n",
              "ENTJ     174\n",
              "ISTJ     151\n",
              "ENFJ     135\n",
              "ISFJ     114\n",
              "ESTP      64\n",
              "ESTJ      34\n",
              "ESFP      34\n",
              "ESFJ      31\n",
              "Name: count, dtype: int64"
            ]
          },
          "metadata": {},
          "execution_count": 14
        }
      ],
      "source": [
        "y_train.value_counts()"
      ]
    },
    {
      "cell_type": "markdown",
      "metadata": {
        "id": "x3wl_crkorxd"
      },
      "source": [
        "- Cleaning and Preprocessing are:\n",
        "    - 1) Remove any numbers\n",
        "    - 2) Remove URLs, mentions, and hashtags\n",
        "    - 3) Remove contractions\n",
        "    - 4) Remove punctuation marks\n",
        "    - 5) Remove non-ASCII characters and special symbols\n",
        "    - 6) Lowercase\n",
        "    - 7) Stop Words\n",
        "    - 8) Stemmer\n",
        "    - 9) Tokenizer"
      ]
    },
    {
      "cell_type": "markdown",
      "metadata": {
        "id": "XyJkqK9gorxe"
      },
      "source": [
        "### Cleaning and Preprocessing(data train)"
      ]
    },
    {
      "cell_type": "code",
      "execution_count": 15,
      "metadata": {
        "id": "iF_RMnL4UW4_"
      },
      "outputs": [],
      "source": [
        "# Remove any numbers\n",
        "x_train['posts'] = x_train['posts'].apply(lambda x:re.sub('\\d+',\"\",x))"
      ]
    },
    {
      "cell_type": "code",
      "execution_count": 16,
      "metadata": {
        "id": "WuGbW4ZOUW4_"
      },
      "outputs": [],
      "source": [
        "# Remove URLs, mentions, and hashtags\n",
        "x_train['posts'] = x_train['posts'].apply(lambda x: re.sub('http\\S+|www\\S+|@[^\\s]+|#\\S+',\"\",x))"
      ]
    },
    {
      "cell_type": "code",
      "execution_count": 17,
      "metadata": {
        "id": "sdY7Cr-vUW5A"
      },
      "outputs": [],
      "source": [
        "def preprocess_text(text):\n",
        "    # Remove contractions\n",
        "    expanded_text = contractions.fix(text)\n",
        "    # Remove punctuation marks\n",
        "    cleaned_text = expanded_text.translate(str.maketrans('', '', string.punctuation))\n",
        "    return cleaned_text"
      ]
    },
    {
      "cell_type": "code",
      "source": [
        "x_train['posts'] = x_train['posts'].apply(preprocess_text)"
      ],
      "metadata": {
        "id": "lBZFwUejden0"
      },
      "execution_count": 18,
      "outputs": []
    },
    {
      "cell_type": "code",
      "source": [
        "# Remove non-ASCII characters and special symbols\n",
        "x_train['posts'] = x_train['posts'].apply(lambda x: re.sub(r'[^\\x00-\\x7F]+',\"\",x))"
      ],
      "metadata": {
        "id": "o2VbSI45dk9M"
      },
      "execution_count": 19,
      "outputs": []
    },
    {
      "cell_type": "code",
      "source": [
        "#Lowercase\n",
        "x_train['posts'] = x_train['posts'].apply(lambda x: x.lower())"
      ],
      "metadata": {
        "id": "1US0z-Djd0zs"
      },
      "execution_count": 20,
      "outputs": []
    },
    {
      "cell_type": "code",
      "source": [
        "stop_words = stopwords.words('english')"
      ],
      "metadata": {
        "id": "CsC8nHw3ebTj"
      },
      "execution_count": 21,
      "outputs": []
    },
    {
      "cell_type": "code",
      "source": [
        "stemmer = PorterStemmer()"
      ],
      "metadata": {
        "id": "aBms_oireuXM"
      },
      "execution_count": 22,
      "outputs": []
    },
    {
      "cell_type": "code",
      "source": [
        "# function to stem each word in a posts\n",
        "def stem_words(text):\n",
        "    # split post to words\n",
        "    words = text.split()\n",
        "    # Stem each word using the  Stemmer\n",
        "    stemmed_words = [stemmer.stem(word) for word in words if word.lower() not in stop_words]\n",
        "    # Join the stemmed words back into a single string\n",
        "    stemmed_post = ' '.join(stemmed_words)\n",
        "    return stemmed_post"
      ],
      "metadata": {
        "id": "g9haI42Wemfp"
      },
      "execution_count": 23,
      "outputs": []
    },
    {
      "cell_type": "code",
      "source": [
        "x_train['posts'] = x_train['posts'].apply(stem_words)"
      ],
      "metadata": {
        "id": "5G9HBBJwfZtw"
      },
      "execution_count": 24,
      "outputs": []
    },
    {
      "cell_type": "code",
      "source": [
        "x_train.head(50)"
      ],
      "metadata": {
        "colab": {
          "base_uri": "https://localhost:8080/",
          "height": 1000
        },
        "id": "WhEhI2x-gJqR",
        "outputId": "6f71a1cc-8bd4-4bbd-a5a6-b1729c6c06f3"
      },
      "execution_count": 25,
      "outputs": [
        {
          "output_type": "execute_result",
          "data": {
            "text/plain": [
              "                                                                                                                                                                                                                                                                                                                                                                                                                                                                                                                    posts\n",
              "6131  thought meant liter rewrit physic base scientif endeavor lame cannot help goodbyei hate everyth intpgoddamn hate oblivi se wrong forum thank perc let delet postsoh waitwtfi probabl nine herei add asperg gadsad consequ also avpd could help whether istj still question ask well realli cope enjoy sleep anyth way feel like shit take around hour feel like shit infp see everyon monster kidnap tortur realli cannot help ok guess video link workit depress imagin day someth like would dead actual want ...\n",
              "8109  ue sale x well worn sens self control easi abus disciplin requir ideal slow learner regret sale due current owner move outer space allwhen young would imagin way charact role fairli often see get sure find part scan tendenc acut view thingsevolv without constraintpunctu ongo battl tri rationalis thing work often refus put key belongjust retreat back give opportun kick around score extra point name mario super way canonc around seven brother five dismantl local bank branch whilst mom thing qu...\n",
              "7441  rememb thing make sens like datainfo make pattern fit someth bigger logic pathconclus etc thing person find uninterest awfulh narcissistsociopath mbti appli peopl person disordersi want see realli matter shoe collectionbrilli respons rolleyesskim first page might repetit love netflix like watch tv show without commerci break fit watch schedul instead thewhi post question advic forum type person problem look address person problem relat peopl opinion trump thebett time almost step shit right ...\n",
              "2538  relat invers spend absurd amount time tri beat imposs video game put someth like sudoku front end crush page eatingi idea name thank ton link got one thing read aboutfin someon understandssnor horribl tri use cellphon alarm mine set vibrat feel alarm hear might worth shot could wear earplug copypasta delici one timesnow feel bad crack knuckl back time actual kill joint though knowfor sound someon chew especi look shoulder tri tell someth make feel like need go destroy planet idea butpretti m...\n",
              "8595  never know right wrong discuss frazzl oppon argument like matinalsmoothi act like right wrong belief father andit definit harder manipul thinker feeler want manipul thinker prone logic want understand want thing getmi best friend infp exactli damn good imit boss funni run realli fast make look like fall realli hard iti think mani peopl clue like entp intj read descript internet say exactli peopl read thread andyeah realli good tip thank go next week ask question nice talk much contact peopl ...\n",
              "3270  one morn jeremiah lord say curs put trust mere human reli human strength turn heart away thethos great vers good point good comfort vers seem like everybodi enemi need realiz one physic peopl real enemi likeyour face ugli walk street guy even know read newspap heard footstep close paper put besid lower hisi think alway conting planner though never realli plan mayb subconsci defens fail plan exist cannot fail yupsit work cramp neck contempl take tie shed jacket end lazywak lament realli eat b...\n",
              "6463  thank repli compens someth els definit sound interest know feel complet like late date someon veryhi got strang one mayb find late feel pretti usual second day background nurs work prettyfor whatev reason post suggest natur kind reson think direct need take nowi think convers could similar pray though never realli pray whatev reason like idea pray think percept personani recommend spiritu read make lot sens belief god fairli similar seem whatev reason look inward feel quit right right feel l...\n",
              "3629  ok happi give time organis trip proudi would need ride montreal ever meet still room essay decemb busi month peopl chrristma parti come work weekend outwelcom happycongratul happywelcom happycongratul happyi rememb use stuff like brother weird big hug relat tri say hope help make feel better sister use tell go interview isi think someth els happen wonder even though take time tell like said never spoken like want mess hislaurel k hamilton anita blake vampir hunter jr ward black dagger brothe...\n",
              "3345  guyswil power whatonet interest profil next move recent found much better onet affili john holland career profil directli link career match detail descriptionsunemploy record high peopl come peopl go peopl born die ask know like way peopl worldalright except anybodi bounc idea uni went account night class later know hell go fell asleep bu got woken goodbi way wrote comed effecthey guy saddest tune ever heard tame impala lonerismepicli sad end second endur feelingsguy cannot tell banana dick ...\n",
              "20    steve job recogn strive effici practic geniu system invent less invent claim se te come frompencil inf fe type emot type drove emotionobvi trollbut either way would get use ni te get behavior cognit cognit describ thought process may prone develop certain behaviorseveri edgi ntp mother act day idea borrow type progress chameleon scream ne fe specif orderit spend time irl ignor need express excitedli exagger project weird get arous imag put injust go ignor rule si normal se fight ni psychic n...\n",
              "6534  definit extravert tiuser either entp estp answer q make think probabl prefer ne se would say entp also tend pick outi probabl one friendliest kid would ever meet also selfish annoy loud rude aw blunt think peopl gener like got sick athank list think got almost everyth expect extra expens think like happen stay home first month oncesom quick backstori alway extrem independ enfp finish yr novemb turn august want take two year start uni guy want say biggest encourag tonight pleas keep ad itnooo...\n",
              "4133  come bit holiday junejuli sister boyfriend rd wheel yay p pretti excit itinerari look like san francisco new yorkperspect classic love kid start show person interest yup sound much ntp problem solv outsid box one littl bro opinionsobserv find technic pacifist gener oppos violenc entp thing think media inmari roach actual quit fascin groovi woman seen bet book hilari educ actual know mean blood morbid cours p cold interest one think great divers motiv mainli love understandingomarfw get know ...\n",
              "2661  know entp peopl think overshar facebook wonder everyon els stiff use like linkedin facebook one care unlessfocus youth cultur least uk differ great exampl fring onlysomeon describ like cartoon charact one lightbulb light whenev idea occur enter debat make convinc case minutesinfji hope get sleep soon suggest lie listen accept pass outsleep morn tri think real isi use less awar social person probabl confus thing doubt spend major time recharg forc interacttri becom wiser smarter work smart ab...\n",
              "5537  sure istp would mani metaphor symbolic refer histori stori like take pleasur rewrit classic stori well know historyy love write well nostalg point also choos word care also love see histor refer book histori thank bring rr martin type alway interest type author way build world charact tell stori tell us lot charactersf interact other could nice unhealthi fe could also forc tri enforc social rule whatev social norm bear romeo juliet type convinc end fi reason us vs world death solut infp go t...\n",
              "206   type mistyp entp actual type intp intj realli care long take figur type thought wereprob undeni last check know nonsens contribut refut claim person attribut nurtur youi think sj major theori better collect action right huge ratio would take lead whole independ person think theori isit must possibl parent given temper child anoth tempera research know show true howev still believ thatnot tradition encourag easier go flock outcast childreninclud unusu sensor go surviv fittest idea thinkthat c...\n",
              "737   philosophi basic knowledg scienc result philosophi philosophi approach univers fundament gener scienc approach univers method andtenisetinefifesi tenni fire whateverlet tri first descript describ noth youexcept nosinc trait find lot everyon els mean neitheroh come person type neither speci race actual relat physic qualitygend male age intellig gift open conserv mbti person profil intj closest altern found entj realli cannot think conservativeout curious think entj appear like alter egowel en...\n",
              "2038  know would even better discord reaction specif sub forumthought thank enabl ban infract thread would probabl hilari readand increas okay spici spank thing said well know origin point voic chat figur kept kick even though fairlywhat happen done dw give permiss claim entp side hoesoh right unjustifi sorri claim pobrecita call bitch everi day year go bitch natur bitchi accept payment top hat demand profitsonli give flower give pobrecitaif entp might chang type hi dear happi found way yeah surpr...\n",
              "969   great believ luck harder work luck havesaw share redback spider bite man peni redback spider black widow spider american midwest definit bucket list especi north love experi proper autumnfal snow etc winter got novelti valuerav remind lucki hang beach saltwat lake foreshor perfect late summer day support boy sport effort beach ini hate say real goanna ye get big ye probabl side hous mind normal live bush come peopl livey insan truli nicest possibl way fli fair bit work sheeeshh like sometim ...\n",
              "942   well sure would accept case find video game track fit melanchol bill real well ok go high social anxieti walk middl concert audienc know social anxieti uncomfort buton starship amaz bing cube k entiti possess buckethead also anagram said name shift style odd heavi guitar riff ambient music symbol sort mask wear public amlauri sain mark dollin bad sector fastit depend well know someon someon know hold dear like sens comfort warmth trust us someon know casual friendship withgirl ami amelia lil...\n",
              "3136  firstli want say think estj awesom fiance estj issu boyfriend everyth ask need lack emot treat ourchrist center secur depend loyalti braveri last love unitynev done drugsdo desir toahhh exactli dactual think christian find passion chang world deriv god place heart christian separ amtal prefer could never see someon height shorter dark hair dark eye exot look bold yet softmarriag one peopl believ wast time cannot say date purpos relationship marriageoveral mysteri think confus type main thing...\n",
              "2203  hahaha even talk thought thing incompet thread seem frustrat consid fail pass justmi mistak realis backstori realli tri tear comment neither tri build better person morehaha alway find weird internet peopl question peopl type one ask cannot honestli believ abl make complet accur judgement someon issatir use exagger ironi highlight criticis someon stupid hope understand satiris show fail might confus haha total gave pokeytongu smiley partli joke case freak make ass perceiv typism againsthaha ...\n",
              "8529  well herex stori met girl fell come conclus entj fact unhealthi one hate societi doesnxt want toshould wear protect gear peopl idea anyth work nowaday scare even see circuit board jesu know check youtub tutorialb alon cycl long distanc day seem pretti addict hurt well still continu bit smaller clearer could find anyth els tip learn use imagesgooglecomintj mine would galvenai ir neiespringt key keep calm englishi found wikipediaunusu articl wikipedia free encyclopedia kept readingfriend ex gi...\n",
              "4662  wait new year chang someth disagre honestli make sensewhat giant knife kill famili get alotso intj odd like random object object play card particularli ace spadesin order import stupid shit maintain composur think compromis moral code unless greater good serv allow other useth illus man mass effect renegad command shepard mass effect mr hous fallout new vega intellig believ end justifi meansto coffeeadict rerica thank insight help appreci believ may start work novel plan timewel garden gnome...\n",
              "7629  also two trityp lean slightli toward thoughi feel like combin spso sosp sosx less tradit though typic spso less polit typic sosp indeped typic sosx kind ofi read sticki wing thread read thread post lol thati read wing descript could figur w w descript definit fit w one super paranoid cynic contenti justhello ixm troubl determin ixm w w read enneagram descript take enneagram test find relat descript typicallyi anyon els find questionnair difficult particularli first two section difficult time...\n",
              "4643  fidel honor word make commit whatev agreement marriag entail may abl control attract control go read thread lazi shrug serious find interest burn lack motiv often content relaxedif writer human left cynic seri would adopt sort repres govern better deal insan inbr peopl thank much agre neutral depend woman realli particular ethnic though certain physic aspect prefer even difficulti without realli morehmm dream color sometim lucid realli common poke see awak time day neat littl trick rare ever...\n",
              "2526  enjoy test understand system everi often determin type mean crucial matteryour input alway much appreci regardless must resist thank goddamnity succeed decreas valu thank disproportion larg number spent post alon thank ton hand would say noti perus internet charact mbti type avail read novel share specul follow anna karenina better time draft happi birthday old buddi old pal good one rememb femm care ye thread repli realli bother ye realli analstealthili creep carri ladi gentlemen carri onif...\n",
              "7036  cigarett point time live rude cigarett spat swore poor etiquett given petnam cancerstick mere scent madekid love weird bubbl mischiev probabl love much pushov authorit grade french immers teacherswoah felt like read person descript crazydo trust issu peopl open peopl privat life secret open peopl trust peopl easili sometimesit even race thought cannot sleep although happen sometim preoccupi thing like watch movi read chat comput manipul okay sometim sweet sugar get stuck honeyyy laugh suffer...\n",
              "530   holi crap adro congratul bro wish best crazi slightli ok total hyperact bigger life imagin end tell pretti epic lie proud fun kind live wireish energi gettingh basic untyp major person disord neurot schizophren whatnot yeah could say obsess anyth somehow major asshol aif doormat somehow special mean would keep life take wishi know manag alway look love pleas ever stop sure concern get individu would need conform ideal order valu stroke ego pretti hardcor understand world end pulp fiction ala...\n",
              "4483  haha entj dad act like read perfectlyin realiti understand think read like book mayb wrong hmmi lovei would say dad think biggest strength biggest weak vice versa tri throw everyth say hard feelabsolut got terribl temper inherit unfortun though great extent get angri easili get angrywatch wink interestingwow glad discov alon got phone entj dad heat drain discuss thought make bad choic music chose toout curios entj feel infj posit neg relationship infj mean pleas share winkyou know wink hahaw...\n",
              "8131  would like tell us exactli would like right pahhah truth come would mean reconsid relationship done would rather leav person hangingwhen date intj took month readi sex went like rabbit definit fun would say emot us sameask hang may pick hintsil depend situat ask someth receiv silenc think somebodi someth disagre stay silent believ situationh probabl sure enter full relationship find physic attract probabl enjoy compani undergo strong period introvers want noth butabsolut correct nitefis use ...\n",
              "7587  memor fact poor rememb ideastheori pretti good rememb thing peopl term appear absolut aw come person think rememberexperiment good would like think openmind come think could sexual relat someon care respect think could everentj one good entj friend mine stubborn intoler sometim make want rip head notic larg disdain esfj surpris butmostli intp whenev tri talk infp girlfriend seem think form pictur attempt explain idea use imageri get lost easili lol havei god aw flirt pick sign other interest...\n",
              "5174  would ever adopt child mayb would ever cheat partner would ever take bullet someon els child ye would ever slap someon fori watch naruto episod first time episod ina joy fill retard probabl would fulli awar handicapalzheim exampl lose mind would horrend abl use fulli effici anymor bear think cow pretti eye thinkw unidentifi allur may base look though xnot love anyth worth interest say lose mind alzheim old age spider cow thunder lighten darkhmmm often consid rule world thing think would chan...\n",
              "371   thing though acquaint true friendsi use play flute although stop year would though need buy new instrumenti alway imagin live grid live land although realiti lifestyl would quit challeng feat inde usual thinki use volunt lot occasion would donat money worthi caus ie humanitarian aid educ make bit door mat oh welli big fan polit either come realiz impact life howev small may thing dislik polit far fromi disappear world video game though occasion web brows read go pool figur thing regard cook ...\n",
              "5984  hey shockedinfp hate type read post past peopl annoy infp hand notic pattern infp get myi fail unsurei hate enfj hypocrit cannot help polit front someon like person gone unleash hate talk shit persononli pagethes cognit function mbti theori revolv around mbti vulgar synthet work carl gustav jung book person type describ cognitivewhat said first sentenc red chapter person type cg jung kind agre problabl counter exampl thisstrong fi dom interest affect other influenc chang way keep view belief...\n",
              "1588  given moment given moment true place wonder know againwhi love isfj entp sent le x use tapatalky never seen enfp go hide respond well tri reach ye might need time reflect probabl longer day enfp tend block peopl ye ye ye isfj entp sure point good bad would like hear thought could compar two one think better match youh never job refus work wait inherit support futur never ask consid work wish would offer presenc morehi enfp late overwhelm amount workhour daili demand relationship hang tread f...\n",
              "8421  mbti subtyp compat match cognit function global enneagram triptyp variant archetyp bloodtyp genotyp schizo borderlin narcissist borderlin also hermit occasion waif person order cognit function fi ne ti si fe te ni se chang one widdlewiddl privaci reason delet account altogeth name automat gener facebook accountcopi past fill type spous type describ relationship qualiti describ best friend describ relationship grown thein opinion mbti type compassion feeler compassion share thoughtsi see exit...\n",
              "3186  yeah hate still advantag itbad logic unwant touch stubborn adher incorrect inform gener arrog control behaviorhunhth item suggest link provid seem reason although sure cut dri set rule cultur think mention theatr odd seeingi think like way around cultur peopl listen classic music brought environ grow listen learn play kindreal whyther might valu talk neighbor mayb group confront noisi one follow written complaint law enforc necessaryi talk calmli peopl may need ask landlord call confer peopl...\n",
              "4952  minneblom norwegian myosoti latin translat flower kesan georgian trasnlat name flower name kesoam intuit interest fantasi fiction inxx lol stereotyp type love fantasi booksmovi anim everyth relat alternativeinfp w minneblommyosotistumblrcom mostli aesthet reblog interest beauti stuff rogorcasetitumblrcom artinfp intp need help think feel intp guy confus sign tell smarter share intellectu stuff memostli nt guess oh enfjsi georgia countri tend flirt everyon except one realli like tend ask lot ...\n",
              "3758  next questionwel see peopl say post let set thing clear music enjoy releas dopamin brain dopamin reward chemic brain inoh mom bought strawberri whip cream realli intrigu whip cream took lungful besid slight dissoci walk kind weird feltsh um entitti mean tp good sens humor open nicegood heart ugli woman sorri true adventur carefre good time deal breaker secretli worship satan nowwhen think realli relat mean emot especi entp extent overal healthi cri sometim notthat actual made laugh louddud r...\n",
              "7873  intp entp differ function entp relat intj intp may intp adjust posit ie axi alway theto defin explain mean word context current situat peopl demand definit import word two peopl think success differ way thread gone wildli topic attack fest let us go back discuss theori hitler type rather forum fighti realli know threw n possibl think littl intuit mean immedi know react situat see morei wish peopl would stop talk public restroom shut busi want hear wish intellig valu societi nowman perfectli ...\n",
              "767   haha sister sound awesom xd good know person thatpinki pie enfp twilight intj fluttershi isfp applejack estj rainbow dash estp rariti enfj spike isfp luna infp celestiaentj cadenc esfji realli tire also procrastin homework hate group project group fill stj think lazi idiot probabl lazi idiot feel guilti fordear istp stop get annoy make word infpi think type cat infj esfp mayb certain extent ie pretti easi figur pet pj cannot realli figur cognitivei fail drawingsketchingpaint even though alwa...\n",
              "1590  hello understand mind run peopl think far complic thing give mean peopl futil forhi gorenzel would care post would would want stop drink would concern friend fact care much handl ityou realis peopl alway gossip talk other especi stand way see flatteri see touch peoplesok feel like repli mani peopl seem lone affraid open look deep relationship look one person fulli understand alreadyy happen time time thing could mindless activ feel urg anyth run walk work hand enjoy amto honest friend said w...\n",
              "1911  read thread like feel like someth within miss said think safeti movi nowaday troubl rewatch movi even think isah see thank explan answerhaha okay well sure asperg exampl look like arguescoei would mean entj mbti accord correl page also got entj humanmetr mbtitest yesterday think entj entp lasti thought sinc yesterday either lack fe fi function stack give coupl exampl see think decid repli ofhogwart hous mbtimewpi well certain point stop finish page open moment continu sure distract except ti...\n",
              "2856  depend definit tough requir age feel littl thing often taken grant easili make nontough requir achiev mention depend conflict conflict hate abhor unnecessari extend discuss come conclus think conflict alwaysy negativecyn pragmat grumpi time make list prepar next week beyond read yoga write lookingmaintain fountain pen walkingcycl play sim sim citi know pill like hydroxycut contain whole lot caffein stimul fat burn like sleep issu take coffe top coffe diuretici make time turn event host suppo...\n",
              "7983  love museum love creativ express cloth home draw well write poem make collag take photo food make present art mymi enfj friend sent unicorn stuf anim birthday convers disillus say realli wish world rainbow unicorn enfj type question fire awaythi brilliant deadon least case unclear first respons immatur enfj might want everyon like healthi matur enfj everi type unhealthi immatur version justour brain fire way necessari activ stop charm peopl knee jerk rather annoy actual gener want peopl happ...\n",
              "6787  david thorn old news may post alreadi anywho commonli known spider cat go viral internet playground great accur assessmentpeopl assum cat look lachrymos intji waterboard photosensit tenebr light look likei appli switch major biomedicin januari though take class biomedicin major hesit allow seamless chang without take first year classesengland visit daili mail sun headquart nohahaha stand assever could trade fleshlight prosthet made look realist elastom materi still sneak ini love mention tra...\n",
              "5159  cover blown damn mrscafebot payback time wellsi notic glori thoughintj also like defin stereotypesif put question mark end sentenc make question know hurt mean billion peopl earth recogn tell face welli need get tub ice creamkil everyon hate actual fairli peac person donehey guy back anoth stay old face around blast quit fun individu back still aroundif extravert piss need studi mbti betterwhen person want social exampl never care much compani eventu want girlfriend becam social serv purpos ...\n",
              "491   find hurt friend youwhi careit supervisor problem care sometim peopl get along go chang matter old getin term speed year build lot year short time spacial termswhat ridicul appli said energi space week month year get go pretti quickmost peopl look scientif evid point fact complet bull excrement think someth stupid base scientif evid close mindednoth wrong indecis degre progress last three year look like mech engineeringsci theoret physicspsych appli chemistri human movementbiomedicalth impre...\n",
              "2217  well reeeeeeeeeeeeeeeali similar often person get enfp humor infp friend talk forev anyth see differ littlea enfp ne life cannot tell exercis tell ot look like action ne listen convers jump conclus base pattern thati glad comment made sens base two infp friend watch crash burn time sound like tri use actual clarifyand need put one hand mouth say red squadron squadron leader target acquir initi launch sequenc upon mark ninja hehcooloh know ne whole life oo shiney stick worst job secretari wor...\n",
              "1360  loyal percept travelermerri christma face dare fist ness airi chri mist parti attend tardi offend insult harden breez style full optim uponmi dislik everyth get way care other way fear anyth anymor jade wayit christma eve go get fuck upon caffein roller coaster never want ride paid admissionmani asshol public one one convo anyon sensitivelol wtfburst love hip hoptyp constant daydreamingi extrem humbl insid competit respect level sportsmanship come first book arcad game team sport competit br..."
            ],
            "text/html": [
              "\n",
              "  <div id=\"df-d02d441f-74f4-43bb-b38a-18d917efc150\" class=\"colab-df-container\">\n",
              "    <div>\n",
              "<style scoped>\n",
              "    .dataframe tbody tr th:only-of-type {\n",
              "        vertical-align: middle;\n",
              "    }\n",
              "\n",
              "    .dataframe tbody tr th {\n",
              "        vertical-align: top;\n",
              "    }\n",
              "\n",
              "    .dataframe thead th {\n",
              "        text-align: right;\n",
              "    }\n",
              "</style>\n",
              "<table border=\"1\" class=\"dataframe\">\n",
              "  <thead>\n",
              "    <tr style=\"text-align: right;\">\n",
              "      <th></th>\n",
              "      <th>posts</th>\n",
              "    </tr>\n",
              "  </thead>\n",
              "  <tbody>\n",
              "    <tr>\n",
              "      <th>6131</th>\n",
              "      <td>thought meant liter rewrit physic base scientif endeavor lame cannot help goodbyei hate everyth intpgoddamn hate oblivi se wrong forum thank perc let delet postsoh waitwtfi probabl nine herei add asperg gadsad consequ also avpd could help whether istj still question ask well realli cope enjoy sleep anyth way feel like shit take around hour feel like shit infp see everyon monster kidnap tortur realli cannot help ok guess video link workit depress imagin day someth like would dead actual want ...</td>\n",
              "    </tr>\n",
              "    <tr>\n",
              "      <th>8109</th>\n",
              "      <td>ue sale x well worn sens self control easi abus disciplin requir ideal slow learner regret sale due current owner move outer space allwhen young would imagin way charact role fairli often see get sure find part scan tendenc acut view thingsevolv without constraintpunctu ongo battl tri rationalis thing work often refus put key belongjust retreat back give opportun kick around score extra point name mario super way canonc around seven brother five dismantl local bank branch whilst mom thing qu...</td>\n",
              "    </tr>\n",
              "    <tr>\n",
              "      <th>7441</th>\n",
              "      <td>rememb thing make sens like datainfo make pattern fit someth bigger logic pathconclus etc thing person find uninterest awfulh narcissistsociopath mbti appli peopl person disordersi want see realli matter shoe collectionbrilli respons rolleyesskim first page might repetit love netflix like watch tv show without commerci break fit watch schedul instead thewhi post question advic forum type person problem look address person problem relat peopl opinion trump thebett time almost step shit right ...</td>\n",
              "    </tr>\n",
              "    <tr>\n",
              "      <th>2538</th>\n",
              "      <td>relat invers spend absurd amount time tri beat imposs video game put someth like sudoku front end crush page eatingi idea name thank ton link got one thing read aboutfin someon understandssnor horribl tri use cellphon alarm mine set vibrat feel alarm hear might worth shot could wear earplug copypasta delici one timesnow feel bad crack knuckl back time actual kill joint though knowfor sound someon chew especi look shoulder tri tell someth make feel like need go destroy planet idea butpretti m...</td>\n",
              "    </tr>\n",
              "    <tr>\n",
              "      <th>8595</th>\n",
              "      <td>never know right wrong discuss frazzl oppon argument like matinalsmoothi act like right wrong belief father andit definit harder manipul thinker feeler want manipul thinker prone logic want understand want thing getmi best friend infp exactli damn good imit boss funni run realli fast make look like fall realli hard iti think mani peopl clue like entp intj read descript internet say exactli peopl read thread andyeah realli good tip thank go next week ask question nice talk much contact peopl ...</td>\n",
              "    </tr>\n",
              "    <tr>\n",
              "      <th>3270</th>\n",
              "      <td>one morn jeremiah lord say curs put trust mere human reli human strength turn heart away thethos great vers good point good comfort vers seem like everybodi enemi need realiz one physic peopl real enemi likeyour face ugli walk street guy even know read newspap heard footstep close paper put besid lower hisi think alway conting planner though never realli plan mayb subconsci defens fail plan exist cannot fail yupsit work cramp neck contempl take tie shed jacket end lazywak lament realli eat b...</td>\n",
              "    </tr>\n",
              "    <tr>\n",
              "      <th>6463</th>\n",
              "      <td>thank repli compens someth els definit sound interest know feel complet like late date someon veryhi got strang one mayb find late feel pretti usual second day background nurs work prettyfor whatev reason post suggest natur kind reson think direct need take nowi think convers could similar pray though never realli pray whatev reason like idea pray think percept personani recommend spiritu read make lot sens belief god fairli similar seem whatev reason look inward feel quit right right feel l...</td>\n",
              "    </tr>\n",
              "    <tr>\n",
              "      <th>3629</th>\n",
              "      <td>ok happi give time organis trip proudi would need ride montreal ever meet still room essay decemb busi month peopl chrristma parti come work weekend outwelcom happycongratul happywelcom happycongratul happyi rememb use stuff like brother weird big hug relat tri say hope help make feel better sister use tell go interview isi think someth els happen wonder even though take time tell like said never spoken like want mess hislaurel k hamilton anita blake vampir hunter jr ward black dagger brothe...</td>\n",
              "    </tr>\n",
              "    <tr>\n",
              "      <th>3345</th>\n",
              "      <td>guyswil power whatonet interest profil next move recent found much better onet affili john holland career profil directli link career match detail descriptionsunemploy record high peopl come peopl go peopl born die ask know like way peopl worldalright except anybodi bounc idea uni went account night class later know hell go fell asleep bu got woken goodbi way wrote comed effecthey guy saddest tune ever heard tame impala lonerismepicli sad end second endur feelingsguy cannot tell banana dick ...</td>\n",
              "    </tr>\n",
              "    <tr>\n",
              "      <th>20</th>\n",
              "      <td>steve job recogn strive effici practic geniu system invent less invent claim se te come frompencil inf fe type emot type drove emotionobvi trollbut either way would get use ni te get behavior cognit cognit describ thought process may prone develop certain behaviorseveri edgi ntp mother act day idea borrow type progress chameleon scream ne fe specif orderit spend time irl ignor need express excitedli exagger project weird get arous imag put injust go ignor rule si normal se fight ni psychic n...</td>\n",
              "    </tr>\n",
              "    <tr>\n",
              "      <th>6534</th>\n",
              "      <td>definit extravert tiuser either entp estp answer q make think probabl prefer ne se would say entp also tend pick outi probabl one friendliest kid would ever meet also selfish annoy loud rude aw blunt think peopl gener like got sick athank list think got almost everyth expect extra expens think like happen stay home first month oncesom quick backstori alway extrem independ enfp finish yr novemb turn august want take two year start uni guy want say biggest encourag tonight pleas keep ad itnooo...</td>\n",
              "    </tr>\n",
              "    <tr>\n",
              "      <th>4133</th>\n",
              "      <td>come bit holiday junejuli sister boyfriend rd wheel yay p pretti excit itinerari look like san francisco new yorkperspect classic love kid start show person interest yup sound much ntp problem solv outsid box one littl bro opinionsobserv find technic pacifist gener oppos violenc entp thing think media inmari roach actual quit fascin groovi woman seen bet book hilari educ actual know mean blood morbid cours p cold interest one think great divers motiv mainli love understandingomarfw get know ...</td>\n",
              "    </tr>\n",
              "    <tr>\n",
              "      <th>2661</th>\n",
              "      <td>know entp peopl think overshar facebook wonder everyon els stiff use like linkedin facebook one care unlessfocus youth cultur least uk differ great exampl fring onlysomeon describ like cartoon charact one lightbulb light whenev idea occur enter debat make convinc case minutesinfji hope get sleep soon suggest lie listen accept pass outsleep morn tri think real isi use less awar social person probabl confus thing doubt spend major time recharg forc interacttri becom wiser smarter work smart ab...</td>\n",
              "    </tr>\n",
              "    <tr>\n",
              "      <th>5537</th>\n",
              "      <td>sure istp would mani metaphor symbolic refer histori stori like take pleasur rewrit classic stori well know historyy love write well nostalg point also choos word care also love see histor refer book histori thank bring rr martin type alway interest type author way build world charact tell stori tell us lot charactersf interact other could nice unhealthi fe could also forc tri enforc social rule whatev social norm bear romeo juliet type convinc end fi reason us vs world death solut infp go t...</td>\n",
              "    </tr>\n",
              "    <tr>\n",
              "      <th>206</th>\n",
              "      <td>type mistyp entp actual type intp intj realli care long take figur type thought wereprob undeni last check know nonsens contribut refut claim person attribut nurtur youi think sj major theori better collect action right huge ratio would take lead whole independ person think theori isit must possibl parent given temper child anoth tempera research know show true howev still believ thatnot tradition encourag easier go flock outcast childreninclud unusu sensor go surviv fittest idea thinkthat c...</td>\n",
              "    </tr>\n",
              "    <tr>\n",
              "      <th>737</th>\n",
              "      <td>philosophi basic knowledg scienc result philosophi philosophi approach univers fundament gener scienc approach univers method andtenisetinefifesi tenni fire whateverlet tri first descript describ noth youexcept nosinc trait find lot everyon els mean neitheroh come person type neither speci race actual relat physic qualitygend male age intellig gift open conserv mbti person profil intj closest altern found entj realli cannot think conservativeout curious think entj appear like alter egowel en...</td>\n",
              "    </tr>\n",
              "    <tr>\n",
              "      <th>2038</th>\n",
              "      <td>know would even better discord reaction specif sub forumthought thank enabl ban infract thread would probabl hilari readand increas okay spici spank thing said well know origin point voic chat figur kept kick even though fairlywhat happen done dw give permiss claim entp side hoesoh right unjustifi sorri claim pobrecita call bitch everi day year go bitch natur bitchi accept payment top hat demand profitsonli give flower give pobrecitaif entp might chang type hi dear happi found way yeah surpr...</td>\n",
              "    </tr>\n",
              "    <tr>\n",
              "      <th>969</th>\n",
              "      <td>great believ luck harder work luck havesaw share redback spider bite man peni redback spider black widow spider american midwest definit bucket list especi north love experi proper autumnfal snow etc winter got novelti valuerav remind lucki hang beach saltwat lake foreshor perfect late summer day support boy sport effort beach ini hate say real goanna ye get big ye probabl side hous mind normal live bush come peopl livey insan truli nicest possibl way fli fair bit work sheeeshh like sometim ...</td>\n",
              "    </tr>\n",
              "    <tr>\n",
              "      <th>942</th>\n",
              "      <td>well sure would accept case find video game track fit melanchol bill real well ok go high social anxieti walk middl concert audienc know social anxieti uncomfort buton starship amaz bing cube k entiti possess buckethead also anagram said name shift style odd heavi guitar riff ambient music symbol sort mask wear public amlauri sain mark dollin bad sector fastit depend well know someon someon know hold dear like sens comfort warmth trust us someon know casual friendship withgirl ami amelia lil...</td>\n",
              "    </tr>\n",
              "    <tr>\n",
              "      <th>3136</th>\n",
              "      <td>firstli want say think estj awesom fiance estj issu boyfriend everyth ask need lack emot treat ourchrist center secur depend loyalti braveri last love unitynev done drugsdo desir toahhh exactli dactual think christian find passion chang world deriv god place heart christian separ amtal prefer could never see someon height shorter dark hair dark eye exot look bold yet softmarriag one peopl believ wast time cannot say date purpos relationship marriageoveral mysteri think confus type main thing...</td>\n",
              "    </tr>\n",
              "    <tr>\n",
              "      <th>2203</th>\n",
              "      <td>hahaha even talk thought thing incompet thread seem frustrat consid fail pass justmi mistak realis backstori realli tri tear comment neither tri build better person morehaha alway find weird internet peopl question peopl type one ask cannot honestli believ abl make complet accur judgement someon issatir use exagger ironi highlight criticis someon stupid hope understand satiris show fail might confus haha total gave pokeytongu smiley partli joke case freak make ass perceiv typism againsthaha ...</td>\n",
              "    </tr>\n",
              "    <tr>\n",
              "      <th>8529</th>\n",
              "      <td>well herex stori met girl fell come conclus entj fact unhealthi one hate societi doesnxt want toshould wear protect gear peopl idea anyth work nowaday scare even see circuit board jesu know check youtub tutorialb alon cycl long distanc day seem pretti addict hurt well still continu bit smaller clearer could find anyth els tip learn use imagesgooglecomintj mine would galvenai ir neiespringt key keep calm englishi found wikipediaunusu articl wikipedia free encyclopedia kept readingfriend ex gi...</td>\n",
              "    </tr>\n",
              "    <tr>\n",
              "      <th>4662</th>\n",
              "      <td>wait new year chang someth disagre honestli make sensewhat giant knife kill famili get alotso intj odd like random object object play card particularli ace spadesin order import stupid shit maintain composur think compromis moral code unless greater good serv allow other useth illus man mass effect renegad command shepard mass effect mr hous fallout new vega intellig believ end justifi meansto coffeeadict rerica thank insight help appreci believ may start work novel plan timewel garden gnome...</td>\n",
              "    </tr>\n",
              "    <tr>\n",
              "      <th>7629</th>\n",
              "      <td>also two trityp lean slightli toward thoughi feel like combin spso sosp sosx less tradit though typic spso less polit typic sosp indeped typic sosx kind ofi read sticki wing thread read thread post lol thati read wing descript could figur w w descript definit fit w one super paranoid cynic contenti justhello ixm troubl determin ixm w w read enneagram descript take enneagram test find relat descript typicallyi anyon els find questionnair difficult particularli first two section difficult time...</td>\n",
              "    </tr>\n",
              "    <tr>\n",
              "      <th>4643</th>\n",
              "      <td>fidel honor word make commit whatev agreement marriag entail may abl control attract control go read thread lazi shrug serious find interest burn lack motiv often content relaxedif writer human left cynic seri would adopt sort repres govern better deal insan inbr peopl thank much agre neutral depend woman realli particular ethnic though certain physic aspect prefer even difficulti without realli morehmm dream color sometim lucid realli common poke see awak time day neat littl trick rare ever...</td>\n",
              "    </tr>\n",
              "    <tr>\n",
              "      <th>2526</th>\n",
              "      <td>enjoy test understand system everi often determin type mean crucial matteryour input alway much appreci regardless must resist thank goddamnity succeed decreas valu thank disproportion larg number spent post alon thank ton hand would say noti perus internet charact mbti type avail read novel share specul follow anna karenina better time draft happi birthday old buddi old pal good one rememb femm care ye thread repli realli bother ye realli analstealthili creep carri ladi gentlemen carri onif...</td>\n",
              "    </tr>\n",
              "    <tr>\n",
              "      <th>7036</th>\n",
              "      <td>cigarett point time live rude cigarett spat swore poor etiquett given petnam cancerstick mere scent madekid love weird bubbl mischiev probabl love much pushov authorit grade french immers teacherswoah felt like read person descript crazydo trust issu peopl open peopl privat life secret open peopl trust peopl easili sometimesit even race thought cannot sleep although happen sometim preoccupi thing like watch movi read chat comput manipul okay sometim sweet sugar get stuck honeyyy laugh suffer...</td>\n",
              "    </tr>\n",
              "    <tr>\n",
              "      <th>530</th>\n",
              "      <td>holi crap adro congratul bro wish best crazi slightli ok total hyperact bigger life imagin end tell pretti epic lie proud fun kind live wireish energi gettingh basic untyp major person disord neurot schizophren whatnot yeah could say obsess anyth somehow major asshol aif doormat somehow special mean would keep life take wishi know manag alway look love pleas ever stop sure concern get individu would need conform ideal order valu stroke ego pretti hardcor understand world end pulp fiction ala...</td>\n",
              "    </tr>\n",
              "    <tr>\n",
              "      <th>4483</th>\n",
              "      <td>haha entj dad act like read perfectlyin realiti understand think read like book mayb wrong hmmi lovei would say dad think biggest strength biggest weak vice versa tri throw everyth say hard feelabsolut got terribl temper inherit unfortun though great extent get angri easili get angrywatch wink interestingwow glad discov alon got phone entj dad heat drain discuss thought make bad choic music chose toout curios entj feel infj posit neg relationship infj mean pleas share winkyou know wink hahaw...</td>\n",
              "    </tr>\n",
              "    <tr>\n",
              "      <th>8131</th>\n",
              "      <td>would like tell us exactli would like right pahhah truth come would mean reconsid relationship done would rather leav person hangingwhen date intj took month readi sex went like rabbit definit fun would say emot us sameask hang may pick hintsil depend situat ask someth receiv silenc think somebodi someth disagre stay silent believ situationh probabl sure enter full relationship find physic attract probabl enjoy compani undergo strong period introvers want noth butabsolut correct nitefis use ...</td>\n",
              "    </tr>\n",
              "    <tr>\n",
              "      <th>7587</th>\n",
              "      <td>memor fact poor rememb ideastheori pretti good rememb thing peopl term appear absolut aw come person think rememberexperiment good would like think openmind come think could sexual relat someon care respect think could everentj one good entj friend mine stubborn intoler sometim make want rip head notic larg disdain esfj surpris butmostli intp whenev tri talk infp girlfriend seem think form pictur attempt explain idea use imageri get lost easili lol havei god aw flirt pick sign other interest...</td>\n",
              "    </tr>\n",
              "    <tr>\n",
              "      <th>5174</th>\n",
              "      <td>would ever adopt child mayb would ever cheat partner would ever take bullet someon els child ye would ever slap someon fori watch naruto episod first time episod ina joy fill retard probabl would fulli awar handicapalzheim exampl lose mind would horrend abl use fulli effici anymor bear think cow pretti eye thinkw unidentifi allur may base look though xnot love anyth worth interest say lose mind alzheim old age spider cow thunder lighten darkhmmm often consid rule world thing think would chan...</td>\n",
              "    </tr>\n",
              "    <tr>\n",
              "      <th>371</th>\n",
              "      <td>thing though acquaint true friendsi use play flute although stop year would though need buy new instrumenti alway imagin live grid live land although realiti lifestyl would quit challeng feat inde usual thinki use volunt lot occasion would donat money worthi caus ie humanitarian aid educ make bit door mat oh welli big fan polit either come realiz impact life howev small may thing dislik polit far fromi disappear world video game though occasion web brows read go pool figur thing regard cook ...</td>\n",
              "    </tr>\n",
              "    <tr>\n",
              "      <th>5984</th>\n",
              "      <td>hey shockedinfp hate type read post past peopl annoy infp hand notic pattern infp get myi fail unsurei hate enfj hypocrit cannot help polit front someon like person gone unleash hate talk shit persononli pagethes cognit function mbti theori revolv around mbti vulgar synthet work carl gustav jung book person type describ cognitivewhat said first sentenc red chapter person type cg jung kind agre problabl counter exampl thisstrong fi dom interest affect other influenc chang way keep view belief...</td>\n",
              "    </tr>\n",
              "    <tr>\n",
              "      <th>1588</th>\n",
              "      <td>given moment given moment true place wonder know againwhi love isfj entp sent le x use tapatalky never seen enfp go hide respond well tri reach ye might need time reflect probabl longer day enfp tend block peopl ye ye ye isfj entp sure point good bad would like hear thought could compar two one think better match youh never job refus work wait inherit support futur never ask consid work wish would offer presenc morehi enfp late overwhelm amount workhour daili demand relationship hang tread f...</td>\n",
              "    </tr>\n",
              "    <tr>\n",
              "      <th>8421</th>\n",
              "      <td>mbti subtyp compat match cognit function global enneagram triptyp variant archetyp bloodtyp genotyp schizo borderlin narcissist borderlin also hermit occasion waif person order cognit function fi ne ti si fe te ni se chang one widdlewiddl privaci reason delet account altogeth name automat gener facebook accountcopi past fill type spous type describ relationship qualiti describ best friend describ relationship grown thein opinion mbti type compassion feeler compassion share thoughtsi see exit...</td>\n",
              "    </tr>\n",
              "    <tr>\n",
              "      <th>3186</th>\n",
              "      <td>yeah hate still advantag itbad logic unwant touch stubborn adher incorrect inform gener arrog control behaviorhunhth item suggest link provid seem reason although sure cut dri set rule cultur think mention theatr odd seeingi think like way around cultur peopl listen classic music brought environ grow listen learn play kindreal whyther might valu talk neighbor mayb group confront noisi one follow written complaint law enforc necessaryi talk calmli peopl may need ask landlord call confer peopl...</td>\n",
              "    </tr>\n",
              "    <tr>\n",
              "      <th>4952</th>\n",
              "      <td>minneblom norwegian myosoti latin translat flower kesan georgian trasnlat name flower name kesoam intuit interest fantasi fiction inxx lol stereotyp type love fantasi booksmovi anim everyth relat alternativeinfp w minneblommyosotistumblrcom mostli aesthet reblog interest beauti stuff rogorcasetitumblrcom artinfp intp need help think feel intp guy confus sign tell smarter share intellectu stuff memostli nt guess oh enfjsi georgia countri tend flirt everyon except one realli like tend ask lot ...</td>\n",
              "    </tr>\n",
              "    <tr>\n",
              "      <th>3758</th>\n",
              "      <td>next questionwel see peopl say post let set thing clear music enjoy releas dopamin brain dopamin reward chemic brain inoh mom bought strawberri whip cream realli intrigu whip cream took lungful besid slight dissoci walk kind weird feltsh um entitti mean tp good sens humor open nicegood heart ugli woman sorri true adventur carefre good time deal breaker secretli worship satan nowwhen think realli relat mean emot especi entp extent overal healthi cri sometim notthat actual made laugh louddud r...</td>\n",
              "    </tr>\n",
              "    <tr>\n",
              "      <th>7873</th>\n",
              "      <td>intp entp differ function entp relat intj intp may intp adjust posit ie axi alway theto defin explain mean word context current situat peopl demand definit import word two peopl think success differ way thread gone wildli topic attack fest let us go back discuss theori hitler type rather forum fighti realli know threw n possibl think littl intuit mean immedi know react situat see morei wish peopl would stop talk public restroom shut busi want hear wish intellig valu societi nowman perfectli ...</td>\n",
              "    </tr>\n",
              "    <tr>\n",
              "      <th>767</th>\n",
              "      <td>haha sister sound awesom xd good know person thatpinki pie enfp twilight intj fluttershi isfp applejack estj rainbow dash estp rariti enfj spike isfp luna infp celestiaentj cadenc esfji realli tire also procrastin homework hate group project group fill stj think lazi idiot probabl lazi idiot feel guilti fordear istp stop get annoy make word infpi think type cat infj esfp mayb certain extent ie pretti easi figur pet pj cannot realli figur cognitivei fail drawingsketchingpaint even though alwa...</td>\n",
              "    </tr>\n",
              "    <tr>\n",
              "      <th>1590</th>\n",
              "      <td>hello understand mind run peopl think far complic thing give mean peopl futil forhi gorenzel would care post would would want stop drink would concern friend fact care much handl ityou realis peopl alway gossip talk other especi stand way see flatteri see touch peoplesok feel like repli mani peopl seem lone affraid open look deep relationship look one person fulli understand alreadyy happen time time thing could mindless activ feel urg anyth run walk work hand enjoy amto honest friend said w...</td>\n",
              "    </tr>\n",
              "    <tr>\n",
              "      <th>1911</th>\n",
              "      <td>read thread like feel like someth within miss said think safeti movi nowaday troubl rewatch movi even think isah see thank explan answerhaha okay well sure asperg exampl look like arguescoei would mean entj mbti accord correl page also got entj humanmetr mbtitest yesterday think entj entp lasti thought sinc yesterday either lack fe fi function stack give coupl exampl see think decid repli ofhogwart hous mbtimewpi well certain point stop finish page open moment continu sure distract except ti...</td>\n",
              "    </tr>\n",
              "    <tr>\n",
              "      <th>2856</th>\n",
              "      <td>depend definit tough requir age feel littl thing often taken grant easili make nontough requir achiev mention depend conflict conflict hate abhor unnecessari extend discuss come conclus think conflict alwaysy negativecyn pragmat grumpi time make list prepar next week beyond read yoga write lookingmaintain fountain pen walkingcycl play sim sim citi know pill like hydroxycut contain whole lot caffein stimul fat burn like sleep issu take coffe top coffe diuretici make time turn event host suppo...</td>\n",
              "    </tr>\n",
              "    <tr>\n",
              "      <th>7983</th>\n",
              "      <td>love museum love creativ express cloth home draw well write poem make collag take photo food make present art mymi enfj friend sent unicorn stuf anim birthday convers disillus say realli wish world rainbow unicorn enfj type question fire awaythi brilliant deadon least case unclear first respons immatur enfj might want everyon like healthi matur enfj everi type unhealthi immatur version justour brain fire way necessari activ stop charm peopl knee jerk rather annoy actual gener want peopl happ...</td>\n",
              "    </tr>\n",
              "    <tr>\n",
              "      <th>6787</th>\n",
              "      <td>david thorn old news may post alreadi anywho commonli known spider cat go viral internet playground great accur assessmentpeopl assum cat look lachrymos intji waterboard photosensit tenebr light look likei appli switch major biomedicin januari though take class biomedicin major hesit allow seamless chang without take first year classesengland visit daili mail sun headquart nohahaha stand assever could trade fleshlight prosthet made look realist elastom materi still sneak ini love mention tra...</td>\n",
              "    </tr>\n",
              "    <tr>\n",
              "      <th>5159</th>\n",
              "      <td>cover blown damn mrscafebot payback time wellsi notic glori thoughintj also like defin stereotypesif put question mark end sentenc make question know hurt mean billion peopl earth recogn tell face welli need get tub ice creamkil everyon hate actual fairli peac person donehey guy back anoth stay old face around blast quit fun individu back still aroundif extravert piss need studi mbti betterwhen person want social exampl never care much compani eventu want girlfriend becam social serv purpos ...</td>\n",
              "    </tr>\n",
              "    <tr>\n",
              "      <th>491</th>\n",
              "      <td>find hurt friend youwhi careit supervisor problem care sometim peopl get along go chang matter old getin term speed year build lot year short time spacial termswhat ridicul appli said energi space week month year get go pretti quickmost peopl look scientif evid point fact complet bull excrement think someth stupid base scientif evid close mindednoth wrong indecis degre progress last three year look like mech engineeringsci theoret physicspsych appli chemistri human movementbiomedicalth impre...</td>\n",
              "    </tr>\n",
              "    <tr>\n",
              "      <th>2217</th>\n",
              "      <td>well reeeeeeeeeeeeeeeali similar often person get enfp humor infp friend talk forev anyth see differ littlea enfp ne life cannot tell exercis tell ot look like action ne listen convers jump conclus base pattern thati glad comment made sens base two infp friend watch crash burn time sound like tri use actual clarifyand need put one hand mouth say red squadron squadron leader target acquir initi launch sequenc upon mark ninja hehcooloh know ne whole life oo shiney stick worst job secretari wor...</td>\n",
              "    </tr>\n",
              "    <tr>\n",
              "      <th>1360</th>\n",
              "      <td>loyal percept travelermerri christma face dare fist ness airi chri mist parti attend tardi offend insult harden breez style full optim uponmi dislik everyth get way care other way fear anyth anymor jade wayit christma eve go get fuck upon caffein roller coaster never want ride paid admissionmani asshol public one one convo anyon sensitivelol wtfburst love hip hoptyp constant daydreamingi extrem humbl insid competit respect level sportsmanship come first book arcad game team sport competit br...</td>\n",
              "    </tr>\n",
              "  </tbody>\n",
              "</table>\n",
              "</div>\n",
              "    <div class=\"colab-df-buttons\">\n",
              "\n",
              "  <div class=\"colab-df-container\">\n",
              "    <button class=\"colab-df-convert\" onclick=\"convertToInteractive('df-d02d441f-74f4-43bb-b38a-18d917efc150')\"\n",
              "            title=\"Convert this dataframe to an interactive table.\"\n",
              "            style=\"display:none;\">\n",
              "\n",
              "  <svg xmlns=\"http://www.w3.org/2000/svg\" height=\"24px\" viewBox=\"0 -960 960 960\">\n",
              "    <path d=\"M120-120v-720h720v720H120Zm60-500h600v-160H180v160Zm220 220h160v-160H400v160Zm0 220h160v-160H400v160ZM180-400h160v-160H180v160Zm440 0h160v-160H620v160ZM180-180h160v-160H180v160Zm440 0h160v-160H620v160Z\"/>\n",
              "  </svg>\n",
              "    </button>\n",
              "\n",
              "  <style>\n",
              "    .colab-df-container {\n",
              "      display:flex;\n",
              "      gap: 12px;\n",
              "    }\n",
              "\n",
              "    .colab-df-convert {\n",
              "      background-color: #E8F0FE;\n",
              "      border: none;\n",
              "      border-radius: 50%;\n",
              "      cursor: pointer;\n",
              "      display: none;\n",
              "      fill: #1967D2;\n",
              "      height: 32px;\n",
              "      padding: 0 0 0 0;\n",
              "      width: 32px;\n",
              "    }\n",
              "\n",
              "    .colab-df-convert:hover {\n",
              "      background-color: #E2EBFA;\n",
              "      box-shadow: 0px 1px 2px rgba(60, 64, 67, 0.3), 0px 1px 3px 1px rgba(60, 64, 67, 0.15);\n",
              "      fill: #174EA6;\n",
              "    }\n",
              "\n",
              "    .colab-df-buttons div {\n",
              "      margin-bottom: 4px;\n",
              "    }\n",
              "\n",
              "    [theme=dark] .colab-df-convert {\n",
              "      background-color: #3B4455;\n",
              "      fill: #D2E3FC;\n",
              "    }\n",
              "\n",
              "    [theme=dark] .colab-df-convert:hover {\n",
              "      background-color: #434B5C;\n",
              "      box-shadow: 0px 1px 3px 1px rgba(0, 0, 0, 0.15);\n",
              "      filter: drop-shadow(0px 1px 2px rgba(0, 0, 0, 0.3));\n",
              "      fill: #FFFFFF;\n",
              "    }\n",
              "  </style>\n",
              "\n",
              "    <script>\n",
              "      const buttonEl =\n",
              "        document.querySelector('#df-d02d441f-74f4-43bb-b38a-18d917efc150 button.colab-df-convert');\n",
              "      buttonEl.style.display =\n",
              "        google.colab.kernel.accessAllowed ? 'block' : 'none';\n",
              "\n",
              "      async function convertToInteractive(key) {\n",
              "        const element = document.querySelector('#df-d02d441f-74f4-43bb-b38a-18d917efc150');\n",
              "        const dataTable =\n",
              "          await google.colab.kernel.invokeFunction('convertToInteractive',\n",
              "                                                    [key], {});\n",
              "        if (!dataTable) return;\n",
              "\n",
              "        const docLinkHtml = 'Like what you see? Visit the ' +\n",
              "          '<a target=\"_blank\" href=https://colab.research.google.com/notebooks/data_table.ipynb>data table notebook</a>'\n",
              "          + ' to learn more about interactive tables.';\n",
              "        element.innerHTML = '';\n",
              "        dataTable['output_type'] = 'display_data';\n",
              "        await google.colab.output.renderOutput(dataTable, element);\n",
              "        const docLink = document.createElement('div');\n",
              "        docLink.innerHTML = docLinkHtml;\n",
              "        element.appendChild(docLink);\n",
              "      }\n",
              "    </script>\n",
              "  </div>\n",
              "\n",
              "\n",
              "<div id=\"df-bb270131-8bb5-4887-875e-2e3c7488205d\">\n",
              "  <button class=\"colab-df-quickchart\" onclick=\"quickchart('df-bb270131-8bb5-4887-875e-2e3c7488205d')\"\n",
              "            title=\"Suggest charts\"\n",
              "            style=\"display:none;\">\n",
              "\n",
              "<svg xmlns=\"http://www.w3.org/2000/svg\" height=\"24px\"viewBox=\"0 0 24 24\"\n",
              "     width=\"24px\">\n",
              "    <g>\n",
              "        <path d=\"M19 3H5c-1.1 0-2 .9-2 2v14c0 1.1.9 2 2 2h14c1.1 0 2-.9 2-2V5c0-1.1-.9-2-2-2zM9 17H7v-7h2v7zm4 0h-2V7h2v10zm4 0h-2v-4h2v4z\"/>\n",
              "    </g>\n",
              "</svg>\n",
              "  </button>\n",
              "\n",
              "<style>\n",
              "  .colab-df-quickchart {\n",
              "      --bg-color: #E8F0FE;\n",
              "      --fill-color: #1967D2;\n",
              "      --hover-bg-color: #E2EBFA;\n",
              "      --hover-fill-color: #174EA6;\n",
              "      --disabled-fill-color: #AAA;\n",
              "      --disabled-bg-color: #DDD;\n",
              "  }\n",
              "\n",
              "  [theme=dark] .colab-df-quickchart {\n",
              "      --bg-color: #3B4455;\n",
              "      --fill-color: #D2E3FC;\n",
              "      --hover-bg-color: #434B5C;\n",
              "      --hover-fill-color: #FFFFFF;\n",
              "      --disabled-bg-color: #3B4455;\n",
              "      --disabled-fill-color: #666;\n",
              "  }\n",
              "\n",
              "  .colab-df-quickchart {\n",
              "    background-color: var(--bg-color);\n",
              "    border: none;\n",
              "    border-radius: 50%;\n",
              "    cursor: pointer;\n",
              "    display: none;\n",
              "    fill: var(--fill-color);\n",
              "    height: 32px;\n",
              "    padding: 0;\n",
              "    width: 32px;\n",
              "  }\n",
              "\n",
              "  .colab-df-quickchart:hover {\n",
              "    background-color: var(--hover-bg-color);\n",
              "    box-shadow: 0 1px 2px rgba(60, 64, 67, 0.3), 0 1px 3px 1px rgba(60, 64, 67, 0.15);\n",
              "    fill: var(--button-hover-fill-color);\n",
              "  }\n",
              "\n",
              "  .colab-df-quickchart-complete:disabled,\n",
              "  .colab-df-quickchart-complete:disabled:hover {\n",
              "    background-color: var(--disabled-bg-color);\n",
              "    fill: var(--disabled-fill-color);\n",
              "    box-shadow: none;\n",
              "  }\n",
              "\n",
              "  .colab-df-spinner {\n",
              "    border: 2px solid var(--fill-color);\n",
              "    border-color: transparent;\n",
              "    border-bottom-color: var(--fill-color);\n",
              "    animation:\n",
              "      spin 1s steps(1) infinite;\n",
              "  }\n",
              "\n",
              "  @keyframes spin {\n",
              "    0% {\n",
              "      border-color: transparent;\n",
              "      border-bottom-color: var(--fill-color);\n",
              "      border-left-color: var(--fill-color);\n",
              "    }\n",
              "    20% {\n",
              "      border-color: transparent;\n",
              "      border-left-color: var(--fill-color);\n",
              "      border-top-color: var(--fill-color);\n",
              "    }\n",
              "    30% {\n",
              "      border-color: transparent;\n",
              "      border-left-color: var(--fill-color);\n",
              "      border-top-color: var(--fill-color);\n",
              "      border-right-color: var(--fill-color);\n",
              "    }\n",
              "    40% {\n",
              "      border-color: transparent;\n",
              "      border-right-color: var(--fill-color);\n",
              "      border-top-color: var(--fill-color);\n",
              "    }\n",
              "    60% {\n",
              "      border-color: transparent;\n",
              "      border-right-color: var(--fill-color);\n",
              "    }\n",
              "    80% {\n",
              "      border-color: transparent;\n",
              "      border-right-color: var(--fill-color);\n",
              "      border-bottom-color: var(--fill-color);\n",
              "    }\n",
              "    90% {\n",
              "      border-color: transparent;\n",
              "      border-bottom-color: var(--fill-color);\n",
              "    }\n",
              "  }\n",
              "</style>\n",
              "\n",
              "  <script>\n",
              "    async function quickchart(key) {\n",
              "      const quickchartButtonEl =\n",
              "        document.querySelector('#' + key + ' button');\n",
              "      quickchartButtonEl.disabled = true;  // To prevent multiple clicks.\n",
              "      quickchartButtonEl.classList.add('colab-df-spinner');\n",
              "      try {\n",
              "        const charts = await google.colab.kernel.invokeFunction(\n",
              "            'suggestCharts', [key], {});\n",
              "      } catch (error) {\n",
              "        console.error('Error during call to suggestCharts:', error);\n",
              "      }\n",
              "      quickchartButtonEl.classList.remove('colab-df-spinner');\n",
              "      quickchartButtonEl.classList.add('colab-df-quickchart-complete');\n",
              "    }\n",
              "    (() => {\n",
              "      let quickchartButtonEl =\n",
              "        document.querySelector('#df-bb270131-8bb5-4887-875e-2e3c7488205d button');\n",
              "      quickchartButtonEl.style.display =\n",
              "        google.colab.kernel.accessAllowed ? 'block' : 'none';\n",
              "    })();\n",
              "  </script>\n",
              "</div>\n",
              "\n",
              "    </div>\n",
              "  </div>\n"
            ],
            "application/vnd.google.colaboratory.intrinsic+json": {
              "type": "dataframe",
              "variable_name": "x_train",
              "summary": "{\n  \"name\": \"x_train\",\n  \"rows\": 6267,\n  \"fields\": [\n    {\n      \"column\": \"posts\",\n      \"properties\": {\n        \"dtype\": \"string\",\n        \"num_unique_values\": 6267,\n        \"samples\": [\n          \"usual feel physic symptom feel realli intens pain insid cannot think straight mental emot hard explainhi like creat stuff music art whatev stuff problem terribl handl critic even construct actual construct critic might even evenhey welcom personalitycaf welcom kromi cat freak cool hahamrcafebot pleas edit post instead repost thank lol idea happen welcom personalitycaf dame hello welcomehello welcom personalitycafewelcom personalitycaf daniporf anoth akward infp sure bunch hahanic potato welcom forumhello welcom like zelda hahaha educ ugh go vote yeah bad besid school system sweden anywayswag yolo ugh dothi thread get confusingso group guy never say anyth stand say noth sure even listen say like pleas stop sohi welcom personalitycaf see street crazi guy cycl like chase dinosaur otherwis sit computerfeel stupidi thought obviou confus infp vs infj one singl letter differ natur assum similar sinc learn funtion andher get cooki hey welcom hit gym earlier today check ab hey watch game last saturday sup dawg hittin dat wtf lolit either chaotic good chaotic neutral sinc tire drama st end choos chaotic neutral lol edit took test got neutral noinfp sweden welcom ye infp find site haha find question weird first peopl answer ye ye stephen hawk lot peopl either assum hope howev fewdepend mean electron genr music made use synthesis even sampler much techno certainli dubstep lol anyway like niceactu would like mention anoth thing sure problem talk peopl fear get know someon complet chang troubl talk toheck yeah could say pretti unreason high expect regard thing want lifeconfid confid confid tell guy suffer social anxieti ok take serious want mention sure cure isi feel like mysteri lone wolv chang world put mind hello also infp sweden welcomei pretti crappi day felt realli sad depress today guess littl bit better thoughbut penguin realli cute funni haha anyway sure know teacher kid school thought realli weird never talk anyon want play themy hello first postiv stuff spring ye final start get warmer realli start get tire cold especi wind oh sunshin feel nice summerpeopl confus lazi hate stuff want like chore welcom swedish vlkommen haha thread made smile ye happen sometimesi turn year never realli childhood felt grown ever sinc like social anxieti life recent realli interest peopl alway loner thing also never quit felt thatwow alreadi knew infp pretti much said ye p statement thank sharinghello welcom way certainli come across rude awkard anyway rude awkard one hello welcom personalitycafeshould fine realli matur work lot themselvesi mostli play minecraft nowaday mani thing regular surviv right actual make parkourplatform map even made musicwelcom seem like realli cool person wait sweden wait somehow relat last name realli unusu haha\",\n          \"want danceultim devic pleasur head massag time head massagerget drunk touch stuff switch hot cold cold hot multipl time end shower playinglisten music sleep nake thread counti develop feel peopl unless person show interest first attract almost alway follow aloneidl start thinki best friend take myersbrigg test six year ago score enfj earli known guy sinc elementari school pretti except ii old roommat infp tell intellig genuin consider person ever met best compliment ever gotten easymi tast gotten consist less mainstream gotten older though realli never mainstream begin first favorit band tool start listen toi post run gigglingthi interest good job op sort tan environment logic sensit order hmmm man want meet nf chick blue yellow abstract orhaha fussi right obvious care hmm eh think silli regard question though intellectu connect easiest explainwow usual tri judg peopl harshli sound like total selfcent piec shit alright respect thank clarif studi becom dentist pretti damn familiar stress would definit say regret wors get wrong though say think regret morebecaus unhealthi human be social anim even introvert peopl need relationship especi sexual one plu social provid excel opportun selfi acknowledg understand concern complet honest realli care think plu assumpt wrong relationship like andgood advic thank offens moreorless repres model tri prevent becom know suck intj luckili actual learn howm known best friend sinc eight said friend plural friend basic ever high school shudder thoughtdo peopl commit act kind feel good love act kind love actual selfish well guess feel free tune nt whoy haha guy wackiest imagin sens humor ever encount best friend known sinc elementari school enfj make laugh harderit funni mention date older women eric success recent relationship year old matur realli like formi biggest complaint girl meet involv absenc novelti matur andor intellig unfortun lot stupid selfish selfentitledlik coffe soulscreamar sure actual ask get intj becom emot express relationship rather make appreci fromhello fellow intj nonintj lurker may sound bit redund sinc alreadi new thread similar circul intj forum would guy rather awhat enfp mine would consist key west beach outing friend girlfriend would involv assort cocktail outdoor activ includ camp snorkelingif think whether someon crush might well assum never would receiv signal caus torock climb gym sound weird athlet intp eat shit probabl someth logic challeng rout present variabl wall optionsstarcraft rpgsi peni assum goe gender type hate crowd feel like must take annoy experi date somewher privat asthat liter descript simpli meant rhetor purpos appreci skeptic though one reason comment valuablewow thank much realli appreci effort respons extrem help tremend help least interest sorri advanc sure guy get shit time met intp girl recent posit one believ realli attract wonder iag discov women attract power man everyth els determin power differ depend societi instancei slept three girl yeah best sex ever infp incred virtual anyth time estj esfj hand sogood tangi would male lion way could lay around day women feed work rais kid comfort enough peopl get realli emot around liter friend nf intoler someon want open welli alway lost thought complet oblivi environ pretti bad sometim like day ride bike class alway notic myi would go slytherin could kick snape wrong peopl thread noth get mani postshahaha ann kane like true entp argu incessantli without selfreflect critic comment made warrant equal critic respons lose finger doubt evenmi roommat infp one incompet peopl know perpetu get troubl never plan ahead bother judg bad situationwow kind surpris post two flavor respons either intj women claim never allow touch intj men confess never beingyou elitist good know intellig peopl check ego hope one day abl substitut inferior feel around humbl like one like name bubbl extrovert girl confus bore disposit mysteriousmi cousin entp person judgment need order win debat socrat logic work everi time ever admit prove full shit suspecti express opinion freeli issu concern import often intimid speak critic hand difficult dishthank opinion subject enjoy must admit theori behind mbti compat somewhat flimsi well aspect mbti obviou thatlol intuit forum see mean hidden mean suppos must refer nonliter commun convers natur imbib\",\n          \"one best friend infjprob infj know outsid cyberspac togeth tend feed act mutual bad good influenc husbandwow awesom perfectfunni mani call mbti pseudosci yet rantfar accur say big bang cosmologyi excel coordin balanc gener athlet focusedi kayak ski skate climb well mani similar activ well pay complet believ anyth allatheist pretti sure univers beeni selfgeneratedno deiti outsid thing forc involvedpantheist themi usernam phoenician later hebrew word serpent could also mean brazensometim also translat shimmer enchanterpronounc nahash roughli spelledi listen prettymuch everyth asid popular music hear radio accord lastfm although complet sinc listen scrobbl listenthanky everyon responsesadvic lowercost function fail wade sea emot difficult comprehend onslaught ither gener alway someth tell despis lie selfadmittedli problem withhold inform tend extrem passiveaggress andso came across articl today guest articl care entp pleasebenicetom sure read hell one may written anyway thought wasi enorm collect music song everi imagin genr hard drive right hundr cd hundr album vinyl quit sure one like iti alway consid chaotic neutral took bunch onlin test said chaotic neutral sochaot neutral isnarciss unconvention great sens direct find way back came eventu without ask direct other howev tend easili distract andi daydream quit bit sometim convers person talk second straight read sometim read page ine much like malkovich describ feel origin idea rather see often refer channel sinc often complet bypass thought simplyi wear pj pant teeshirt bathrob home colder month friend mine pajama parti theme birthday parti last month wore outfit peopl allwsww good wsww want getse easi wsww take pride stay true matter mani simplemind peopl see style weirdexplain god five wordsmi favorit book cosmic trigger final secret illuminati favorit author robert anton wilson also wrote favorit fiction illuminatu trilog robert sheaactual assholey cannot see end thoughm buddi fair last summer narcissist sens revel awesom want util awesom spread awesom other world larg altruistichmm well bit cautiou gener year agocolleg spring breaki sure se function develop bit sinc timemayb bit attent ratheri love fire explos long rememb actual origin major chemistri colleg exotherm reaction kid would fill gi joefavorit artist shpongl beat antiqu coil deladap mahala ra banda mochipet dunkelbunt maduro dj composeproduc electron music play guitar year bass african middl eastern drum year also play littl didgeridoo anddeladap know wanti retest variou place think initi result correct current result consitantli w sxspso chang w w trityp seem veryi start upload artwork profil page right folder call dreamtim instal sever friend one friend construct nativei artist went art school everyth valu uniqu provoc asthet techniqu extent tri invok feel much emot like insan imi girlfriend unstabl enfj cannot disagre kind like coupl hous haunt hill continu murder plot cat dog would get huski malamut spaceentp q star treki cat black cat evil intj surli antisoci tend spend time alon probabl plot cat sweetheart butkittehhello special hello horni robot habit barg day ago respond bunch thread never actual introduc alsogreenmi girlfriend enfj close friend entp enfp enfj isfj intp esfpchicken hummu falafel tzatziki couscou bacon jerki peanut butter cupsilluminatu trilog robert shea robert anton wilson graviti rainbow thoma pynchon temporari autonom zone hakim beyi serious doubt could last longer weekend longdist relationshipi gener dress like comic book charact alway cape tight gener basic outfit depend weather go usual alway wear black ii gener make habit quit often tell peopl awesom usual jest deep realli joke make fun realli notw w w sxsp\"\n        ],\n        \"semantic_type\": \"\",\n        \"description\": \"\"\n      }\n    }\n  ]\n}"
            }
          },
          "metadata": {},
          "execution_count": 25
        }
      ]
    },
    {
      "cell_type": "markdown",
      "metadata": {
        "id": "ba0r1ASHorxf"
      },
      "source": [
        "**You  are doing Great so far!**"
      ]
    },
    {
      "cell_type": "markdown",
      "source": [
        "###Cleaning and Preprocessing(data validation)"
      ],
      "metadata": {
        "id": "44yoECojgojO"
      }
    },
    {
      "cell_type": "code",
      "execution_count": 26,
      "metadata": {
        "id": "LPpx2kMsg5A_"
      },
      "outputs": [],
      "source": [
        "# Remove any numbers\n",
        "x_val['posts'] = x_val['posts'].apply(lambda x:re.sub('\\d+',\"\",x))"
      ]
    },
    {
      "cell_type": "code",
      "execution_count": 27,
      "metadata": {
        "id": "F4VHEkg0g5BW"
      },
      "outputs": [],
      "source": [
        "# Remove URLs, mentions, and hashtags\n",
        "x_val['posts'] = x_val['posts'].apply(lambda x: re.sub('http\\S+|www\\S+|@[^\\s]+|#\\S+',\"\",x))"
      ]
    },
    {
      "cell_type": "code",
      "source": [
        "x_val['posts'] = x_val['posts'].apply(preprocess_text)"
      ],
      "metadata": {
        "id": "UsTqyU4Ug5BX"
      },
      "execution_count": 28,
      "outputs": []
    },
    {
      "cell_type": "code",
      "source": [
        "# Remove non-ASCII characters and special symbols\n",
        "x_val['posts'] = x_val['posts'].apply(lambda x: re.sub(r'[^\\x00-\\x7F]+',\"\",x))"
      ],
      "metadata": {
        "id": "QGnthR55g5BX"
      },
      "execution_count": 29,
      "outputs": []
    },
    {
      "cell_type": "code",
      "source": [
        "#Lowercase\n",
        "x_val['posts'] = x_val['posts'].apply(lambda x: x.lower())"
      ],
      "metadata": {
        "id": "HEHCuVJ6g5BX"
      },
      "execution_count": 30,
      "outputs": []
    },
    {
      "cell_type": "code",
      "source": [
        "#stemmer\n",
        "x_val['posts'] = x_val['posts'].apply(stem_words)"
      ],
      "metadata": {
        "id": "Zp61aFByg5BY"
      },
      "execution_count": 31,
      "outputs": []
    },
    {
      "cell_type": "code",
      "source": [
        "x_val.head(50)"
      ],
      "metadata": {
        "colab": {
          "base_uri": "https://localhost:8080/",
          "height": 1000
        },
        "id": "RdLDblZWiIm3",
        "outputId": "8226883c-d690-4a72-e515-2cbfbffa81b7"
      },
      "execution_count": 32,
      "outputs": [
        {
          "output_type": "execute_result",
          "data": {
            "text/plain": [
              "                                                                                                                                                                                                                                                                                                                                                                                                                                                                                                                    posts\n",
              "7168  wolf well lord elgin partial intact greek sculptur british museumbritish museum greek sculptur robbi dpchalleng starri nightvinc van goghth starri night wikipedia freerazef hope feel better soon mate wear heart sleev even want highli proud stubborn anyth protect peopl loveshug hug anyon worri mate subscrib theori organ chao come person spaceshug courtesi upper bodi crippl take advantag offer stillalasth imag abl seen mufasa hug rafikihappi spring break hug go old school lion kingthread reviv...\n",
              "5458  doll love movi list make think trityp one fave heal abil often attribut might somehow benefit thereabuseabandon caus ness basic freez us emot thu black white simplic overwhelm emot control tendenc symptom deeperswordsman mana know million year sinc thread got start your still interest could tell think trityp love read commentshi guy fionn whitehead star nolan dunkirk lead he newcom well media train reaction seem pretti genuin think got type watchingenneagram stack might play bigger role type...\n",
              "4758  wow realli piss peopl post piec geniu creat simpl would go elementari school onesi around sothi simpl would go elementari school onesi around right get recess would go place central school like black topdemond sad idiot inferior complex realiz potenti smart einstein ever want truli intellig manyi complet disagre peopl rais extrovert commun famili later teen discov introvert intp believ born withi think entp show crime scene rather plan show face larg one get point across behind everythingsch...\n",
              "3922  definit fi even littl kid easili sway popular consensuscontrol constantli critic treat unfairli disrespectenfpmi istj like servic touch action love languagesesfp word affirm qualiti timei sure great person littl uptight side live littl funni thread best troll seen whileright excit read intj dri reapons next stop istp estpit amus even get stir peopledear posh eagl pleas make thread sincer super amus avoid workhaha love itti subject itquit analog someon need take cold shower huh would make sen...\n",
              "5036  apolog brought life anyth like mine thread like probabl appear forum bounc perc everi month cannotlimit experi known two pretti lukewarm irrever humour funni yesbut two known guy friend pretti arrog found theiri know would write one us mean interest definit go page think book could written singl mbti typein life matter much littl money made abl surviv pretti well plan financ alway manag live decent even got theremi mom esfj overal good relationship certainli one think n part person area caus...\n",
              "5213  obvious mean mental defici prove kid internetspecif ami thought trump ooh know one two kind judgement answer essay one favorit essayist worri futur done plenti find iti mind textbas smiley use sparingli think imag one kind tacki use exclam mark one per sentenc like peopl dopon farrwhat scari question even like think would hurt judg number offtop snarki repli thread one howev also anestp glanc type closeuh video miss someth anyway thank think emot energi power learn use cours definit aw diffi...\n",
              "1464  time realli wish e less ii prudent choos least damag method situat regardless tell truth keep note tell lyingentp similar intp except better express make less weird peopl understand themit anyth visual lewd could never imagin sex guy formless voic hot beyond whole movi touch definit worthsoci condit pretti much part outer circumst right exactli reject youvr porn conscienc shit man ever seen movi sex scene fuck hotmal femal matter well sometim strong belief outwardli appear like ego tend vigi...\n",
              "1163  fault popular anyon recent began read want give tomoko big hugoh nice guess could intj insteadstrok one white fluffi cat mash face laugh globe maniac guess xsfj lot lot si feheh oneup everyonei even notic mention annoy shit point someth would rather mention sure deduc anoth tablink worth watch rude donnetout cechic etromantiqu alor faisonsl comm il le font sur ububdcouvert canal je tien vou dire comment se plonger dan ta chatt caverneux nou allon tenir la main sur un ta de scientist mothafuc...\n",
              "7718  indeednot lesbian still fan fav band respect ever sinc saw loath smoke also mostli loath seem awar stand wind metr away good blow smoke right face stand therembti interest guidelin get peopl come phase life believ second type chang perhap peopl want resist type becausemi thought peopl born type seen inargu evid suggest type never chang pleas give support evid thatupd appar sentenc propos type anoth system peopl learn use knowledg dish misguid wisdom devlish superior enougha year ago test mul...\n",
              "187   rush limbaugh intuit uncl rucku sensorsa week month fafe face social interactionintrovert think extrovert intuit give abil pattern seek logic find way correl inform throw away old inform realiti make us great atintp smartest nowher get around suck social level get older control social set eas master everyth void thejung better throw garbag drug usingintp thrive anarchist societi type go nut insan without law order sj go nut find reason make us rule regul enforc itonli great discuss idea thou...\n",
              "1364  yeah fine way african american came gut nowthank much staff ban davidh extrovert introvert n big pictur detail thought ts form adhdtalk energi idn social protect dlt heal actno esfpi inexperienc simpli care function worri mad long abl type type right know peopl carefirst post thread insult second care function third experienc probabl type fourth definitelya entj notic tend know wrong way thing exampl peg peopl know anoth person ani say respect misinterpret postop say enfjtel peopl supervis r...\n",
              "8365  bowlssoilsspecul part guesstim follow mom istj w dad extj estj w brother entj w took time ponder person type childhood startedfor focus hone primari artist medium oppos someon dabbl varieti medium without ever realli focus herhi attent one inhuh interest perspect think consid familiar concept thought feel behaviour chain feel seen asspit swallow crazya someon els feel like squar peg round world contempl squar peg exist one thought keep come back squar peg hold specialhmmm good point awar neg...\n",
              "3080  dear entp use resent much becom like dafuq word affirm qualiti time receiv gift act servic physic touch lol alway knew care wordsyeah ego huge goodwhi cannot get along puppi rainbow thing fuzzi cutetru seem matur time somebodi piss offunnerv get angryi problem statement op selfish give damn hurt peopl honesti selfish doubt lack complet cani rel valu matter djeez thread depress entj women marri kid might well tack happi haha kid kidi sure thought funni ador kid though sincer kid concern hahye...\n",
              "1080  hi gf month sometim problem get past surfac level convers hate superfici talk iron poor shift gear ofhello may infprel mayb fellow infp relat know say situat even come someth alway sound stilt even ahi everyon long stori short current talk infp girl get along great well awar interest howev rather fundament differ sourc infp cafhello wonder tact answer honest like set goal except marri famili lol women might think ambitionhello infp friend come realiz often becom unconsci soft deal busi matte...\n",
              "3718  cannot tell clever person ever conveni typo either way prop definit perfectionist tendenc isi question extrovers frequent good friend sure pretti clear extrovert lot time peopl realli good friend tri talk sortsound like need move lot famili problem last year climax dad declar never want see kick suck first sure buti set loud vari alarm fuck place turn finish whatev need finish go set go mn ortim minchin alway tim minchin long time violin went real world mostli draw occasion write stori prett...\n",
              "626   think one particularli suitabl infp wonder placemay recommend le huitim jour although unfortun difficult find beat heart skip dive bell butterfli le diner de con la question humain isylvain chomet illusionist waltz bashir dive bell butterli le huitim jour caus cri mine classic youtub del preston del storyabsolut origin symmetri showbiz black hole revel good well though heard resist yet thought good song goodfantast happi favourit songwelkom muse fanhug everyoneyoutub pogu stream whiskey yout...\n",
              "6455  set goal day game small thing usual goal extend beyond day fantas money luxuri nope would like havei bore inact lengthi talk intj rant topic take interest would need blow someth everi awhil come back intjsi sure intj type istp intp turn toward intj switch type go type switch realli isntp intja introvert think expect enjoy absenc peopl love alon least tri think nonoffens answer mother went away holiday sheth ixtx usual one get point robot stereotyp individu fit like f depart think reason deba...\n",
              "1767  welcomeand enjoy rideonli marri someon would aspir liketo add estj husband say quiet must live rich life head tell kind import inform want know event havewond keep fight mindset keep replac neg thought posit one eventu posit thiught make track default brain thinkinggreat ideaboost seretonin level ocd obsess compuls disord also anoth syndrom make one fixat sort thing includ thing erson perhap tosorri th sound like season affect disord best doctor diagnos base secif issu get best care feel bet...\n",
              "1344  know opinion would help sinc girl lesbian lol guess similar thought process guy lot guy friend hang confid inwel think felt cannot believ said thing think pressur expect work best way think must felt think sphm actual tendenc constantli want chang thing work kind impuls though realli tend think grass greener like examplei tend consist run infj time oddli know usual get along well like express feel whatnot like thatthat actual pretti tough well read somewher istp whole noth uncondit like say ...\n",
              "6397  lol interest thank correct thought sensor strict rule sensor know life like yeahi compar isfp brother infp sister thought gener trait rule written one like law etc also nonwritten one like dresscodesi see p make obey rule less compar similar type sensor intuitor like isfp infp isfp ruleobedi infp givesorri repeat thing unconci read earlier post laughingwel j see rule reason enough obey experi sensor strict rule intuitor especi stj ravoili lasagna lasagna camp slumber parti camp hamburg hot d...\n",
              "3366  art guess alway suppos depress came territori introvert feel type suffer life anxieti depress pretti sever bout ii tri figur either disabl account chang name account anyon know eitheri despis movi like sucker punch even desir see love good stori well appreci beauti aesthet realli enjoy shutter island care cheapi well known hardcor drinkingdrunk live show provid sexual favor mic get wrong love karen yeah yeah yeah like thread idea howev sure karen terrif role modelth thing even concret dream ...\n",
              "7028  funni wish girl stuff good know exist thoughyep live enfp without depress period life found though realli help make feel good givess although probabl would rather live think romant period would best time enfp thoughon friend enfp work local colleg freshman orient regularli take group student retreat lot motiv speak doingther deadlin experienc thing life alway live life pace otherwis could get hurt truth high school realli worst time peoplesi guess one lucki one never question type took test ...\n",
              "6962  got realli interest person type year ago period person tumult typolog becam illumin tool revisit ixv member forumi obvious disco mood today mind mysteri laughingit would nice could discern exactli line kind consider person pathet sap show self respect feel stray overthank exqui put smile face today hug mayb month ago thread infp slumber parti feel low sometim revisit ideayesterday feel anxiou stress ventur duski walk natur reliabl soother quiet green wind tower tree twitter bird andi read en...\n",
              "7430  mayb intj fi would fit tri itsomeon real ego lovabl care easi around someon pay attent need christian plu alot discuss trust valu goodmi daydream ceas around age would link matur unfortun info stop know felt good anyway cannot spendi believ possibl unlearn daydream consciou effort state proven quit imposs learn daydream want get rid unrealist hope whichi tbase intp ladi give empathi think trait alright clash fi mayb empathi someth univers relat mynot sens humorit popular topic sex relationsh...\n",
              "6569  ye sir thankswhi freak mean mtbi end threaddo get alon extrovert type understand merit questionmi wife ideal partnerth answer look immatur regardless intent actionsask one use thing ever learn relationship commun start nowspeak avatarsther way know without assess level health lot inform possibl ixxjwhat mean proper direct handl like need expel student least interpret would said respond winknexty cannot concentr yet spent min write one concentr thought wrote compos well go anyth serious worri...\n",
              "1637  well thank respons thought repli post coupl day ago reason see repli anymor much grudg scare mehow make feel other blatantli ignor kind complic last seven month ignoringavoid enfp basic hurt feel ahmm think exactli either unfortun like stay way realli interact unless absolut necessari one tri mean justoh right sorri reason thought saw either way origin advic still samechristianityi find realli hard appreci one person philosophi alway wonder special supposedli great philosoph dead aliv whatyo...\n",
              "661   big result equival infp interpret f common romanc movi crusad right intj istj hermion istj massiv crusadersyeah drive car today realiz would type instead oop snape like intj lack much lack domin even auxiliari fi emot thingsintp ti dom typic worri appear compet though sometim happen get stuck tisi loop though typic selfdoubt worri abouthav read articl similar infp one link discuss inferior fe intp would probabl good read compar differ two sorri iyou seem like infp see much ti domin origin po...\n",
              "2319  entitl think simpli see harm foul mani rich cultur tradit opinion live world creat vast major like ofi sure would mean lot lot day mother day father day christma honor peopl necessarili agre honor deserv honorther lot veteran say thank fact serv afford rest peopl choic matter howev opt serv luckili rest ofstruggl whole life think issu get connect peopl make friend easili life cannot seem find mani easili relat long termright like hell delusion statewhat great video thank much share iti entp ...\n",
              "8078  realli depend part uncomfort share emot point mani other often comment face unread think essenti communicateat point time definit want children look children disdain scream fit grubbi finger stuff would enjoy howev cross ithaha great coupl peopl will listen peopl gone deep mbti convers enfp istj anoth intj other met carenowaday dislik peopl rise exponenti social conflict pile year istj mother get lot fight seem care fori definit time retyp friend time ie isfj friend got isfp first final agre...\n",
              "8039  think differ depend matur level younger like mysteri guy bit laid back unassum grew older start date intjcream sex word fucki never met person want kill much want fuck met intj exhaha funnyb bore brokeinterest would certainli like know type compat say time think intp bore met would date alwaysbut peopl realli know thought member perc saw stupid shit post thought intent famili would suffer know exactlywel one would gladli pick mate perc alreadi discuss bang membersmi recent disturb thought ha...\n",
              "5734  cat chihuahuapug mix realli hard say prefer kind depend day love close one cat dog catyou right women like men differ person experi men tend confid speak subject publicthank kind exactli thought sum realli beauti also interest mani infp tattoo understand lot thewhil understand piti other someth involv judgment gener love peopl feel deepli tattoo want showa far go realli see go either way want uniqu someth relat ident hand get one increasingli popular beinghello prolong adrenalin rush get fir...\n",
              "3375  awesom first experi medit weird scaryhop show limitless potenti mind focu tranc medit also done zazensom thought may help emot constant state chao one minut everyth perfect alway perfect next minut noth perfect could never besomewher childhood thought go read everyth geniu say amaz thing time took anoth year tell shut hell famili itali israel one point go make aliyah join idf cousin abl call isra instead went colleg philadelphia move downinfj love talk love first time felt love norwegian blo...\n",
              "1909  also think w sosp exactli think type think much narciss least conscious interest keep ask myselfhey good see good back run real life situat need brush enneagram knowledg also want learn instinct notright almost like want peopl think sexual realli sexual read colleg spent free time work chase women long time friend said heinterest often feel individu solid meet solid one tough alway feel eas solid almost physic thanfirst never say anyth person like ts go way sincer call think slick intellectu...\n",
              "38    hey enfp post thread philosophi board realli curiou read respons enfp particular realiz quit prone follow believ religion think religion form control unifi popul common spiritu give room love compass commun growth althoughth reconstruct planet call earth part dark transpar blob energi float wander planet kingdom exist plantaeor mere accept haha fuck got carri away pretti much drift away intend topic discuss interest emphas philosophi thread focusdo cross line perhap sake humour freedom inter...\n",
              "8660  love vast sky problem sad alway seem granular petti comparisonalso guy mubi account seen ordet kind let still magic qualiti love speak magic cannot get howiirc fwiw think definit infp intp somewhat psychopath tendenc go prolong episod depress areyeah rightguy ask whether infp ws liter exist experi someon seem main motiv typic infp wouldi know bother thisnot abl identifi type mean much mbti pretti much meaningless still bother meok feel like straddl infp intp relat lot complet identifi either...\n",
              "1049  reactboysteakstar think situat depend much common year go find life experi good way let peopl know interact agesmeari sing jesu swam jackshappinessproudrobin william jim carreyi took last coment littl strongli apolog level responsesinc find retort well childish also sinc marri enfp flake duti mean alway fulfillingepinephrinestuck lionel ritchiehow could thank istj clearli winner fullfil duti battl enfpsi work somon incompet slow lazi lack brain power find work well mine bless howev get respe...\n",
              "2702  way structur post ti heavi seem ne witti humor especi like evalu joke would fit fine either xntp type would say lean intpi flirt addict whether marijuana food tea also inferior se becom awkward extrem euphor situat constantther definit peopl still appreci artist valu behind music although much peopl use usual underground commun bestmi person favorit undertow lateralu artwork favorit reflect awesom choos kittehhi welcom perc eq sucksinfp way feel like big ball fi much better lift subdu wayi a...\n",
              "3743  person said peopl say care realli express way want true entp enfp intp estp entj hmmm interest especi entj part loloh also type enneagram may make seem like touch feelingshmmm make think lol take cognit function test extrem low te honestli hate everyth stand read dad girlfriend istypeentp degre associ psych get bachelor psych minor possibl market philosophi want either therapist someth inthank help guy entp lolwhi think enfp yeah sure ever thought introvert lolher question answer copi past k...\n",
              "4033  hmm interest thought mass ignor load money reason reason alonebenefici word noun otherwis convent improperli use noun benefit correctli use noun point post understand stickingi think key respect may also come jerk assert tell peopl think good thing nessicarili make awelcom inde know feel tri find someon challeng meet ideal think problem entj peopl lack breath life show noi disagre opinion first believ object evil requir outsid influenc capabl decid good andso much beat head keyboard debat mu...\n",
              "8256  get ass see white peopl train lol even ask respons oh yeah cannot ask answer like mangu also want punch romeo santo face make coffe thought similar concept analys thing tini analys thing way one logic base theoreticallyi question regard inferior ti vs inferior ni would inferior ti user tend overemphas ti though natur strong point would inferior ni user enddid guy miss meyeah like said know nise somewher axi never realli thought enfj much guess need actual studi charact morei know year late r...\n",
              "6757  intp observ think fj fp fs gener desir affect manipul other feel think infp feel guilti bc hsp hello entp intp type w wonder found entp tend better career intp known entp real life tend tokind care toward hous order career save know get thing get thing done sexual monogam relationshipestj confid know pretti much everyth life time year oldcongrat monemi estp follow regularli forumin respons origin post intj often come across arrog concern hurt other intp intj appear ineffici wast lazi p dc ti...\n",
              "8247  welcom hmmi got happi cheer ladi one settl littl insignific someth big also think draw clear line whatwhom likewel way wrote name bottom seem prettyfirmlik realli believ urself make impress handwrit seem float paperi think pretti easi get lost thoughtsdrift away like even convers nervou selfdoubt maybeand think view someon capabl lot evenoki get friendli creativ shi vibe think also think display emot respons someth readili react tell wrong hmmnot peopleperson time may seem kind cold other de...\n",
              "1551  yea also kant esfpa show goe light lose care attitud get driven exclus thirst power consid first motiv would say effect critic isextj type normal would call extravert unless use mbti opinionentjwhen specul reason get interrupt ye loli get well everi intj know love intjinfj relat may right contrast time time would call posit debat intj quit ai sometim wish p mayb extp way would like infp lolinfj good sport andnoth els lolit funni hear one side parti oh look girl bring alcohol side hear said d...\n",
              "423   know type thread work would like know real type know want say someth would make actual someth sinc expert relationship situat got seem complic know youdecid shut heart part never felt betterth type go tri explain peopl type think mechan ration action valu action valu matter long theinfj intj would like care less peopl thinklik well guess even though right time like compar answer luxuri get real life well need read mind know believ peopl asshol proven otherwis take less time decid like person...\n",
              "7016  play robot us tootsi pop full ooy gooy feel fluff matter lickshmmm say gave love entir meet someon els genuin interest actual interest would probabl abandon potenti forlook silent one hypnot unblink stare wink may habit pick finger gaze distanc almost like knit knew sever cooki monster would mission dispos replac santa clau friend birthday parti realli like purpl forc wear tonguei know enfj work constantli bounc funni joke idea like feedback loop awesomenesshmmm recal ever see femmeintj ough...\n",
              "3677  use high school parent money adult buy everyth know last time bought someth need practicalmi mom isfj newli marri istp husband realli hard see struggl initi struggl istp bf almost like expect tohaha look mine odd thank make awar small wonder sorri answerof cours mutual mayb found right person yet three love relationship first mutual second love current mutual ii nanni five kid age year clung favorit adult figur would sadli ask could mom parent workahol spousalthi ps ace face love post usual ...\n",
              "8098  yeah stranger want bare go outsid crawl around like zombi less imagin makeup walkingsometim thing loathsom hard process verbal may need help other properli convey aw therefor made thread writeif other bad mood tend feel well ye psychologist told learn differenti emot other somewhat odd ofmi rebutt would could experi someth without bodi experienc right time look peopl dead revivedmi impress head heart triad think import first address type even though much content postyeah well notyour mom fat...\n",
              "2585  woooooow gzsomeon hand infj guy test purpos write report estj xdhahaha sure infj extravert everi damn test take extravert nice know clumsi fck peopl xdfor def ye sometim understand motiv said accept outcom want know start mhm trust doand came say total bother puffer welcom bet like see say maybei want thank necrilia answer honest think hard make feel nonexist say busi come someth want towelcom forum hope enjoy time herethank much realli realli help often insecur make question move fast annoy...\n",
              "3350  deletedi wish fast thinker someon ask question offguard want abl speak say thing flow well alway need time process thought first repli think final accomplish someth leav got problem talk say much peopl want chang head know way make happi like thing idea rare implement sometim easi start ori would rather take book librari go one quiet room find quiet seclud spot read rather bookstor cafe seem public rabbitsi read portrait artist young man ulyss joyc read siddharta hess back th grade love sinc...\n",
              "6064  hello take forum thread serious let us take step take mbti serious curiou thank responseshahai read infp make decis plan wed dnaaah newb give free pass bad thing without get scold rememb newb da cartoon childhood dwelcom yellow dtip number watch tip number oh waitnevermind dmi dog gave chewtoy never oohorror stuff alway make uncomfort may chipmunk like chees avocado devolut show resourc provid children dsuffer tri finish paper polit economi find bore still need word mehknowledg like tool pow..."
            ],
            "text/html": [
              "\n",
              "  <div id=\"df-453ca6b4-32ef-4348-a6da-4fd0ac7f4017\" class=\"colab-df-container\">\n",
              "    <div>\n",
              "<style scoped>\n",
              "    .dataframe tbody tr th:only-of-type {\n",
              "        vertical-align: middle;\n",
              "    }\n",
              "\n",
              "    .dataframe tbody tr th {\n",
              "        vertical-align: top;\n",
              "    }\n",
              "\n",
              "    .dataframe thead th {\n",
              "        text-align: right;\n",
              "    }\n",
              "</style>\n",
              "<table border=\"1\" class=\"dataframe\">\n",
              "  <thead>\n",
              "    <tr style=\"text-align: right;\">\n",
              "      <th></th>\n",
              "      <th>posts</th>\n",
              "    </tr>\n",
              "  </thead>\n",
              "  <tbody>\n",
              "    <tr>\n",
              "      <th>7168</th>\n",
              "      <td>wolf well lord elgin partial intact greek sculptur british museumbritish museum greek sculptur robbi dpchalleng starri nightvinc van goghth starri night wikipedia freerazef hope feel better soon mate wear heart sleev even want highli proud stubborn anyth protect peopl loveshug hug anyon worri mate subscrib theori organ chao come person spaceshug courtesi upper bodi crippl take advantag offer stillalasth imag abl seen mufasa hug rafikihappi spring break hug go old school lion kingthread reviv...</td>\n",
              "    </tr>\n",
              "    <tr>\n",
              "      <th>5458</th>\n",
              "      <td>doll love movi list make think trityp one fave heal abil often attribut might somehow benefit thereabuseabandon caus ness basic freez us emot thu black white simplic overwhelm emot control tendenc symptom deeperswordsman mana know million year sinc thread got start your still interest could tell think trityp love read commentshi guy fionn whitehead star nolan dunkirk lead he newcom well media train reaction seem pretti genuin think got type watchingenneagram stack might play bigger role type...</td>\n",
              "    </tr>\n",
              "    <tr>\n",
              "      <th>4758</th>\n",
              "      <td>wow realli piss peopl post piec geniu creat simpl would go elementari school onesi around sothi simpl would go elementari school onesi around right get recess would go place central school like black topdemond sad idiot inferior complex realiz potenti smart einstein ever want truli intellig manyi complet disagre peopl rais extrovert commun famili later teen discov introvert intp believ born withi think entp show crime scene rather plan show face larg one get point across behind everythingsch...</td>\n",
              "    </tr>\n",
              "    <tr>\n",
              "      <th>3922</th>\n",
              "      <td>definit fi even littl kid easili sway popular consensuscontrol constantli critic treat unfairli disrespectenfpmi istj like servic touch action love languagesesfp word affirm qualiti timei sure great person littl uptight side live littl funni thread best troll seen whileright excit read intj dri reapons next stop istp estpit amus even get stir peopledear posh eagl pleas make thread sincer super amus avoid workhaha love itti subject itquit analog someon need take cold shower huh would make sen...</td>\n",
              "    </tr>\n",
              "    <tr>\n",
              "      <th>5036</th>\n",
              "      <td>apolog brought life anyth like mine thread like probabl appear forum bounc perc everi month cannotlimit experi known two pretti lukewarm irrever humour funni yesbut two known guy friend pretti arrog found theiri know would write one us mean interest definit go page think book could written singl mbti typein life matter much littl money made abl surviv pretti well plan financ alway manag live decent even got theremi mom esfj overal good relationship certainli one think n part person area caus...</td>\n",
              "    </tr>\n",
              "    <tr>\n",
              "      <th>5213</th>\n",
              "      <td>obvious mean mental defici prove kid internetspecif ami thought trump ooh know one two kind judgement answer essay one favorit essayist worri futur done plenti find iti mind textbas smiley use sparingli think imag one kind tacki use exclam mark one per sentenc like peopl dopon farrwhat scari question even like think would hurt judg number offtop snarki repli thread one howev also anestp glanc type closeuh video miss someth anyway thank think emot energi power learn use cours definit aw diffi...</td>\n",
              "    </tr>\n",
              "    <tr>\n",
              "      <th>1464</th>\n",
              "      <td>time realli wish e less ii prudent choos least damag method situat regardless tell truth keep note tell lyingentp similar intp except better express make less weird peopl understand themit anyth visual lewd could never imagin sex guy formless voic hot beyond whole movi touch definit worthsoci condit pretti much part outer circumst right exactli reject youvr porn conscienc shit man ever seen movi sex scene fuck hotmal femal matter well sometim strong belief outwardli appear like ego tend vigi...</td>\n",
              "    </tr>\n",
              "    <tr>\n",
              "      <th>1163</th>\n",
              "      <td>fault popular anyon recent began read want give tomoko big hugoh nice guess could intj insteadstrok one white fluffi cat mash face laugh globe maniac guess xsfj lot lot si feheh oneup everyonei even notic mention annoy shit point someth would rather mention sure deduc anoth tablink worth watch rude donnetout cechic etromantiqu alor faisonsl comm il le font sur ububdcouvert canal je tien vou dire comment se plonger dan ta chatt caverneux nou allon tenir la main sur un ta de scientist mothafuc...</td>\n",
              "    </tr>\n",
              "    <tr>\n",
              "      <th>7718</th>\n",
              "      <td>indeednot lesbian still fan fav band respect ever sinc saw loath smoke also mostli loath seem awar stand wind metr away good blow smoke right face stand therembti interest guidelin get peopl come phase life believ second type chang perhap peopl want resist type becausemi thought peopl born type seen inargu evid suggest type never chang pleas give support evid thatupd appar sentenc propos type anoth system peopl learn use knowledg dish misguid wisdom devlish superior enougha year ago test mul...</td>\n",
              "    </tr>\n",
              "    <tr>\n",
              "      <th>187</th>\n",
              "      <td>rush limbaugh intuit uncl rucku sensorsa week month fafe face social interactionintrovert think extrovert intuit give abil pattern seek logic find way correl inform throw away old inform realiti make us great atintp smartest nowher get around suck social level get older control social set eas master everyth void thejung better throw garbag drug usingintp thrive anarchist societi type go nut insan without law order sj go nut find reason make us rule regul enforc itonli great discuss idea thou...</td>\n",
              "    </tr>\n",
              "    <tr>\n",
              "      <th>1364</th>\n",
              "      <td>yeah fine way african american came gut nowthank much staff ban davidh extrovert introvert n big pictur detail thought ts form adhdtalk energi idn social protect dlt heal actno esfpi inexperienc simpli care function worri mad long abl type type right know peopl carefirst post thread insult second care function third experienc probabl type fourth definitelya entj notic tend know wrong way thing exampl peg peopl know anoth person ani say respect misinterpret postop say enfjtel peopl supervis r...</td>\n",
              "    </tr>\n",
              "    <tr>\n",
              "      <th>8365</th>\n",
              "      <td>bowlssoilsspecul part guesstim follow mom istj w dad extj estj w brother entj w took time ponder person type childhood startedfor focus hone primari artist medium oppos someon dabbl varieti medium without ever realli focus herhi attent one inhuh interest perspect think consid familiar concept thought feel behaviour chain feel seen asspit swallow crazya someon els feel like squar peg round world contempl squar peg exist one thought keep come back squar peg hold specialhmmm good point awar neg...</td>\n",
              "    </tr>\n",
              "    <tr>\n",
              "      <th>3080</th>\n",
              "      <td>dear entp use resent much becom like dafuq word affirm qualiti time receiv gift act servic physic touch lol alway knew care wordsyeah ego huge goodwhi cannot get along puppi rainbow thing fuzzi cutetru seem matur time somebodi piss offunnerv get angryi problem statement op selfish give damn hurt peopl honesti selfish doubt lack complet cani rel valu matter djeez thread depress entj women marri kid might well tack happi haha kid kidi sure thought funni ador kid though sincer kid concern hahye...</td>\n",
              "    </tr>\n",
              "    <tr>\n",
              "      <th>1080</th>\n",
              "      <td>hi gf month sometim problem get past surfac level convers hate superfici talk iron poor shift gear ofhello may infprel mayb fellow infp relat know say situat even come someth alway sound stilt even ahi everyon long stori short current talk infp girl get along great well awar interest howev rather fundament differ sourc infp cafhello wonder tact answer honest like set goal except marri famili lol women might think ambitionhello infp friend come realiz often becom unconsci soft deal busi matte...</td>\n",
              "    </tr>\n",
              "    <tr>\n",
              "      <th>3718</th>\n",
              "      <td>cannot tell clever person ever conveni typo either way prop definit perfectionist tendenc isi question extrovers frequent good friend sure pretti clear extrovert lot time peopl realli good friend tri talk sortsound like need move lot famili problem last year climax dad declar never want see kick suck first sure buti set loud vari alarm fuck place turn finish whatev need finish go set go mn ortim minchin alway tim minchin long time violin went real world mostli draw occasion write stori prett...</td>\n",
              "    </tr>\n",
              "    <tr>\n",
              "      <th>626</th>\n",
              "      <td>think one particularli suitabl infp wonder placemay recommend le huitim jour although unfortun difficult find beat heart skip dive bell butterfli le diner de con la question humain isylvain chomet illusionist waltz bashir dive bell butterli le huitim jour caus cri mine classic youtub del preston del storyabsolut origin symmetri showbiz black hole revel good well though heard resist yet thought good song goodfantast happi favourit songwelkom muse fanhug everyoneyoutub pogu stream whiskey yout...</td>\n",
              "    </tr>\n",
              "    <tr>\n",
              "      <th>6455</th>\n",
              "      <td>set goal day game small thing usual goal extend beyond day fantas money luxuri nope would like havei bore inact lengthi talk intj rant topic take interest would need blow someth everi awhil come back intjsi sure intj type istp intp turn toward intj switch type go type switch realli isntp intja introvert think expect enjoy absenc peopl love alon least tri think nonoffens answer mother went away holiday sheth ixtx usual one get point robot stereotyp individu fit like f depart think reason deba...</td>\n",
              "    </tr>\n",
              "    <tr>\n",
              "      <th>1767</th>\n",
              "      <td>welcomeand enjoy rideonli marri someon would aspir liketo add estj husband say quiet must live rich life head tell kind import inform want know event havewond keep fight mindset keep replac neg thought posit one eventu posit thiught make track default brain thinkinggreat ideaboost seretonin level ocd obsess compuls disord also anoth syndrom make one fixat sort thing includ thing erson perhap tosorri th sound like season affect disord best doctor diagnos base secif issu get best care feel bet...</td>\n",
              "    </tr>\n",
              "    <tr>\n",
              "      <th>1344</th>\n",
              "      <td>know opinion would help sinc girl lesbian lol guess similar thought process guy lot guy friend hang confid inwel think felt cannot believ said thing think pressur expect work best way think must felt think sphm actual tendenc constantli want chang thing work kind impuls though realli tend think grass greener like examplei tend consist run infj time oddli know usual get along well like express feel whatnot like thatthat actual pretti tough well read somewher istp whole noth uncondit like say ...</td>\n",
              "    </tr>\n",
              "    <tr>\n",
              "      <th>6397</th>\n",
              "      <td>lol interest thank correct thought sensor strict rule sensor know life like yeahi compar isfp brother infp sister thought gener trait rule written one like law etc also nonwritten one like dresscodesi see p make obey rule less compar similar type sensor intuitor like isfp infp isfp ruleobedi infp givesorri repeat thing unconci read earlier post laughingwel j see rule reason enough obey experi sensor strict rule intuitor especi stj ravoili lasagna lasagna camp slumber parti camp hamburg hot d...</td>\n",
              "    </tr>\n",
              "    <tr>\n",
              "      <th>3366</th>\n",
              "      <td>art guess alway suppos depress came territori introvert feel type suffer life anxieti depress pretti sever bout ii tri figur either disabl account chang name account anyon know eitheri despis movi like sucker punch even desir see love good stori well appreci beauti aesthet realli enjoy shutter island care cheapi well known hardcor drinkingdrunk live show provid sexual favor mic get wrong love karen yeah yeah yeah like thread idea howev sure karen terrif role modelth thing even concret dream ...</td>\n",
              "    </tr>\n",
              "    <tr>\n",
              "      <th>7028</th>\n",
              "      <td>funni wish girl stuff good know exist thoughyep live enfp without depress period life found though realli help make feel good givess although probabl would rather live think romant period would best time enfp thoughon friend enfp work local colleg freshman orient regularli take group student retreat lot motiv speak doingther deadlin experienc thing life alway live life pace otherwis could get hurt truth high school realli worst time peoplesi guess one lucki one never question type took test ...</td>\n",
              "    </tr>\n",
              "    <tr>\n",
              "      <th>6962</th>\n",
              "      <td>got realli interest person type year ago period person tumult typolog becam illumin tool revisit ixv member forumi obvious disco mood today mind mysteri laughingit would nice could discern exactli line kind consider person pathet sap show self respect feel stray overthank exqui put smile face today hug mayb month ago thread infp slumber parti feel low sometim revisit ideayesterday feel anxiou stress ventur duski walk natur reliabl soother quiet green wind tower tree twitter bird andi read en...</td>\n",
              "    </tr>\n",
              "    <tr>\n",
              "      <th>7430</th>\n",
              "      <td>mayb intj fi would fit tri itsomeon real ego lovabl care easi around someon pay attent need christian plu alot discuss trust valu goodmi daydream ceas around age would link matur unfortun info stop know felt good anyway cannot spendi believ possibl unlearn daydream consciou effort state proven quit imposs learn daydream want get rid unrealist hope whichi tbase intp ladi give empathi think trait alright clash fi mayb empathi someth univers relat mynot sens humorit popular topic sex relationsh...</td>\n",
              "    </tr>\n",
              "    <tr>\n",
              "      <th>6569</th>\n",
              "      <td>ye sir thankswhi freak mean mtbi end threaddo get alon extrovert type understand merit questionmi wife ideal partnerth answer look immatur regardless intent actionsask one use thing ever learn relationship commun start nowspeak avatarsther way know without assess level health lot inform possibl ixxjwhat mean proper direct handl like need expel student least interpret would said respond winknexty cannot concentr yet spent min write one concentr thought wrote compos well go anyth serious worri...</td>\n",
              "    </tr>\n",
              "    <tr>\n",
              "      <th>1637</th>\n",
              "      <td>well thank respons thought repli post coupl day ago reason see repli anymor much grudg scare mehow make feel other blatantli ignor kind complic last seven month ignoringavoid enfp basic hurt feel ahmm think exactli either unfortun like stay way realli interact unless absolut necessari one tri mean justoh right sorri reason thought saw either way origin advic still samechristianityi find realli hard appreci one person philosophi alway wonder special supposedli great philosoph dead aliv whatyo...</td>\n",
              "    </tr>\n",
              "    <tr>\n",
              "      <th>661</th>\n",
              "      <td>big result equival infp interpret f common romanc movi crusad right intj istj hermion istj massiv crusadersyeah drive car today realiz would type instead oop snape like intj lack much lack domin even auxiliari fi emot thingsintp ti dom typic worri appear compet though sometim happen get stuck tisi loop though typic selfdoubt worri abouthav read articl similar infp one link discuss inferior fe intp would probabl good read compar differ two sorri iyou seem like infp see much ti domin origin po...</td>\n",
              "    </tr>\n",
              "    <tr>\n",
              "      <th>2319</th>\n",
              "      <td>entitl think simpli see harm foul mani rich cultur tradit opinion live world creat vast major like ofi sure would mean lot lot day mother day father day christma honor peopl necessarili agre honor deserv honorther lot veteran say thank fact serv afford rest peopl choic matter howev opt serv luckili rest ofstruggl whole life think issu get connect peopl make friend easili life cannot seem find mani easili relat long termright like hell delusion statewhat great video thank much share iti entp ...</td>\n",
              "    </tr>\n",
              "    <tr>\n",
              "      <th>8078</th>\n",
              "      <td>realli depend part uncomfort share emot point mani other often comment face unread think essenti communicateat point time definit want children look children disdain scream fit grubbi finger stuff would enjoy howev cross ithaha great coupl peopl will listen peopl gone deep mbti convers enfp istj anoth intj other met carenowaday dislik peopl rise exponenti social conflict pile year istj mother get lot fight seem care fori definit time retyp friend time ie isfj friend got isfp first final agre...</td>\n",
              "    </tr>\n",
              "    <tr>\n",
              "      <th>8039</th>\n",
              "      <td>think differ depend matur level younger like mysteri guy bit laid back unassum grew older start date intjcream sex word fucki never met person want kill much want fuck met intj exhaha funnyb bore brokeinterest would certainli like know type compat say time think intp bore met would date alwaysbut peopl realli know thought member perc saw stupid shit post thought intent famili would suffer know exactlywel one would gladli pick mate perc alreadi discuss bang membersmi recent disturb thought ha...</td>\n",
              "    </tr>\n",
              "    <tr>\n",
              "      <th>5734</th>\n",
              "      <td>cat chihuahuapug mix realli hard say prefer kind depend day love close one cat dog catyou right women like men differ person experi men tend confid speak subject publicthank kind exactli thought sum realli beauti also interest mani infp tattoo understand lot thewhil understand piti other someth involv judgment gener love peopl feel deepli tattoo want showa far go realli see go either way want uniqu someth relat ident hand get one increasingli popular beinghello prolong adrenalin rush get fir...</td>\n",
              "    </tr>\n",
              "    <tr>\n",
              "      <th>3375</th>\n",
              "      <td>awesom first experi medit weird scaryhop show limitless potenti mind focu tranc medit also done zazensom thought may help emot constant state chao one minut everyth perfect alway perfect next minut noth perfect could never besomewher childhood thought go read everyth geniu say amaz thing time took anoth year tell shut hell famili itali israel one point go make aliyah join idf cousin abl call isra instead went colleg philadelphia move downinfj love talk love first time felt love norwegian blo...</td>\n",
              "    </tr>\n",
              "    <tr>\n",
              "      <th>1909</th>\n",
              "      <td>also think w sosp exactli think type think much narciss least conscious interest keep ask myselfhey good see good back run real life situat need brush enneagram knowledg also want learn instinct notright almost like want peopl think sexual realli sexual read colleg spent free time work chase women long time friend said heinterest often feel individu solid meet solid one tough alway feel eas solid almost physic thanfirst never say anyth person like ts go way sincer call think slick intellectu...</td>\n",
              "    </tr>\n",
              "    <tr>\n",
              "      <th>38</th>\n",
              "      <td>hey enfp post thread philosophi board realli curiou read respons enfp particular realiz quit prone follow believ religion think religion form control unifi popul common spiritu give room love compass commun growth althoughth reconstruct planet call earth part dark transpar blob energi float wander planet kingdom exist plantaeor mere accept haha fuck got carri away pretti much drift away intend topic discuss interest emphas philosophi thread focusdo cross line perhap sake humour freedom inter...</td>\n",
              "    </tr>\n",
              "    <tr>\n",
              "      <th>8660</th>\n",
              "      <td>love vast sky problem sad alway seem granular petti comparisonalso guy mubi account seen ordet kind let still magic qualiti love speak magic cannot get howiirc fwiw think definit infp intp somewhat psychopath tendenc go prolong episod depress areyeah rightguy ask whether infp ws liter exist experi someon seem main motiv typic infp wouldi know bother thisnot abl identifi type mean much mbti pretti much meaningless still bother meok feel like straddl infp intp relat lot complet identifi either...</td>\n",
              "    </tr>\n",
              "    <tr>\n",
              "      <th>1049</th>\n",
              "      <td>reactboysteakstar think situat depend much common year go find life experi good way let peopl know interact agesmeari sing jesu swam jackshappinessproudrobin william jim carreyi took last coment littl strongli apolog level responsesinc find retort well childish also sinc marri enfp flake duti mean alway fulfillingepinephrinestuck lionel ritchiehow could thank istj clearli winner fullfil duti battl enfpsi work somon incompet slow lazi lack brain power find work well mine bless howev get respe...</td>\n",
              "    </tr>\n",
              "    <tr>\n",
              "      <th>2702</th>\n",
              "      <td>way structur post ti heavi seem ne witti humor especi like evalu joke would fit fine either xntp type would say lean intpi flirt addict whether marijuana food tea also inferior se becom awkward extrem euphor situat constantther definit peopl still appreci artist valu behind music although much peopl use usual underground commun bestmi person favorit undertow lateralu artwork favorit reflect awesom choos kittehhi welcom perc eq sucksinfp way feel like big ball fi much better lift subdu wayi a...</td>\n",
              "    </tr>\n",
              "    <tr>\n",
              "      <th>3743</th>\n",
              "      <td>person said peopl say care realli express way want true entp enfp intp estp entj hmmm interest especi entj part loloh also type enneagram may make seem like touch feelingshmmm make think lol take cognit function test extrem low te honestli hate everyth stand read dad girlfriend istypeentp degre associ psych get bachelor psych minor possibl market philosophi want either therapist someth inthank help guy entp lolwhi think enfp yeah sure ever thought introvert lolher question answer copi past k...</td>\n",
              "    </tr>\n",
              "    <tr>\n",
              "      <th>4033</th>\n",
              "      <td>hmm interest thought mass ignor load money reason reason alonebenefici word noun otherwis convent improperli use noun benefit correctli use noun point post understand stickingi think key respect may also come jerk assert tell peopl think good thing nessicarili make awelcom inde know feel tri find someon challeng meet ideal think problem entj peopl lack breath life show noi disagre opinion first believ object evil requir outsid influenc capabl decid good andso much beat head keyboard debat mu...</td>\n",
              "    </tr>\n",
              "    <tr>\n",
              "      <th>8256</th>\n",
              "      <td>get ass see white peopl train lol even ask respons oh yeah cannot ask answer like mangu also want punch romeo santo face make coffe thought similar concept analys thing tini analys thing way one logic base theoreticallyi question regard inferior ti vs inferior ni would inferior ti user tend overemphas ti though natur strong point would inferior ni user enddid guy miss meyeah like said know nise somewher axi never realli thought enfj much guess need actual studi charact morei know year late r...</td>\n",
              "    </tr>\n",
              "    <tr>\n",
              "      <th>6757</th>\n",
              "      <td>intp observ think fj fp fs gener desir affect manipul other feel think infp feel guilti bc hsp hello entp intp type w wonder found entp tend better career intp known entp real life tend tokind care toward hous order career save know get thing get thing done sexual monogam relationshipestj confid know pretti much everyth life time year oldcongrat monemi estp follow regularli forumin respons origin post intj often come across arrog concern hurt other intp intj appear ineffici wast lazi p dc ti...</td>\n",
              "    </tr>\n",
              "    <tr>\n",
              "      <th>8247</th>\n",
              "      <td>welcom hmmi got happi cheer ladi one settl littl insignific someth big also think draw clear line whatwhom likewel way wrote name bottom seem prettyfirmlik realli believ urself make impress handwrit seem float paperi think pretti easi get lost thoughtsdrift away like even convers nervou selfdoubt maybeand think view someon capabl lot evenoki get friendli creativ shi vibe think also think display emot respons someth readili react tell wrong hmmnot peopleperson time may seem kind cold other de...</td>\n",
              "    </tr>\n",
              "    <tr>\n",
              "      <th>1551</th>\n",
              "      <td>yea also kant esfpa show goe light lose care attitud get driven exclus thirst power consid first motiv would say effect critic isextj type normal would call extravert unless use mbti opinionentjwhen specul reason get interrupt ye loli get well everi intj know love intjinfj relat may right contrast time time would call posit debat intj quit ai sometim wish p mayb extp way would like infp lolinfj good sport andnoth els lolit funni hear one side parti oh look girl bring alcohol side hear said d...</td>\n",
              "    </tr>\n",
              "    <tr>\n",
              "      <th>423</th>\n",
              "      <td>know type thread work would like know real type know want say someth would make actual someth sinc expert relationship situat got seem complic know youdecid shut heart part never felt betterth type go tri explain peopl type think mechan ration action valu action valu matter long theinfj intj would like care less peopl thinklik well guess even though right time like compar answer luxuri get real life well need read mind know believ peopl asshol proven otherwis take less time decid like person...</td>\n",
              "    </tr>\n",
              "    <tr>\n",
              "      <th>7016</th>\n",
              "      <td>play robot us tootsi pop full ooy gooy feel fluff matter lickshmmm say gave love entir meet someon els genuin interest actual interest would probabl abandon potenti forlook silent one hypnot unblink stare wink may habit pick finger gaze distanc almost like knit knew sever cooki monster would mission dispos replac santa clau friend birthday parti realli like purpl forc wear tonguei know enfj work constantli bounc funni joke idea like feedback loop awesomenesshmmm recal ever see femmeintj ough...</td>\n",
              "    </tr>\n",
              "    <tr>\n",
              "      <th>3677</th>\n",
              "      <td>use high school parent money adult buy everyth know last time bought someth need practicalmi mom isfj newli marri istp husband realli hard see struggl initi struggl istp bf almost like expect tohaha look mine odd thank make awar small wonder sorri answerof cours mutual mayb found right person yet three love relationship first mutual second love current mutual ii nanni five kid age year clung favorit adult figur would sadli ask could mom parent workahol spousalthi ps ace face love post usual ...</td>\n",
              "    </tr>\n",
              "    <tr>\n",
              "      <th>8098</th>\n",
              "      <td>yeah stranger want bare go outsid crawl around like zombi less imagin makeup walkingsometim thing loathsom hard process verbal may need help other properli convey aw therefor made thread writeif other bad mood tend feel well ye psychologist told learn differenti emot other somewhat odd ofmi rebutt would could experi someth without bodi experienc right time look peopl dead revivedmi impress head heart triad think import first address type even though much content postyeah well notyour mom fat...</td>\n",
              "    </tr>\n",
              "    <tr>\n",
              "      <th>2585</th>\n",
              "      <td>woooooow gzsomeon hand infj guy test purpos write report estj xdhahaha sure infj extravert everi damn test take extravert nice know clumsi fck peopl xdfor def ye sometim understand motiv said accept outcom want know start mhm trust doand came say total bother puffer welcom bet like see say maybei want thank necrilia answer honest think hard make feel nonexist say busi come someth want towelcom forum hope enjoy time herethank much realli realli help often insecur make question move fast annoy...</td>\n",
              "    </tr>\n",
              "    <tr>\n",
              "      <th>3350</th>\n",
              "      <td>deletedi wish fast thinker someon ask question offguard want abl speak say thing flow well alway need time process thought first repli think final accomplish someth leav got problem talk say much peopl want chang head know way make happi like thing idea rare implement sometim easi start ori would rather take book librari go one quiet room find quiet seclud spot read rather bookstor cafe seem public rabbitsi read portrait artist young man ulyss joyc read siddharta hess back th grade love sinc...</td>\n",
              "    </tr>\n",
              "    <tr>\n",
              "      <th>6064</th>\n",
              "      <td>hello take forum thread serious let us take step take mbti serious curiou thank responseshahai read infp make decis plan wed dnaaah newb give free pass bad thing without get scold rememb newb da cartoon childhood dwelcom yellow dtip number watch tip number oh waitnevermind dmi dog gave chewtoy never oohorror stuff alway make uncomfort may chipmunk like chees avocado devolut show resourc provid children dsuffer tri finish paper polit economi find bore still need word mehknowledg like tool pow...</td>\n",
              "    </tr>\n",
              "  </tbody>\n",
              "</table>\n",
              "</div>\n",
              "    <div class=\"colab-df-buttons\">\n",
              "\n",
              "  <div class=\"colab-df-container\">\n",
              "    <button class=\"colab-df-convert\" onclick=\"convertToInteractive('df-453ca6b4-32ef-4348-a6da-4fd0ac7f4017')\"\n",
              "            title=\"Convert this dataframe to an interactive table.\"\n",
              "            style=\"display:none;\">\n",
              "\n",
              "  <svg xmlns=\"http://www.w3.org/2000/svg\" height=\"24px\" viewBox=\"0 -960 960 960\">\n",
              "    <path d=\"M120-120v-720h720v720H120Zm60-500h600v-160H180v160Zm220 220h160v-160H400v160Zm0 220h160v-160H400v160ZM180-400h160v-160H180v160Zm440 0h160v-160H620v160ZM180-180h160v-160H180v160Zm440 0h160v-160H620v160Z\"/>\n",
              "  </svg>\n",
              "    </button>\n",
              "\n",
              "  <style>\n",
              "    .colab-df-container {\n",
              "      display:flex;\n",
              "      gap: 12px;\n",
              "    }\n",
              "\n",
              "    .colab-df-convert {\n",
              "      background-color: #E8F0FE;\n",
              "      border: none;\n",
              "      border-radius: 50%;\n",
              "      cursor: pointer;\n",
              "      display: none;\n",
              "      fill: #1967D2;\n",
              "      height: 32px;\n",
              "      padding: 0 0 0 0;\n",
              "      width: 32px;\n",
              "    }\n",
              "\n",
              "    .colab-df-convert:hover {\n",
              "      background-color: #E2EBFA;\n",
              "      box-shadow: 0px 1px 2px rgba(60, 64, 67, 0.3), 0px 1px 3px 1px rgba(60, 64, 67, 0.15);\n",
              "      fill: #174EA6;\n",
              "    }\n",
              "\n",
              "    .colab-df-buttons div {\n",
              "      margin-bottom: 4px;\n",
              "    }\n",
              "\n",
              "    [theme=dark] .colab-df-convert {\n",
              "      background-color: #3B4455;\n",
              "      fill: #D2E3FC;\n",
              "    }\n",
              "\n",
              "    [theme=dark] .colab-df-convert:hover {\n",
              "      background-color: #434B5C;\n",
              "      box-shadow: 0px 1px 3px 1px rgba(0, 0, 0, 0.15);\n",
              "      filter: drop-shadow(0px 1px 2px rgba(0, 0, 0, 0.3));\n",
              "      fill: #FFFFFF;\n",
              "    }\n",
              "  </style>\n",
              "\n",
              "    <script>\n",
              "      const buttonEl =\n",
              "        document.querySelector('#df-453ca6b4-32ef-4348-a6da-4fd0ac7f4017 button.colab-df-convert');\n",
              "      buttonEl.style.display =\n",
              "        google.colab.kernel.accessAllowed ? 'block' : 'none';\n",
              "\n",
              "      async function convertToInteractive(key) {\n",
              "        const element = document.querySelector('#df-453ca6b4-32ef-4348-a6da-4fd0ac7f4017');\n",
              "        const dataTable =\n",
              "          await google.colab.kernel.invokeFunction('convertToInteractive',\n",
              "                                                    [key], {});\n",
              "        if (!dataTable) return;\n",
              "\n",
              "        const docLinkHtml = 'Like what you see? Visit the ' +\n",
              "          '<a target=\"_blank\" href=https://colab.research.google.com/notebooks/data_table.ipynb>data table notebook</a>'\n",
              "          + ' to learn more about interactive tables.';\n",
              "        element.innerHTML = '';\n",
              "        dataTable['output_type'] = 'display_data';\n",
              "        await google.colab.output.renderOutput(dataTable, element);\n",
              "        const docLink = document.createElement('div');\n",
              "        docLink.innerHTML = docLinkHtml;\n",
              "        element.appendChild(docLink);\n",
              "      }\n",
              "    </script>\n",
              "  </div>\n",
              "\n",
              "\n",
              "<div id=\"df-4507c359-58fe-4375-87de-0093c0ac1613\">\n",
              "  <button class=\"colab-df-quickchart\" onclick=\"quickchart('df-4507c359-58fe-4375-87de-0093c0ac1613')\"\n",
              "            title=\"Suggest charts\"\n",
              "            style=\"display:none;\">\n",
              "\n",
              "<svg xmlns=\"http://www.w3.org/2000/svg\" height=\"24px\"viewBox=\"0 0 24 24\"\n",
              "     width=\"24px\">\n",
              "    <g>\n",
              "        <path d=\"M19 3H5c-1.1 0-2 .9-2 2v14c0 1.1.9 2 2 2h14c1.1 0 2-.9 2-2V5c0-1.1-.9-2-2-2zM9 17H7v-7h2v7zm4 0h-2V7h2v10zm4 0h-2v-4h2v4z\"/>\n",
              "    </g>\n",
              "</svg>\n",
              "  </button>\n",
              "\n",
              "<style>\n",
              "  .colab-df-quickchart {\n",
              "      --bg-color: #E8F0FE;\n",
              "      --fill-color: #1967D2;\n",
              "      --hover-bg-color: #E2EBFA;\n",
              "      --hover-fill-color: #174EA6;\n",
              "      --disabled-fill-color: #AAA;\n",
              "      --disabled-bg-color: #DDD;\n",
              "  }\n",
              "\n",
              "  [theme=dark] .colab-df-quickchart {\n",
              "      --bg-color: #3B4455;\n",
              "      --fill-color: #D2E3FC;\n",
              "      --hover-bg-color: #434B5C;\n",
              "      --hover-fill-color: #FFFFFF;\n",
              "      --disabled-bg-color: #3B4455;\n",
              "      --disabled-fill-color: #666;\n",
              "  }\n",
              "\n",
              "  .colab-df-quickchart {\n",
              "    background-color: var(--bg-color);\n",
              "    border: none;\n",
              "    border-radius: 50%;\n",
              "    cursor: pointer;\n",
              "    display: none;\n",
              "    fill: var(--fill-color);\n",
              "    height: 32px;\n",
              "    padding: 0;\n",
              "    width: 32px;\n",
              "  }\n",
              "\n",
              "  .colab-df-quickchart:hover {\n",
              "    background-color: var(--hover-bg-color);\n",
              "    box-shadow: 0 1px 2px rgba(60, 64, 67, 0.3), 0 1px 3px 1px rgba(60, 64, 67, 0.15);\n",
              "    fill: var(--button-hover-fill-color);\n",
              "  }\n",
              "\n",
              "  .colab-df-quickchart-complete:disabled,\n",
              "  .colab-df-quickchart-complete:disabled:hover {\n",
              "    background-color: var(--disabled-bg-color);\n",
              "    fill: var(--disabled-fill-color);\n",
              "    box-shadow: none;\n",
              "  }\n",
              "\n",
              "  .colab-df-spinner {\n",
              "    border: 2px solid var(--fill-color);\n",
              "    border-color: transparent;\n",
              "    border-bottom-color: var(--fill-color);\n",
              "    animation:\n",
              "      spin 1s steps(1) infinite;\n",
              "  }\n",
              "\n",
              "  @keyframes spin {\n",
              "    0% {\n",
              "      border-color: transparent;\n",
              "      border-bottom-color: var(--fill-color);\n",
              "      border-left-color: var(--fill-color);\n",
              "    }\n",
              "    20% {\n",
              "      border-color: transparent;\n",
              "      border-left-color: var(--fill-color);\n",
              "      border-top-color: var(--fill-color);\n",
              "    }\n",
              "    30% {\n",
              "      border-color: transparent;\n",
              "      border-left-color: var(--fill-color);\n",
              "      border-top-color: var(--fill-color);\n",
              "      border-right-color: var(--fill-color);\n",
              "    }\n",
              "    40% {\n",
              "      border-color: transparent;\n",
              "      border-right-color: var(--fill-color);\n",
              "      border-top-color: var(--fill-color);\n",
              "    }\n",
              "    60% {\n",
              "      border-color: transparent;\n",
              "      border-right-color: var(--fill-color);\n",
              "    }\n",
              "    80% {\n",
              "      border-color: transparent;\n",
              "      border-right-color: var(--fill-color);\n",
              "      border-bottom-color: var(--fill-color);\n",
              "    }\n",
              "    90% {\n",
              "      border-color: transparent;\n",
              "      border-bottom-color: var(--fill-color);\n",
              "    }\n",
              "  }\n",
              "</style>\n",
              "\n",
              "  <script>\n",
              "    async function quickchart(key) {\n",
              "      const quickchartButtonEl =\n",
              "        document.querySelector('#' + key + ' button');\n",
              "      quickchartButtonEl.disabled = true;  // To prevent multiple clicks.\n",
              "      quickchartButtonEl.classList.add('colab-df-spinner');\n",
              "      try {\n",
              "        const charts = await google.colab.kernel.invokeFunction(\n",
              "            'suggestCharts', [key], {});\n",
              "      } catch (error) {\n",
              "        console.error('Error during call to suggestCharts:', error);\n",
              "      }\n",
              "      quickchartButtonEl.classList.remove('colab-df-spinner');\n",
              "      quickchartButtonEl.classList.add('colab-df-quickchart-complete');\n",
              "    }\n",
              "    (() => {\n",
              "      let quickchartButtonEl =\n",
              "        document.querySelector('#df-4507c359-58fe-4375-87de-0093c0ac1613 button');\n",
              "      quickchartButtonEl.style.display =\n",
              "        google.colab.kernel.accessAllowed ? 'block' : 'none';\n",
              "    })();\n",
              "  </script>\n",
              "</div>\n",
              "\n",
              "    </div>\n",
              "  </div>\n"
            ],
            "application/vnd.google.colaboratory.intrinsic+json": {
              "type": "dataframe",
              "variable_name": "x_val",
              "summary": "{\n  \"name\": \"x_val\",\n  \"rows\": 1106,\n  \"fields\": [\n    {\n      \"column\": \"posts\",\n      \"properties\": {\n        \"dtype\": \"string\",\n        \"num_unique_values\": 1106,\n        \"samples\": [\n          \"honestli mayb even unhealthi esfpgod let us hate intj lol intj leader think putin trump easili influenc loud brash easili sway etc agre say estphow peopl relat goodi side see personashow slowli progress selfharm safe cope mechanismsmess peopl one favorit past timesand especi help heart teeter totter aroundy incred graciou understand appreci much constantli wonder wherefor peopl emot action make sens sogod identifi much two year still guythank love need hear incred sooth found feel realli said anyth probabl tri figur gracious handl situationgod liter disappoint right know better pursu someon bare give want tobefriend vibe like even tri get tofuck e went say want relationship gener first met tell readi relationship wish could tell life perfect isthi encourag read experi loop weekli daili basi lol especi compar pofessor specialis one day plan myth feel mutualwel hunyou istp genuin jokingi identifi hardi get pretti much guy say fact eerili differ extent guess one problem come use logic project suspect outcom someon regardingdi oh god like intj humorsound right honesti alway get wrong read peopl perceiv rare misread peopl themselvesthank answer inform interest go shit awhil actual find turn netflix inact romant attract aarrog worst selfconfid best someth readili known know limit knowledg etc etc howev ever feel like know enough notto fair certain circumst feel comfort mood strike much want express share feel much want fuckingtruomg embolden describ much problem w peopl especi entp see awhil ago highschool debat captain turn everyth challeng public come across extrovert istp actual intj welllnown creativ due fact extrem imagin closer writer brothergooood toooo kno like adopt mentalityit basic feel like shockingli obviou transpar feel make feel like alreadi reject initi done anythingwhat talk jack daniel tom wait sound like beauti combinationth straight approach aw hell nah lol might eventu need settl right nowblah quit guy go go back littl hermit hole pet book music lol sway goddamn scari outright ask want fuck friendship case heomg littl darl feel like f proud us take care dare especiwlli like list methodsy wonder thank alreadi told scare himcom intens regard hang yeah icr said selfadmittedli bad notdid earli childhood trauma late childhood trauma trauma kindso would definit say pretti healthi attitud approach toward deal shit damn jealou lol alway like ever slipupsaw fuck shit man natur exact fuck way recent slightli learn initiatepursu alway make feel like bug andi date yet finger cross get good friend love infj guy like recent develop fi help tonnn abl relateso accur tri better understand impuls behind latest action behavior scale someth along line listen song make youthisi initi like outta time man alway initi confus meso accept invit chill lone good make feel listen lavendersnow thank remind read infj lolfirst thank respons awesom hahy wrong hung sever time time initi sowho think suspici sound good true freak like initiatelik least initi hang kind feel like spontan kiss around corner bnoot surethen chanc like romanticallyand twoeven know type alway peg infj fuck attract moth light kind thing earlier semest introduc wonder guy madeomfg question actual robot excel poker face everyon realli believ everyon els keep heart sleev feel emot everi\",\n          \"afterward p adrenalin help thank youi want post glad one agre appar time big bang imposs find whether somebodi creat us isthank dutch french speak seen lot dutch belgian peopl forum yethaha thank doshinha love signatur wayi sure whether anybodi watch strawberri panic would love know type fit characterswelcom perc sound like fun person studi itali must amaz add potenti univers list anyway good luck rock climb sound cool fun onguten abend celin congrat sign welcom perc dutch intj hope enjoy viel spahello dutch intj also pretti new believ lot member america yay tongu final somebodi live littl closer live flander orhi zhiang welcom perc glad lot isfp like us love isfp droolssh femal right seem scare know lot situat somebodi get close week also get scare feel like abl care well would perform supervis iq test honest ye cours motiv selfdisciplin import good begin half battleisfp love artist care choos extrovert like get push social situat say enfp would great match intj whohey mind intj invad isfp thread want say incred talent love artworksi plan multipl time end courag anyway think plan bad would haveth nake famou heart like relax feel betray somebodi point weak somebodi trust peopl think emot say bad thing think care atthank way love hair beauti tongueah anoth rare ladi intj natur habitat pleas meet know intj friend say smart probabl read book internet mayb plain dumbgreat never realli chanc talk owl pretti new sure go like tooperson name prefer call mirjam get closer may almost call whatev want call malefemaletran femalehurt truth never comfort lie erza scarlethey mirjam year old dutch intj might well share result n j enneagram result w w w still go\",\n          \"wonder postthank rougethat mewalk eggshel tri keep dad happi invari mine mother fault good observationagreedthi someth learn past yearsoh wish alway knew say though easier said done program whole life toif guess would say e thing think even think word would like refrain interrupt eoh karlthat giggl day laughingsimilar issu except wonder anyon see connect charact experi children effect adult charart stori tie inenfj writeri use sheer forc go back edit stuck right concern complex stori linei use forc getthank karl sound like know talk aboutther lot mopingconfusedi went trust earn expound trust distrust anyon know unless get bad vibe tri take peopl say face valu without put muchnow someth total get would think nut would think human honest would total respect pretti much thing toi one signific relationship easi walk away much think may close line everyth n rememberoh rais hand slightli fearfulavoid took attach style test anyon want take everyth suddenli made sens like lighti sorri hear struggl let say first foremost think would help matteroffact necessari seek help profession think aboutkeep post miss feel free send messag ever need enfj perspect good luck bestlaughinghappen tooi keep get lock upoh get ironi get advic stand reason would happi help consid know us enfj right lot waysi think mayb person extrem possibl disast otherwis person find nice compliment mention close line allfind someon accept judgement rare wonder thing think chanc despit fact accept fear knowsenfj love love istp agre need detail met enfj one complet rocker like type great andb know much easier said done definit sympath real make known whether want timeand dealingwel would say stuff post enfj spot onat least come although longer friend anymor becuas someon postedthat basic iti think person chang first concious chang behav think quit bit debat among psychologist obviouslyholi cow read posti meant said tongu impress knowledgeway put brain usei actual read studi relat five factor model studi found women typic becom introvert age men stay cours ai tri find answer everyth includ thing idea interest saw link webpagehow hell think found guyscrazydisori went difficult time made reevalu import think figur difficulti figur live newwel say similar issu much smaller scale sever longterm relationship howev first becom involv someon find myselfwelcom esfj fanlook forward see forumswel enfj use enfp total get say becuas work improv pretti close line everyth n work notthank respons tri make better effort patient realiz peopl come around know longterm would difficult tothank respons definit thought think sometim may give peopl enough chanc time wise trust enough come iflet start say one reason join site gain insight understand other question one gain understand critic pleas help mewel enfj past weekend former friend boyfriend ask dinner becuas skid talk former friend year offsmack said ii marri intj lot good qualiti marri cold nitpick detail would clean whole hous would notic glass sinkthat hilari ye curiou know similar attach style enfj whether posit neg correl either way itthi happen well would imagin would nf good see reason behind peopl action provid insight would difficult type see mother isfj know regret vocabulari mother one kind steadi peopl know loyal immead famili completelywel pretti easi question answerwher begin laugh think hardest thing get feel hurt know often time sensitiveithank faith sanitylaugh pretti close middl everyth except n think help keep nut work develop well iafter read repli thread enfp forum curiou know similar enfj attach style attach connect other romantici enfp twenti thirti enfj thought lot particular subject actual done quit bit read isjust want say hello enfj come learn tri gain insight perrson type love farawww shucksth feel mutual laughingthat sound entj entj friend littl patienc peopl think differ accept diverg opinion respect intellect personfeel tongu know might sound crazi find one person trust talk emot good istp friend call upset geton closest definit stabl friendship istp love reliabl honest funni circl friend coupl year gotyou done better job describ sens one particular ever could admit sad becuas stuf feel andi cannot get quot option work quot enorm challeng true sister esfj well whenev tri help usual practicali use think add recent belief ocd two compon ocd obsess compuls compuls behavior peoplei find thread interest post enfj forum regard experi date infj date two infj thought two nicest guy ever\"\n        ],\n        \"semantic_type\": \"\",\n        \"description\": \"\"\n      }\n    }\n  ]\n}"
            }
          },
          "metadata": {},
          "execution_count": 32
        }
      ]
    },
    {
      "cell_type": "markdown",
      "source": [
        "###Cleaning and Preprocessing(data test)"
      ],
      "metadata": {
        "id": "OBqFWaOKhnFg"
      }
    },
    {
      "cell_type": "code",
      "execution_count": 33,
      "metadata": {
        "id": "dw_uBDbghkur"
      },
      "outputs": [],
      "source": [
        "# Remove any numbers\n",
        "x_test['posts'] = x_test['posts'].apply(lambda x:re.sub('\\d+',\"\",x))"
      ]
    },
    {
      "cell_type": "code",
      "execution_count": 34,
      "metadata": {
        "id": "wH0Qocalhkus"
      },
      "outputs": [],
      "source": [
        "# Remove URLs, mentions, and hashtags\n",
        "x_test['posts'] = x_test['posts'].apply(lambda x: re.sub('http\\S+|www\\S+|@[^\\s]+|#\\S+',\"\",x))"
      ]
    },
    {
      "cell_type": "code",
      "source": [
        "x_test['posts'] = x_test['posts'].apply(preprocess_text)"
      ],
      "metadata": {
        "id": "y-WO01sahkut"
      },
      "execution_count": 35,
      "outputs": []
    },
    {
      "cell_type": "code",
      "source": [
        "# Remove non-ASCII characters and special symbols\n",
        "x_test['posts'] = x_test['posts'].apply(lambda x: re.sub(r'[^\\x00-\\x7F]+',\"\",x))"
      ],
      "metadata": {
        "id": "ZV7DHTzlhkuu"
      },
      "execution_count": 36,
      "outputs": []
    },
    {
      "cell_type": "code",
      "source": [
        "#Lowercase\n",
        "x_test['posts'] = x_test['posts'].apply(lambda x: x.lower())"
      ],
      "metadata": {
        "id": "FvyhEiQchkuu"
      },
      "execution_count": 37,
      "outputs": []
    },
    {
      "cell_type": "code",
      "source": [
        "#stemmer\n",
        "x_test['posts'] = x_test['posts'].apply(stem_words)"
      ],
      "metadata": {
        "id": "Vg1UNoOnhkuv"
      },
      "execution_count": 38,
      "outputs": []
    },
    {
      "cell_type": "code",
      "source": [
        "x_test.head(50)"
      ],
      "metadata": {
        "colab": {
          "base_uri": "https://localhost:8080/",
          "height": 1000
        },
        "id": "-fibKF7KiOoj",
        "outputId": "c3ab86af-ced0-4ef6-8193-7d27366376b6"
      },
      "execution_count": 39,
      "outputs": [
        {
          "output_type": "execute_result",
          "data": {
            "text/plain": [
              "                                                                                                                                                                                                                                                                                                                                                                                                                                                                                                                    posts\n",
              "2802  lie avoid unreason respons someth complet justifi tri justifi someon els would hung iyour iq sd typic difficult time maintain friend come realiz peopl talk year still want talk got bore theman intj friend mine told realli hate eat repetit intp realli feel bother realli regist eat think aboutsimilar mind advanc testintp sxso lot friend one speak actual feel talk actual think regard toget close someon end want infinit close end merg everi damn timeinterest topic know two enfp strang intp view ...\n",
              "2166  said zero flexibl littl time date go around sift date find one click go viabl noth maintain relationship ihow come conclus noth offer mere busi beyond realli made stuffokay cool specif look get relationship enter life phase resourc give relationship isi take slow still singl interest make friend friend enough like interest go date intent enter aabsolut find idea repugn actuallypeopl could polit mayb averag conserv bet claim social butterfli normal guy introvert social doofu noti probabl give...\n",
              "1919  written bia someth sure could even say truth reason put subject god man say noth make main prioriti church written throughout text past nearli year reverber throughout church dialogu incid aboutthat annoy phrase obtus confus newcom blame respons must reveal knowledg speak truth contain biasther priestli desk job closest thing priest get away peopl monk differ tell outno realli cannot go intp assum intellig level would end failur afraid ask big question muse intp tri toheresi like core reason...\n",
              "360   hauhuhauh might right muhicz wonder step come exactli age like said tought believ scientif realli matter point isthank misterjordan word helpful help think conflict beetwen fi ti could inner develop improv must say thei read fe fi function fi also know well mbti type stdi last year fi prefer mean enfp still weird shouldi possibl chang archetyp enfp proud knew year ago sometim ago start get act like entp last year live allar sure entp mobi sound like entj great marshal achiev seek power domin...\n",
              "1115  parent kind go colleg good job peopl want stabl career hand want travel perhap teach english foreign land especi ini friend go crisi graduat high school absolut know idea life anyth realli passionatei recent met waitress one restaur town serv live know paper waiter bartend make less minimum wage receiv tip ixmy one rel close femal friend istp three main guy friend intj intp es ft ji done thisi asham sat score cr w ration deal job requir major use sens function met entp hairdress intj electri...\n",
              "623   iron consid signatur cat better peopl cat known kill play prey fun think wrong wereooh virgo rise infj virgo also one fav zodiac sign infj kind honest childhood friend even year talk would happi check andi consum machiavellian dark period life sometim get fed fake peopl lie around other perceiv truth realiti instead focuspeopl tend gener like tri care polit offend order turn know come intimid think need toi get overwhelmingli sarcast iron person interest flirt come natur hate person interest...\n",
              "1741  well said codgery like proudnev mind apolog intrusiontru hey cetanu ya doin hey chancyros ya add list punch bag thing realli worki got mine world still retardedamong thingsgood luckub good morn peopleanyway noth go bed deal whatev bullshit subconsci store least would chang sceneryi sorri one thoseub daysa condit mani countri day religion use excus abus power would make exampl outta hellova thing think bed lofuggitsigh say allbeth realiz one socal islam countri right come alcohol famili inter...\n",
              "5818  curiou realis bit stupid question bound generalis would anyth way nf look dress etc distinguish othersi relat much ridiculousnoth goe unnoticedi deal loneli rationalis shoo away work less half time focus main current goal success use loneli excus wellaerospac engin check civil engin electron engin econom w busi manag psycholog comput scienc english music physic w astronomi mbayeah somewhat agre join photographi societi univers pretti much event consist bar crawl night littl photographi meetu...\n",
              "1559  bore mean men usual quit self absorb like men know start meaning convers good sens humor make laugh flirt withwel import thing accord would ye definit bore person also prefer men good look concern health looksthat good sensibl advic gave peopl want get tattoo person think peopl get tattoo sex symbol brag thaton thing know work technic field differenti base gender colleagu never felt woman social mewhatev depart field technolog woman may would alway judg incompet compar man first prove metal ...\n",
              "7212  seem like intj like infj time cannot sj typesdefinit social skill practic enhanc find social public speak easi simpleshy insecur relat extrovertedintrovert perhap alway extrovert restrain form get social crave ofan estj figurehead intp actual cleverli plan everyth entj boss around slave isfj slave intj fill practic hole aris grand intp scheme estj figurehead intp actual cleverli plan everyth entj boss around slave isfj slave intj fill practic hole aris grand intp schemesi guess intj prone th...\n",
              "5865  realli tend get nostalg fix present seldom think past futur often think futur past one thing hit reviv thread tongu got list consid harmless awkward moment read laugh mayb one day share realth guy geniu point say franc cute hot cool serious sooo shi studiou omg seriou overli matur child age super quiet though rememb shi away welcom worri sure find wors oh take construct critic well fact usual thank think everyon way though understand case still known beingi mastermind emot whimsic think dyna...\n",
              "1880  ladi person decid post term dirti laundri post shitton lie reason nowher suddenli withoutwhat drawn proport aggress introduc like said page ago want answer question ask want provid proof withwhen purpos thread correct someon defam lie logic would follow situat given nice happygolucki aremi platform misrepres correct unwarr defam complet first post asshol conced platform extend dozen ofthank human thank buck social trend said would happen happen peopl noth predictablei mistaken notion someon ...\n",
              "8456  sens ye much egot around esp onlin feel lose interest activ forum mai perto que pensa closer think portugues speak person could translat whole lyric wouldhey entj know old thread excav sinc want make new one someth want much attent found ask samehello inmyey sinc read repli today mind busi give answer put sake abil think someth elsei quit satisfi wrote post taken mayb appear differ mayb let us seethi song made home heart mind today appar reason busi someth els probabl heavent heard year fact...\n",
              "5049  got excit bamboo learn grow zone need newfunexcit thing work look like might excit love grow huge sunflow never grown bamboo inspir studi probabl look soon start efnp gardeningconfess way got fish toss fish last summer excit get first aquarium read book subject join internety seem fix sinc yesterday gotten redirect sinc thank help love gardeniiiii post made feel excit spring time even think make feel good got order seed pretti soon happen friend drewski thought use iphon dolphin browser happ...\n",
              "6170  judg select film would love probabl best periodcostum piec ever seenwhat top favorit movi realli like tv movi way appeal also want see istp like sinc never seen istp forum believ itold school alway cool mind thing outdat even text lot usual send one two text day school talk lot eithermak best film sinc tarkovski kubrick peopl deserv better shit shown hollywood independ film worldsm istp middl bro enfj younger bro entp mom esfj dad ixtx got mental shit god know whatyou kill blueberri ga chamb...\n",
              "8127  never come across entp irl could say entp entp bay area holler four see correl habit type gretchen idea type six characteristicsh mention ex red flag freudian slip convers topic guess emot baggag ex posit ii tri imagin prefer also cannot help interject prefer lol right answer randomli throw tri messag inthi cute read thank share asid heartach imagin may experienc realli want speak insecur stori come fromhahah mention entj prefer give fuel gp hypothes suppos enneagramrel tri interject myersbr...\n",
              "1393  edit good shitrhnb actual came convers day somebodi actual ask nickel instead metal good answersound like found typic intp one struck goldyeah wear pantswhenev urg see give calltextcarri pigeonsing telegram ask free hang given date time window busi iwel someth problem intp outsid hard tell genuin interest somebodi els friendli wors still obligingli polit foryou would need start dig deeper answer question peopl ask answer simpli state believ without explan believ thosei nearli said ye left fo...\n",
              "3290  find istj organis rememb name date better intj intj much better solv problem argu constructivelycan someon pleas give practic exampl understand functionimagin look bottl deodor store analys colour rack store smell ingredi made brought manysur speak intp intp never post quot intj thingi laugh boyfriend laugh harder get distract easili thingsi thought intj know cynic straight forward time pi obvious bother otherwis would botheredth way say actual make sound interest let know end result say ple...\n",
              "538   ye gone complet cold heart toward peopl earn mei heavi introvert yet everyon work love talk poepl time often time engag convers work howev cannot wait get home befil good luck projecti would think infj would think feeler truth infp nf nf haha thought infj nt nf infp nf nf enfp areveri good question lot ill word phrase even convers point toward insidei think isfp wellword affirm follow close qualiti timeb f dom type mean cannot think feel dom go passion thing think dom contrast go keep detach...\n",
              "8624  everyon avid dd player felt need share dice shame pictur would creat abandon traitor speckl long ago quit love right internet connect pisspoor thing go fairli well guyshello c eveningmorn well happier hello infinnacagehello hakas today tend visit desert hour thu old joke thread night watchmani happi anticip cwell glad thing explod absenc would shame miss attempt peek oftenthank wander peopl thread held upwould someon pleas fire torpedoesw gener see moment blood album good music exampl sxdom ...\n",
              "6444  alway take much think reason wham never tell person outright cut forev noth chang mind thinkrd use si exactli alway interest find exactli differenti enfj esfj thought time esfj know use ni indear enfp would kill make attempt stay touch friend make plan stick say leav mean leav sayi curiou differ attribut enfj kid use accept rule becam teen could accept rule social guidelin withoutbecaus underconfid must doubt doubt may reach social life fe dom clearli peopl pleaser mean need see thatthi one ...\n",
              "1513  thank deprec consist voic reason threadoh also realli enjoy aspect drain swamp campaign agre polici immigr health care environ realli nice toi person fan trump person seen televis strike one peopl taut toughmind blunt realli use thattrust keep convers go hour mean bother cannot think time would entertain convers singl person hourhow would defin good person bad person would defin sum action word abus person bad person person innoc noi believ reason proud person accomplish view pride one natio...\n",
              "4726  got home work eat dinner post dive final fantasi even taco eh hard say alway mix bag emot thought last day vacat though bit sad feel posit futur good leagu legend hearthston hex rust final fantasi marvel heroeshamburg funni thing last time post food box well chang much attempt make food hamburg creativ amaz work robotech ye english version enjoy much macross japanes version toradora best romanticcomedi ever love hina good romanticcomedi ranma aubb alway knew robotnow offici realli like song ...\n",
              "1298  agre peopl mention grammar studi especi alreadi know languag real timesav one favourit way pick new informationin experi infp learn philosoph doctrin espous defend experienc insid much tri new possibl knowth question esfj enfj auxsi ni alway view philosophi field intuit realm intuit mark philosoph interest amongst thing ascatherin intj mayb yeah hard tell samantha yeah well think enfj make sens way organ seem second natur veryi mess agre intp welldispos toward philosophi like mani intuit may...\n",
              "14    basic cheezburgri fond top hat certainli expect see thread top hat hahastreet rage segai think incorrectlysenior year high school found dad rapist colleg applic sister insan start aw school high anxieti depress myi believ richard probabl rule countri somewher develop cure diseas existenceugh much procrastin start paper multipl month day due finish even though page synthesi list becom immortalboth entp intp could consid jack trade opinion cricket soundsyour argument someth nazi might say ther...\n",
              "1870  believ close friend enfp mostli lack run seen appear admir sum energi curios present theedit post much better approach situationif penguin capabl speech would make great ambassador dress part one hate realli hope one song come love rethink scene make mequit easili uncommon hug everyon sign friendli affect noth romant intend odd other may find behavior appear differ ieinyoddi see seem show interest lot action resembl favor would typic shown typic friend howev keep mind come fromi usual stick ...\n",
              "5028  hi see also new nice fit well nativ languag english read lot english web around one book english nowoh yeah someon link thread write one account guess rememb email name noth relat account vagu idea scrollinghi seen around talk english skill haha friend suredo realli time realli think intp person rememb email adress six year ago oh pleas darl leav alon post oldcamisa e calay think suicid life make sens read subreddit someon talk take life friend cannot relat live home parent basement year old...\n",
              "1470  koch brother paid romney lot money put name vpwelcom receiv intp infp result test lean toward infp inwardli intp outwardli seem happen lot male hope enjoy time herei would say estj take look colleg year compar end protect advanc posit polit mention well hequest two possibl option pattern enough progress introduc chang pattern last imag sure thesehmm quit good visual problem solv congratul obtain high score love indi rock overal percentil mean score higher ofhmm quit good visual problem solv ...\n",
              "6381  ye siri cannot make stupid anxieti stop stupid emotionnay true cannot decidey isnot feel sleepi whole day sleep fine still tire day sleepi day goodi want switch copi splatoon order deliveredquit accuratei play hour mapl stori back mmo choic late trickster onlin ragnarok onlin ador game realli missy could infp perhapsth thing better keyboard mous shooter motion control motion control give game like splatoon lot control use button andpseudo infj common sure type would like mistyp though type l...\n",
              "8326  hey incident exact thing happen order intp entp istp pretti artist music draw etc tactil canyou definit poke way love signatur could karaok make moment karaok skill ya probabl whitney alway lovewikirevolut oh hello know often roam lolther two mistak one make road truth go way start buddha alreadi start pleas messag would help nonetheless ipleas elabor truth pleas way awesom insight explan ti work probabl often stubbornli follow fundament truth think isthank someon final understood face impor...\n",
              "1199  sent iphon use tapatalkar fuck real sent iphon use tapatalkif standard privat school reduc peopl use go privat tutor sent iphon use tapatalkstil imposs unless lower bar privat school sent iphon use tapatalkbecaus way public school meet privat standard lower privat school standard like usmc let women combat lower male standard whileno child left behind work like problem children creat equal kid could keep regul handicap class despit handicap mandat awhat never understood peopl never kid publi...\n",
              "3209  know catch someon sure want know tool lol tongu complic question answer somewher fine clue ienneagram focuss fixat like type want perfect spiral dynam clara grave work focuss type commun capabilitybandwithstyleperspect liesikusagami sick natur temporarili changeeefj balanc still ask question orient f attitud archetyp role fulfil work john beeb help respect obsess sexvhaydenlv get say although b would surpris enfj experi intuit know action neg impact person soi hope disappoint relationship en...\n",
              "8106  licens parent oh curios name chauffeurperson want roll like ball role model hand know time find role model supposei start bio relat field sinc said want someth feel posit impact would recommend research lab orient job positivewhil agre medic school like hit actual doctor part differ doctor memor lot fact would one english bio want go medicin dammitwher question mark originatethat would defeat purpos secrety see silli idea born perhap enjoy perhap nice pleas feel occasion writer block ixm sup...\n",
              "1374  reaver clean spear spoiler therefor white text case someon seen seren yet put washfin manag buy mass effect download instal start aaaaaand hear german voic badli synchron lip movement appar way get origin voicesnop somehow speak way box mayb give closer look one huge advantag box alreadi friend train year thereheh recent think might take box thaibox pretti appealingi alway thought hate everi sport cannot chang get depress drop lb suddenli hada year ago went time felt suicid first visit help ...\n",
              "554   person thought movi well done interest watch think main problem controversi surround movi everyon tri attach politicalsilli european america suprem critic coolknow grrm battl castl black go epic heartbreak get readi waterwork lol say mountain vs viper fighti seriou consid whether actual estp probabl go go extp far well receiv contact militari lifestylei actual degre similar reason plan join armi colleg x program want know cs degre fallback anyth elsehow come regret decis pick comput scienc i...\n",
              "6835  hate custom servic job field train anyth better alway polit never get angri custom even angri atpeopl need stop tri convinc children say children selfless matur think plan children selfish purpos plan havemi best friend intp least think total confid type abil common interest music also drink hah sometim fight read sulki good math got past social idea girl good math got trigonometri fail lot help write fear pretend complet nonjudgment understand best friend write friend would say fear forador...\n",
              "1017  correct reread scene isabel hope jace came live first time would brood need hate see independ heto correct reread scene isabel hope jace came live first time would brood need hate see independ hei actual made thread ago would like read iti still see alec istj fi seem less get say despit aw way phrase jace sooooo corni tv show like even cheesierquotefor infern devic one seri like everi mention charact someth like rare happen tessa seen theori infj infpi think tv seri shadowhunt charact differ...\n",
              "3085  boat connect thing around us peopl time period becom remov best advic would travel much possibl meet everybut special person worth settl wait one rebuild sandcastl like found also build larger stronger protect wall around sandcastl get run ground easilli inhey want share piec artwork friend creat togeth let know think pleas post pictur site shown yet ok know pictur redicul oversea buddi want oblig thought would also share yallz enjoy bravo touch mani deep import subject great job explain soc...\n",
              "5967  mind peopl smarter mind someon intellig think geniusi habit say inan thing straight face peopl know understand joke sometim peopl cannot tell joke deadpani live futur actual one robot assist type exhaust drag race float muscl car droog alway laugh becausewhat movi think handl much mysteri plu said great might miss watch iti believ author given benevol wise without two characterist think person worthi author unworthi person wieldsi would give shit would love hear stori curiou would like intp ...\n",
              "6663  relationship enfj year three month easi reason mention highli emot intuit make fight superi wish peopl would see silenc wisdom instead noth say kind strength instead weak solitud peac instead stingy often wonder manyan entp spent lot time wrote wonder human sweet sincer honest kind funni sexyand quirki alway think endear broke myi thought anoth good one sorri feel way blood boilsthi part nice whole time read thought kind sweet also much complet also infj see becomingth way envis enfp constan...\n",
              "2223  mayb go differ websit socionicscom sound like sociotypecom get littl detail realli focus cognit function anyth mbti issocion thetypesinfo hidden agenda point least resist confus type would use tool importantli interestingif anyon watch nfgeek guest shane definit infj think make video mike made connectthat great donni darko one favorit movi would like give feedback read hamlet yearstalk random connect come think one mine think sleep qualiti least dream relat relat feet feel say thisi lay face...\n",
              "3024  feel confin c stuck bubbl free spread wingsapathi idea finit hapsi budgi x enjoy peac world let meltsomehow understand say feel like shouldus smile chang world let world chang smile cmanic pixi dream girl televis trope idiom xdomg love isfp tt boyfriend mother isfpsh lightheart love person think isfp mite favorit peopl tell glad know take sometim want feel free open best feel way struggl find inner outeraltruist yu guy altruism gut beautifulthi exactli somehow feel like way enfp infj look de...\n",
              "212   never would guess pheterosexu nf herewhen thisnow hardcor commentto peopl say starwar charact sinc belliev invis spiritu forc flow everyth becom stuff regard fiction charact would sayit lie infp alway finnish syou gift like curs like chuck palahniuk said fight club special piec crap trash either arehumankind built reput ignor peopl around time use power advantagether sad day actual societi expect told told thousand time suffer woe hope think infinit forgiveto pursu pursuedhmmthey systemsi pe...\n",
              "8531  like read right alreadi read larg textbook uni class colleg enjoy read mixtur non fiction psychologyrel fictiontraysth way villain laugh make think crazi peopl laugh like world would sane person laugh maniac someth wrong make think term madman forcheer observ daydream hopeless romanticeggsi ye know mess mani friend met onlin genuin onlin mean everyon talk know one myi live intp yeah sarcasm joke seem deeper mean usual occurr estj soi suppos ye howev meet someon first time tend trust almost c...\n",
              "8274  welcom fellow enfj rel new enfj land enfp long rememb hope find look great place learnthi true peopl life well think make harder given friend met peopl myfrom someon date istj yearsrun wishywashi sound anyth relat relationship get frustrat desir run forokay want sound conceit anyon find member opposit sex gener realli attract like becom friend two monthsi agre wholeheartedli realli anyth add well saidhahahai want happi time whenev boyfriend istj get mad ritual hold mehe hug love mehe hold ti...\n",
              "1516  internet met boyfriend facebook mutual friend colleg stuff start talk use feel complet mess sleep schedul last year start sleep day awak night got quit depress bare hadlov gcse current psychologyplay pokemon x haha p wish thoughthat awesom cow one pmi mother left chip chip shop rank realli greasygenuin give headach find beyonc run world girl incred irrit look like seizur weird p thank award three achiev say regist day day year join illeg give children energi drink practic feed lard stupid us...\n",
              "4462  tldrno type infp hero told yesterday stop like girl work press harass charg even talk hersound like lol get realli nerviou difficult time talk person let alon joke around lol fmlthere bird flyingi believ love first sighti find battl nation interest battl nation team usa incas know think attract whole chivalri aspect romanc also coursetru love want happi anoth person even part happinesscuervo right go find find cureit better alon bad companyanyway profil pictur red head girl think uglyi know ...\n",
              "4629  good question tri decod mind intp attempt defin hisher vulner otherwis intp would believ touch think iamtp mole crazytwinsredhawk keep thread aliv start poll result might surpris sampl size small draw fair conclus right nowseri differ nation would give percept weak trait definit feminin other would attach masculin trait feminin mean would true singledigit yearsworld galaxi yeslearn push feel asid ntp still sensit peopl mean could feel similarli want keep friendship go act posit thought ini r...\n",
              "2310  chloe basic extrem exampl enfp constantli search answer reason thing insati quest satisfi feel case happen rachel tooha realiz post thing wordforword place understand person mean though studi driver basic go peripheralvis modeif clean someth pretti much tie back want fill day life mundan would throw think drive bore tediou tri ok go anywher actual dread patient driver still give ai saw nick cave bad seed brooklyn sarah mclachlan hartford ct last year sound great engag also seen phish thing p...\n",
              "8019  realli hate anyth type find tendenc mani infp wallow self piti treat self loath almost virtu grate think frequentlymi hair current past shoulder blade typic worn long much adult life color like auburn color white templ got rid beardi own gun carri even use occas never felt need one civilian life quit pleas seem far mani peopl far eager framestil tile radiohead alway seem come love track new offer old favorit surprisingli drop new album work waiter bartend time strong empathi deal tri nice cu..."
            ],
            "text/html": [
              "\n",
              "  <div id=\"df-939f3ea6-8e14-468e-aa4e-98a9d5836731\" class=\"colab-df-container\">\n",
              "    <div>\n",
              "<style scoped>\n",
              "    .dataframe tbody tr th:only-of-type {\n",
              "        vertical-align: middle;\n",
              "    }\n",
              "\n",
              "    .dataframe tbody tr th {\n",
              "        vertical-align: top;\n",
              "    }\n",
              "\n",
              "    .dataframe thead th {\n",
              "        text-align: right;\n",
              "    }\n",
              "</style>\n",
              "<table border=\"1\" class=\"dataframe\">\n",
              "  <thead>\n",
              "    <tr style=\"text-align: right;\">\n",
              "      <th></th>\n",
              "      <th>posts</th>\n",
              "    </tr>\n",
              "  </thead>\n",
              "  <tbody>\n",
              "    <tr>\n",
              "      <th>2802</th>\n",
              "      <td>lie avoid unreason respons someth complet justifi tri justifi someon els would hung iyour iq sd typic difficult time maintain friend come realiz peopl talk year still want talk got bore theman intj friend mine told realli hate eat repetit intp realli feel bother realli regist eat think aboutsimilar mind advanc testintp sxso lot friend one speak actual feel talk actual think regard toget close someon end want infinit close end merg everi damn timeinterest topic know two enfp strang intp view ...</td>\n",
              "    </tr>\n",
              "    <tr>\n",
              "      <th>2166</th>\n",
              "      <td>said zero flexibl littl time date go around sift date find one click go viabl noth maintain relationship ihow come conclus noth offer mere busi beyond realli made stuffokay cool specif look get relationship enter life phase resourc give relationship isi take slow still singl interest make friend friend enough like interest go date intent enter aabsolut find idea repugn actuallypeopl could polit mayb averag conserv bet claim social butterfli normal guy introvert social doofu noti probabl give...</td>\n",
              "    </tr>\n",
              "    <tr>\n",
              "      <th>1919</th>\n",
              "      <td>written bia someth sure could even say truth reason put subject god man say noth make main prioriti church written throughout text past nearli year reverber throughout church dialogu incid aboutthat annoy phrase obtus confus newcom blame respons must reveal knowledg speak truth contain biasther priestli desk job closest thing priest get away peopl monk differ tell outno realli cannot go intp assum intellig level would end failur afraid ask big question muse intp tri toheresi like core reason...</td>\n",
              "    </tr>\n",
              "    <tr>\n",
              "      <th>360</th>\n",
              "      <td>hauhuhauh might right muhicz wonder step come exactli age like said tought believ scientif realli matter point isthank misterjordan word helpful help think conflict beetwen fi ti could inner develop improv must say thei read fe fi function fi also know well mbti type stdi last year fi prefer mean enfp still weird shouldi possibl chang archetyp enfp proud knew year ago sometim ago start get act like entp last year live allar sure entp mobi sound like entj great marshal achiev seek power domin...</td>\n",
              "    </tr>\n",
              "    <tr>\n",
              "      <th>1115</th>\n",
              "      <td>parent kind go colleg good job peopl want stabl career hand want travel perhap teach english foreign land especi ini friend go crisi graduat high school absolut know idea life anyth realli passionatei recent met waitress one restaur town serv live know paper waiter bartend make less minimum wage receiv tip ixmy one rel close femal friend istp three main guy friend intj intp es ft ji done thisi asham sat score cr w ration deal job requir major use sens function met entp hairdress intj electri...</td>\n",
              "    </tr>\n",
              "    <tr>\n",
              "      <th>623</th>\n",
              "      <td>iron consid signatur cat better peopl cat known kill play prey fun think wrong wereooh virgo rise infj virgo also one fav zodiac sign infj kind honest childhood friend even year talk would happi check andi consum machiavellian dark period life sometim get fed fake peopl lie around other perceiv truth realiti instead focuspeopl tend gener like tri care polit offend order turn know come intimid think need toi get overwhelmingli sarcast iron person interest flirt come natur hate person interest...</td>\n",
              "    </tr>\n",
              "    <tr>\n",
              "      <th>1741</th>\n",
              "      <td>well said codgery like proudnev mind apolog intrusiontru hey cetanu ya doin hey chancyros ya add list punch bag thing realli worki got mine world still retardedamong thingsgood luckub good morn peopleanyway noth go bed deal whatev bullshit subconsci store least would chang sceneryi sorri one thoseub daysa condit mani countri day religion use excus abus power would make exampl outta hellova thing think bed lofuggitsigh say allbeth realiz one socal islam countri right come alcohol famili inter...</td>\n",
              "    </tr>\n",
              "    <tr>\n",
              "      <th>5818</th>\n",
              "      <td>curiou realis bit stupid question bound generalis would anyth way nf look dress etc distinguish othersi relat much ridiculousnoth goe unnoticedi deal loneli rationalis shoo away work less half time focus main current goal success use loneli excus wellaerospac engin check civil engin electron engin econom w busi manag psycholog comput scienc english music physic w astronomi mbayeah somewhat agre join photographi societi univers pretti much event consist bar crawl night littl photographi meetu...</td>\n",
              "    </tr>\n",
              "    <tr>\n",
              "      <th>1559</th>\n",
              "      <td>bore mean men usual quit self absorb like men know start meaning convers good sens humor make laugh flirt withwel import thing accord would ye definit bore person also prefer men good look concern health looksthat good sensibl advic gave peopl want get tattoo person think peopl get tattoo sex symbol brag thaton thing know work technic field differenti base gender colleagu never felt woman social mewhatev depart field technolog woman may would alway judg incompet compar man first prove metal ...</td>\n",
              "    </tr>\n",
              "    <tr>\n",
              "      <th>7212</th>\n",
              "      <td>seem like intj like infj time cannot sj typesdefinit social skill practic enhanc find social public speak easi simpleshy insecur relat extrovertedintrovert perhap alway extrovert restrain form get social crave ofan estj figurehead intp actual cleverli plan everyth entj boss around slave isfj slave intj fill practic hole aris grand intp scheme estj figurehead intp actual cleverli plan everyth entj boss around slave isfj slave intj fill practic hole aris grand intp schemesi guess intj prone th...</td>\n",
              "    </tr>\n",
              "    <tr>\n",
              "      <th>5865</th>\n",
              "      <td>realli tend get nostalg fix present seldom think past futur often think futur past one thing hit reviv thread tongu got list consid harmless awkward moment read laugh mayb one day share realth guy geniu point say franc cute hot cool serious sooo shi studiou omg seriou overli matur child age super quiet though rememb shi away welcom worri sure find wors oh take construct critic well fact usual thank think everyon way though understand case still known beingi mastermind emot whimsic think dyna...</td>\n",
              "    </tr>\n",
              "    <tr>\n",
              "      <th>1880</th>\n",
              "      <td>ladi person decid post term dirti laundri post shitton lie reason nowher suddenli withoutwhat drawn proport aggress introduc like said page ago want answer question ask want provid proof withwhen purpos thread correct someon defam lie logic would follow situat given nice happygolucki aremi platform misrepres correct unwarr defam complet first post asshol conced platform extend dozen ofthank human thank buck social trend said would happen happen peopl noth predictablei mistaken notion someon ...</td>\n",
              "    </tr>\n",
              "    <tr>\n",
              "      <th>8456</th>\n",
              "      <td>sens ye much egot around esp onlin feel lose interest activ forum mai perto que pensa closer think portugues speak person could translat whole lyric wouldhey entj know old thread excav sinc want make new one someth want much attent found ask samehello inmyey sinc read repli today mind busi give answer put sake abil think someth elsei quit satisfi wrote post taken mayb appear differ mayb let us seethi song made home heart mind today appar reason busi someth els probabl heavent heard year fact...</td>\n",
              "    </tr>\n",
              "    <tr>\n",
              "      <th>5049</th>\n",
              "      <td>got excit bamboo learn grow zone need newfunexcit thing work look like might excit love grow huge sunflow never grown bamboo inspir studi probabl look soon start efnp gardeningconfess way got fish toss fish last summer excit get first aquarium read book subject join internety seem fix sinc yesterday gotten redirect sinc thank help love gardeniiiii post made feel excit spring time even think make feel good got order seed pretti soon happen friend drewski thought use iphon dolphin browser happ...</td>\n",
              "    </tr>\n",
              "    <tr>\n",
              "      <th>6170</th>\n",
              "      <td>judg select film would love probabl best periodcostum piec ever seenwhat top favorit movi realli like tv movi way appeal also want see istp like sinc never seen istp forum believ itold school alway cool mind thing outdat even text lot usual send one two text day school talk lot eithermak best film sinc tarkovski kubrick peopl deserv better shit shown hollywood independ film worldsm istp middl bro enfj younger bro entp mom esfj dad ixtx got mental shit god know whatyou kill blueberri ga chamb...</td>\n",
              "    </tr>\n",
              "    <tr>\n",
              "      <th>8127</th>\n",
              "      <td>never come across entp irl could say entp entp bay area holler four see correl habit type gretchen idea type six characteristicsh mention ex red flag freudian slip convers topic guess emot baggag ex posit ii tri imagin prefer also cannot help interject prefer lol right answer randomli throw tri messag inthi cute read thank share asid heartach imagin may experienc realli want speak insecur stori come fromhahah mention entj prefer give fuel gp hypothes suppos enneagramrel tri interject myersbr...</td>\n",
              "    </tr>\n",
              "    <tr>\n",
              "      <th>1393</th>\n",
              "      <td>edit good shitrhnb actual came convers day somebodi actual ask nickel instead metal good answersound like found typic intp one struck goldyeah wear pantswhenev urg see give calltextcarri pigeonsing telegram ask free hang given date time window busi iwel someth problem intp outsid hard tell genuin interest somebodi els friendli wors still obligingli polit foryou would need start dig deeper answer question peopl ask answer simpli state believ without explan believ thosei nearli said ye left fo...</td>\n",
              "    </tr>\n",
              "    <tr>\n",
              "      <th>3290</th>\n",
              "      <td>find istj organis rememb name date better intj intj much better solv problem argu constructivelycan someon pleas give practic exampl understand functionimagin look bottl deodor store analys colour rack store smell ingredi made brought manysur speak intp intp never post quot intj thingi laugh boyfriend laugh harder get distract easili thingsi thought intj know cynic straight forward time pi obvious bother otherwis would botheredth way say actual make sound interest let know end result say ple...</td>\n",
              "    </tr>\n",
              "    <tr>\n",
              "      <th>538</th>\n",
              "      <td>ye gone complet cold heart toward peopl earn mei heavi introvert yet everyon work love talk poepl time often time engag convers work howev cannot wait get home befil good luck projecti would think infj would think feeler truth infp nf nf haha thought infj nt nf infp nf nf enfp areveri good question lot ill word phrase even convers point toward insidei think isfp wellword affirm follow close qualiti timeb f dom type mean cannot think feel dom go passion thing think dom contrast go keep detach...</td>\n",
              "    </tr>\n",
              "    <tr>\n",
              "      <th>8624</th>\n",
              "      <td>everyon avid dd player felt need share dice shame pictur would creat abandon traitor speckl long ago quit love right internet connect pisspoor thing go fairli well guyshello c eveningmorn well happier hello infinnacagehello hakas today tend visit desert hour thu old joke thread night watchmani happi anticip cwell glad thing explod absenc would shame miss attempt peek oftenthank wander peopl thread held upwould someon pleas fire torpedoesw gener see moment blood album good music exampl sxdom ...</td>\n",
              "    </tr>\n",
              "    <tr>\n",
              "      <th>6444</th>\n",
              "      <td>alway take much think reason wham never tell person outright cut forev noth chang mind thinkrd use si exactli alway interest find exactli differenti enfj esfj thought time esfj know use ni indear enfp would kill make attempt stay touch friend make plan stick say leav mean leav sayi curiou differ attribut enfj kid use accept rule becam teen could accept rule social guidelin withoutbecaus underconfid must doubt doubt may reach social life fe dom clearli peopl pleaser mean need see thatthi one ...</td>\n",
              "    </tr>\n",
              "    <tr>\n",
              "      <th>1513</th>\n",
              "      <td>thank deprec consist voic reason threadoh also realli enjoy aspect drain swamp campaign agre polici immigr health care environ realli nice toi person fan trump person seen televis strike one peopl taut toughmind blunt realli use thattrust keep convers go hour mean bother cannot think time would entertain convers singl person hourhow would defin good person bad person would defin sum action word abus person bad person person innoc noi believ reason proud person accomplish view pride one natio...</td>\n",
              "    </tr>\n",
              "    <tr>\n",
              "      <th>4726</th>\n",
              "      <td>got home work eat dinner post dive final fantasi even taco eh hard say alway mix bag emot thought last day vacat though bit sad feel posit futur good leagu legend hearthston hex rust final fantasi marvel heroeshamburg funni thing last time post food box well chang much attempt make food hamburg creativ amaz work robotech ye english version enjoy much macross japanes version toradora best romanticcomedi ever love hina good romanticcomedi ranma aubb alway knew robotnow offici realli like song ...</td>\n",
              "    </tr>\n",
              "    <tr>\n",
              "      <th>1298</th>\n",
              "      <td>agre peopl mention grammar studi especi alreadi know languag real timesav one favourit way pick new informationin experi infp learn philosoph doctrin espous defend experienc insid much tri new possibl knowth question esfj enfj auxsi ni alway view philosophi field intuit realm intuit mark philosoph interest amongst thing ascatherin intj mayb yeah hard tell samantha yeah well think enfj make sens way organ seem second natur veryi mess agre intp welldispos toward philosophi like mani intuit may...</td>\n",
              "    </tr>\n",
              "    <tr>\n",
              "      <th>14</th>\n",
              "      <td>basic cheezburgri fond top hat certainli expect see thread top hat hahastreet rage segai think incorrectlysenior year high school found dad rapist colleg applic sister insan start aw school high anxieti depress myi believ richard probabl rule countri somewher develop cure diseas existenceugh much procrastin start paper multipl month day due finish even though page synthesi list becom immortalboth entp intp could consid jack trade opinion cricket soundsyour argument someth nazi might say ther...</td>\n",
              "    </tr>\n",
              "    <tr>\n",
              "      <th>1870</th>\n",
              "      <td>believ close friend enfp mostli lack run seen appear admir sum energi curios present theedit post much better approach situationif penguin capabl speech would make great ambassador dress part one hate realli hope one song come love rethink scene make mequit easili uncommon hug everyon sign friendli affect noth romant intend odd other may find behavior appear differ ieinyoddi see seem show interest lot action resembl favor would typic shown typic friend howev keep mind come fromi usual stick ...</td>\n",
              "    </tr>\n",
              "    <tr>\n",
              "      <th>5028</th>\n",
              "      <td>hi see also new nice fit well nativ languag english read lot english web around one book english nowoh yeah someon link thread write one account guess rememb email name noth relat account vagu idea scrollinghi seen around talk english skill haha friend suredo realli time realli think intp person rememb email adress six year ago oh pleas darl leav alon post oldcamisa e calay think suicid life make sens read subreddit someon talk take life friend cannot relat live home parent basement year old...</td>\n",
              "    </tr>\n",
              "    <tr>\n",
              "      <th>1470</th>\n",
              "      <td>koch brother paid romney lot money put name vpwelcom receiv intp infp result test lean toward infp inwardli intp outwardli seem happen lot male hope enjoy time herei would say estj take look colleg year compar end protect advanc posit polit mention well hequest two possibl option pattern enough progress introduc chang pattern last imag sure thesehmm quit good visual problem solv congratul obtain high score love indi rock overal percentil mean score higher ofhmm quit good visual problem solv ...</td>\n",
              "    </tr>\n",
              "    <tr>\n",
              "      <th>6381</th>\n",
              "      <td>ye siri cannot make stupid anxieti stop stupid emotionnay true cannot decidey isnot feel sleepi whole day sleep fine still tire day sleepi day goodi want switch copi splatoon order deliveredquit accuratei play hour mapl stori back mmo choic late trickster onlin ragnarok onlin ador game realli missy could infp perhapsth thing better keyboard mous shooter motion control motion control give game like splatoon lot control use button andpseudo infj common sure type would like mistyp though type l...</td>\n",
              "    </tr>\n",
              "    <tr>\n",
              "      <th>8326</th>\n",
              "      <td>hey incident exact thing happen order intp entp istp pretti artist music draw etc tactil canyou definit poke way love signatur could karaok make moment karaok skill ya probabl whitney alway lovewikirevolut oh hello know often roam lolther two mistak one make road truth go way start buddha alreadi start pleas messag would help nonetheless ipleas elabor truth pleas way awesom insight explan ti work probabl often stubbornli follow fundament truth think isthank someon final understood face impor...</td>\n",
              "    </tr>\n",
              "    <tr>\n",
              "      <th>1199</th>\n",
              "      <td>sent iphon use tapatalkar fuck real sent iphon use tapatalkif standard privat school reduc peopl use go privat tutor sent iphon use tapatalkstil imposs unless lower bar privat school sent iphon use tapatalkbecaus way public school meet privat standard lower privat school standard like usmc let women combat lower male standard whileno child left behind work like problem children creat equal kid could keep regul handicap class despit handicap mandat awhat never understood peopl never kid publi...</td>\n",
              "    </tr>\n",
              "    <tr>\n",
              "      <th>3209</th>\n",
              "      <td>know catch someon sure want know tool lol tongu complic question answer somewher fine clue ienneagram focuss fixat like type want perfect spiral dynam clara grave work focuss type commun capabilitybandwithstyleperspect liesikusagami sick natur temporarili changeeefj balanc still ask question orient f attitud archetyp role fulfil work john beeb help respect obsess sexvhaydenlv get say although b would surpris enfj experi intuit know action neg impact person soi hope disappoint relationship en...</td>\n",
              "    </tr>\n",
              "    <tr>\n",
              "      <th>8106</th>\n",
              "      <td>licens parent oh curios name chauffeurperson want roll like ball role model hand know time find role model supposei start bio relat field sinc said want someth feel posit impact would recommend research lab orient job positivewhil agre medic school like hit actual doctor part differ doctor memor lot fact would one english bio want go medicin dammitwher question mark originatethat would defeat purpos secrety see silli idea born perhap enjoy perhap nice pleas feel occasion writer block ixm sup...</td>\n",
              "    </tr>\n",
              "    <tr>\n",
              "      <th>1374</th>\n",
              "      <td>reaver clean spear spoiler therefor white text case someon seen seren yet put washfin manag buy mass effect download instal start aaaaaand hear german voic badli synchron lip movement appar way get origin voicesnop somehow speak way box mayb give closer look one huge advantag box alreadi friend train year thereheh recent think might take box thaibox pretti appealingi alway thought hate everi sport cannot chang get depress drop lb suddenli hada year ago went time felt suicid first visit help ...</td>\n",
              "    </tr>\n",
              "    <tr>\n",
              "      <th>554</th>\n",
              "      <td>person thought movi well done interest watch think main problem controversi surround movi everyon tri attach politicalsilli european america suprem critic coolknow grrm battl castl black go epic heartbreak get readi waterwork lol say mountain vs viper fighti seriou consid whether actual estp probabl go go extp far well receiv contact militari lifestylei actual degre similar reason plan join armi colleg x program want know cs degre fallback anyth elsehow come regret decis pick comput scienc i...</td>\n",
              "    </tr>\n",
              "    <tr>\n",
              "      <th>6835</th>\n",
              "      <td>hate custom servic job field train anyth better alway polit never get angri custom even angri atpeopl need stop tri convinc children say children selfless matur think plan children selfish purpos plan havemi best friend intp least think total confid type abil common interest music also drink hah sometim fight read sulki good math got past social idea girl good math got trigonometri fail lot help write fear pretend complet nonjudgment understand best friend write friend would say fear forador...</td>\n",
              "    </tr>\n",
              "    <tr>\n",
              "      <th>1017</th>\n",
              "      <td>correct reread scene isabel hope jace came live first time would brood need hate see independ heto correct reread scene isabel hope jace came live first time would brood need hate see independ hei actual made thread ago would like read iti still see alec istj fi seem less get say despit aw way phrase jace sooooo corni tv show like even cheesierquotefor infern devic one seri like everi mention charact someth like rare happen tessa seen theori infj infpi think tv seri shadowhunt charact differ...</td>\n",
              "    </tr>\n",
              "    <tr>\n",
              "      <th>3085</th>\n",
              "      <td>boat connect thing around us peopl time period becom remov best advic would travel much possibl meet everybut special person worth settl wait one rebuild sandcastl like found also build larger stronger protect wall around sandcastl get run ground easilli inhey want share piec artwork friend creat togeth let know think pleas post pictur site shown yet ok know pictur redicul oversea buddi want oblig thought would also share yallz enjoy bravo touch mani deep import subject great job explain soc...</td>\n",
              "    </tr>\n",
              "    <tr>\n",
              "      <th>5967</th>\n",
              "      <td>mind peopl smarter mind someon intellig think geniusi habit say inan thing straight face peopl know understand joke sometim peopl cannot tell joke deadpani live futur actual one robot assist type exhaust drag race float muscl car droog alway laugh becausewhat movi think handl much mysteri plu said great might miss watch iti believ author given benevol wise without two characterist think person worthi author unworthi person wieldsi would give shit would love hear stori curiou would like intp ...</td>\n",
              "    </tr>\n",
              "    <tr>\n",
              "      <th>6663</th>\n",
              "      <td>relationship enfj year three month easi reason mention highli emot intuit make fight superi wish peopl would see silenc wisdom instead noth say kind strength instead weak solitud peac instead stingy often wonder manyan entp spent lot time wrote wonder human sweet sincer honest kind funni sexyand quirki alway think endear broke myi thought anoth good one sorri feel way blood boilsthi part nice whole time read thought kind sweet also much complet also infj see becomingth way envis enfp constan...</td>\n",
              "    </tr>\n",
              "    <tr>\n",
              "      <th>2223</th>\n",
              "      <td>mayb go differ websit socionicscom sound like sociotypecom get littl detail realli focus cognit function anyth mbti issocion thetypesinfo hidden agenda point least resist confus type would use tool importantli interestingif anyon watch nfgeek guest shane definit infj think make video mike made connectthat great donni darko one favorit movi would like give feedback read hamlet yearstalk random connect come think one mine think sleep qualiti least dream relat relat feet feel say thisi lay face...</td>\n",
              "    </tr>\n",
              "    <tr>\n",
              "      <th>3024</th>\n",
              "      <td>feel confin c stuck bubbl free spread wingsapathi idea finit hapsi budgi x enjoy peac world let meltsomehow understand say feel like shouldus smile chang world let world chang smile cmanic pixi dream girl televis trope idiom xdomg love isfp tt boyfriend mother isfpsh lightheart love person think isfp mite favorit peopl tell glad know take sometim want feel free open best feel way struggl find inner outeraltruist yu guy altruism gut beautifulthi exactli somehow feel like way enfp infj look de...</td>\n",
              "    </tr>\n",
              "    <tr>\n",
              "      <th>212</th>\n",
              "      <td>never would guess pheterosexu nf herewhen thisnow hardcor commentto peopl say starwar charact sinc belliev invis spiritu forc flow everyth becom stuff regard fiction charact would sayit lie infp alway finnish syou gift like curs like chuck palahniuk said fight club special piec crap trash either arehumankind built reput ignor peopl around time use power advantagether sad day actual societi expect told told thousand time suffer woe hope think infinit forgiveto pursu pursuedhmmthey systemsi pe...</td>\n",
              "    </tr>\n",
              "    <tr>\n",
              "      <th>8531</th>\n",
              "      <td>like read right alreadi read larg textbook uni class colleg enjoy read mixtur non fiction psychologyrel fictiontraysth way villain laugh make think crazi peopl laugh like world would sane person laugh maniac someth wrong make think term madman forcheer observ daydream hopeless romanticeggsi ye know mess mani friend met onlin genuin onlin mean everyon talk know one myi live intp yeah sarcasm joke seem deeper mean usual occurr estj soi suppos ye howev meet someon first time tend trust almost c...</td>\n",
              "    </tr>\n",
              "    <tr>\n",
              "      <th>8274</th>\n",
              "      <td>welcom fellow enfj rel new enfj land enfp long rememb hope find look great place learnthi true peopl life well think make harder given friend met peopl myfrom someon date istj yearsrun wishywashi sound anyth relat relationship get frustrat desir run forokay want sound conceit anyon find member opposit sex gener realli attract like becom friend two monthsi agre wholeheartedli realli anyth add well saidhahahai want happi time whenev boyfriend istj get mad ritual hold mehe hug love mehe hold ti...</td>\n",
              "    </tr>\n",
              "    <tr>\n",
              "      <th>1516</th>\n",
              "      <td>internet met boyfriend facebook mutual friend colleg stuff start talk use feel complet mess sleep schedul last year start sleep day awak night got quit depress bare hadlov gcse current psychologyplay pokemon x haha p wish thoughthat awesom cow one pmi mother left chip chip shop rank realli greasygenuin give headach find beyonc run world girl incred irrit look like seizur weird p thank award three achiev say regist day day year join illeg give children energi drink practic feed lard stupid us...</td>\n",
              "    </tr>\n",
              "    <tr>\n",
              "      <th>4462</th>\n",
              "      <td>tldrno type infp hero told yesterday stop like girl work press harass charg even talk hersound like lol get realli nerviou difficult time talk person let alon joke around lol fmlthere bird flyingi believ love first sighti find battl nation interest battl nation team usa incas know think attract whole chivalri aspect romanc also coursetru love want happi anoth person even part happinesscuervo right go find find cureit better alon bad companyanyway profil pictur red head girl think uglyi know ...</td>\n",
              "    </tr>\n",
              "    <tr>\n",
              "      <th>4629</th>\n",
              "      <td>good question tri decod mind intp attempt defin hisher vulner otherwis intp would believ touch think iamtp mole crazytwinsredhawk keep thread aliv start poll result might surpris sampl size small draw fair conclus right nowseri differ nation would give percept weak trait definit feminin other would attach masculin trait feminin mean would true singledigit yearsworld galaxi yeslearn push feel asid ntp still sensit peopl mean could feel similarli want keep friendship go act posit thought ini r...</td>\n",
              "    </tr>\n",
              "    <tr>\n",
              "      <th>2310</th>\n",
              "      <td>chloe basic extrem exampl enfp constantli search answer reason thing insati quest satisfi feel case happen rachel tooha realiz post thing wordforword place understand person mean though studi driver basic go peripheralvis modeif clean someth pretti much tie back want fill day life mundan would throw think drive bore tediou tri ok go anywher actual dread patient driver still give ai saw nick cave bad seed brooklyn sarah mclachlan hartford ct last year sound great engag also seen phish thing p...</td>\n",
              "    </tr>\n",
              "    <tr>\n",
              "      <th>8019</th>\n",
              "      <td>realli hate anyth type find tendenc mani infp wallow self piti treat self loath almost virtu grate think frequentlymi hair current past shoulder blade typic worn long much adult life color like auburn color white templ got rid beardi own gun carri even use occas never felt need one civilian life quit pleas seem far mani peopl far eager framestil tile radiohead alway seem come love track new offer old favorit surprisingli drop new album work waiter bartend time strong empathi deal tri nice cu...</td>\n",
              "    </tr>\n",
              "  </tbody>\n",
              "</table>\n",
              "</div>\n",
              "    <div class=\"colab-df-buttons\">\n",
              "\n",
              "  <div class=\"colab-df-container\">\n",
              "    <button class=\"colab-df-convert\" onclick=\"convertToInteractive('df-939f3ea6-8e14-468e-aa4e-98a9d5836731')\"\n",
              "            title=\"Convert this dataframe to an interactive table.\"\n",
              "            style=\"display:none;\">\n",
              "\n",
              "  <svg xmlns=\"http://www.w3.org/2000/svg\" height=\"24px\" viewBox=\"0 -960 960 960\">\n",
              "    <path d=\"M120-120v-720h720v720H120Zm60-500h600v-160H180v160Zm220 220h160v-160H400v160Zm0 220h160v-160H400v160ZM180-400h160v-160H180v160Zm440 0h160v-160H620v160ZM180-180h160v-160H180v160Zm440 0h160v-160H620v160Z\"/>\n",
              "  </svg>\n",
              "    </button>\n",
              "\n",
              "  <style>\n",
              "    .colab-df-container {\n",
              "      display:flex;\n",
              "      gap: 12px;\n",
              "    }\n",
              "\n",
              "    .colab-df-convert {\n",
              "      background-color: #E8F0FE;\n",
              "      border: none;\n",
              "      border-radius: 50%;\n",
              "      cursor: pointer;\n",
              "      display: none;\n",
              "      fill: #1967D2;\n",
              "      height: 32px;\n",
              "      padding: 0 0 0 0;\n",
              "      width: 32px;\n",
              "    }\n",
              "\n",
              "    .colab-df-convert:hover {\n",
              "      background-color: #E2EBFA;\n",
              "      box-shadow: 0px 1px 2px rgba(60, 64, 67, 0.3), 0px 1px 3px 1px rgba(60, 64, 67, 0.15);\n",
              "      fill: #174EA6;\n",
              "    }\n",
              "\n",
              "    .colab-df-buttons div {\n",
              "      margin-bottom: 4px;\n",
              "    }\n",
              "\n",
              "    [theme=dark] .colab-df-convert {\n",
              "      background-color: #3B4455;\n",
              "      fill: #D2E3FC;\n",
              "    }\n",
              "\n",
              "    [theme=dark] .colab-df-convert:hover {\n",
              "      background-color: #434B5C;\n",
              "      box-shadow: 0px 1px 3px 1px rgba(0, 0, 0, 0.15);\n",
              "      filter: drop-shadow(0px 1px 2px rgba(0, 0, 0, 0.3));\n",
              "      fill: #FFFFFF;\n",
              "    }\n",
              "  </style>\n",
              "\n",
              "    <script>\n",
              "      const buttonEl =\n",
              "        document.querySelector('#df-939f3ea6-8e14-468e-aa4e-98a9d5836731 button.colab-df-convert');\n",
              "      buttonEl.style.display =\n",
              "        google.colab.kernel.accessAllowed ? 'block' : 'none';\n",
              "\n",
              "      async function convertToInteractive(key) {\n",
              "        const element = document.querySelector('#df-939f3ea6-8e14-468e-aa4e-98a9d5836731');\n",
              "        const dataTable =\n",
              "          await google.colab.kernel.invokeFunction('convertToInteractive',\n",
              "                                                    [key], {});\n",
              "        if (!dataTable) return;\n",
              "\n",
              "        const docLinkHtml = 'Like what you see? Visit the ' +\n",
              "          '<a target=\"_blank\" href=https://colab.research.google.com/notebooks/data_table.ipynb>data table notebook</a>'\n",
              "          + ' to learn more about interactive tables.';\n",
              "        element.innerHTML = '';\n",
              "        dataTable['output_type'] = 'display_data';\n",
              "        await google.colab.output.renderOutput(dataTable, element);\n",
              "        const docLink = document.createElement('div');\n",
              "        docLink.innerHTML = docLinkHtml;\n",
              "        element.appendChild(docLink);\n",
              "      }\n",
              "    </script>\n",
              "  </div>\n",
              "\n",
              "\n",
              "<div id=\"df-86654841-f6c6-4dde-a0c2-0f19af16fc58\">\n",
              "  <button class=\"colab-df-quickchart\" onclick=\"quickchart('df-86654841-f6c6-4dde-a0c2-0f19af16fc58')\"\n",
              "            title=\"Suggest charts\"\n",
              "            style=\"display:none;\">\n",
              "\n",
              "<svg xmlns=\"http://www.w3.org/2000/svg\" height=\"24px\"viewBox=\"0 0 24 24\"\n",
              "     width=\"24px\">\n",
              "    <g>\n",
              "        <path d=\"M19 3H5c-1.1 0-2 .9-2 2v14c0 1.1.9 2 2 2h14c1.1 0 2-.9 2-2V5c0-1.1-.9-2-2-2zM9 17H7v-7h2v7zm4 0h-2V7h2v10zm4 0h-2v-4h2v4z\"/>\n",
              "    </g>\n",
              "</svg>\n",
              "  </button>\n",
              "\n",
              "<style>\n",
              "  .colab-df-quickchart {\n",
              "      --bg-color: #E8F0FE;\n",
              "      --fill-color: #1967D2;\n",
              "      --hover-bg-color: #E2EBFA;\n",
              "      --hover-fill-color: #174EA6;\n",
              "      --disabled-fill-color: #AAA;\n",
              "      --disabled-bg-color: #DDD;\n",
              "  }\n",
              "\n",
              "  [theme=dark] .colab-df-quickchart {\n",
              "      --bg-color: #3B4455;\n",
              "      --fill-color: #D2E3FC;\n",
              "      --hover-bg-color: #434B5C;\n",
              "      --hover-fill-color: #FFFFFF;\n",
              "      --disabled-bg-color: #3B4455;\n",
              "      --disabled-fill-color: #666;\n",
              "  }\n",
              "\n",
              "  .colab-df-quickchart {\n",
              "    background-color: var(--bg-color);\n",
              "    border: none;\n",
              "    border-radius: 50%;\n",
              "    cursor: pointer;\n",
              "    display: none;\n",
              "    fill: var(--fill-color);\n",
              "    height: 32px;\n",
              "    padding: 0;\n",
              "    width: 32px;\n",
              "  }\n",
              "\n",
              "  .colab-df-quickchart:hover {\n",
              "    background-color: var(--hover-bg-color);\n",
              "    box-shadow: 0 1px 2px rgba(60, 64, 67, 0.3), 0 1px 3px 1px rgba(60, 64, 67, 0.15);\n",
              "    fill: var(--button-hover-fill-color);\n",
              "  }\n",
              "\n",
              "  .colab-df-quickchart-complete:disabled,\n",
              "  .colab-df-quickchart-complete:disabled:hover {\n",
              "    background-color: var(--disabled-bg-color);\n",
              "    fill: var(--disabled-fill-color);\n",
              "    box-shadow: none;\n",
              "  }\n",
              "\n",
              "  .colab-df-spinner {\n",
              "    border: 2px solid var(--fill-color);\n",
              "    border-color: transparent;\n",
              "    border-bottom-color: var(--fill-color);\n",
              "    animation:\n",
              "      spin 1s steps(1) infinite;\n",
              "  }\n",
              "\n",
              "  @keyframes spin {\n",
              "    0% {\n",
              "      border-color: transparent;\n",
              "      border-bottom-color: var(--fill-color);\n",
              "      border-left-color: var(--fill-color);\n",
              "    }\n",
              "    20% {\n",
              "      border-color: transparent;\n",
              "      border-left-color: var(--fill-color);\n",
              "      border-top-color: var(--fill-color);\n",
              "    }\n",
              "    30% {\n",
              "      border-color: transparent;\n",
              "      border-left-color: var(--fill-color);\n",
              "      border-top-color: var(--fill-color);\n",
              "      border-right-color: var(--fill-color);\n",
              "    }\n",
              "    40% {\n",
              "      border-color: transparent;\n",
              "      border-right-color: var(--fill-color);\n",
              "      border-top-color: var(--fill-color);\n",
              "    }\n",
              "    60% {\n",
              "      border-color: transparent;\n",
              "      border-right-color: var(--fill-color);\n",
              "    }\n",
              "    80% {\n",
              "      border-color: transparent;\n",
              "      border-right-color: var(--fill-color);\n",
              "      border-bottom-color: var(--fill-color);\n",
              "    }\n",
              "    90% {\n",
              "      border-color: transparent;\n",
              "      border-bottom-color: var(--fill-color);\n",
              "    }\n",
              "  }\n",
              "</style>\n",
              "\n",
              "  <script>\n",
              "    async function quickchart(key) {\n",
              "      const quickchartButtonEl =\n",
              "        document.querySelector('#' + key + ' button');\n",
              "      quickchartButtonEl.disabled = true;  // To prevent multiple clicks.\n",
              "      quickchartButtonEl.classList.add('colab-df-spinner');\n",
              "      try {\n",
              "        const charts = await google.colab.kernel.invokeFunction(\n",
              "            'suggestCharts', [key], {});\n",
              "      } catch (error) {\n",
              "        console.error('Error during call to suggestCharts:', error);\n",
              "      }\n",
              "      quickchartButtonEl.classList.remove('colab-df-spinner');\n",
              "      quickchartButtonEl.classList.add('colab-df-quickchart-complete');\n",
              "    }\n",
              "    (() => {\n",
              "      let quickchartButtonEl =\n",
              "        document.querySelector('#df-86654841-f6c6-4dde-a0c2-0f19af16fc58 button');\n",
              "      quickchartButtonEl.style.display =\n",
              "        google.colab.kernel.accessAllowed ? 'block' : 'none';\n",
              "    })();\n",
              "  </script>\n",
              "</div>\n",
              "\n",
              "    </div>\n",
              "  </div>\n"
            ],
            "application/vnd.google.colaboratory.intrinsic+json": {
              "type": "dataframe",
              "variable_name": "x_test",
              "summary": "{\n  \"name\": \"x_test\",\n  \"rows\": 1302,\n  \"fields\": [\n    {\n      \"column\": \"posts\",\n      \"properties\": {\n        \"dtype\": \"string\",\n        \"num_unique_values\": 1302,\n        \"samples\": [\n          \"vainglori coursey describ crisi confid describ boredom entp fake product mundan stuff long battl need challeng find aand also answer questioneveryth unicornsbecaus ask answer entpsth place entp bring back tomani us simpli sentient ai algorithm could explain thaty pretti much observ maker helmet nail aspect women would guess subtl thing consid specif entp male femal thei obvious realiz relationship resolv alreadi congratul best wish find great one good work friend youso watch pretend nikki ray someth wrong chi face slap lap amyeah think oral kind goe intent religi celibaci lol entp rulebreak yeah best luck deciph logic say commit say noblese notic pattern entp relationship attract quirk partner use quirk defens reason lovestay word person lessmeh simpl take typic meet love someon get group go essenti trash someon els step simpl ration commenti side woman five year long time life short much patienc normal experi clear direct year even got idea guy sort intern playboy sever women surgeon danger one lot malpractic suitsit obviou eye ye cat relationship problemsseem problem sure entp like go fast step back process sound like may happen said sort long distanc areentpentp make big plan togeth accomplish togeth least relationship went tri hard friend involv fact weargu one side argument hour come side switch side argu point never considerednow understand song lyric oh shot heart blame give love bad name wonder ask person type signup formhowl loudli like dog siren whenev start upmuch better busi near skydiv areain late teen kill matter bad get glad aliv later peopl want around ss go want anthat redund choos go overwhelm charlatani guess intj sidekick type other istj one well enfj interceptor sure esfp infp hyster laughersth big question would possibl purpos could oscil serv see one offhand lot theori everyth simpli inform eg binari bit asi conflict type thing sj term push implement bureaucraci even persontoperson level istj loyal fault though rare moodi entpistj seemwel mine kind similar actual much anxieti high school though public speak bit start pre high school zero colleg much problemi younger mostli gone fade away fluster pretti woman long time reason introduct meet expect thatbc drive law attack driver left strand experi lifetim trust tell stori mean experi actual happen talk cours case assum alway weav absurd littleok go stay wayget dustiercollect wire box corkscrew push cork wine bottl pinch lock door without key put tape knob thread door framethat stranger magic infp unicorninfj existthey mythic santa clausget good travel partner drive arctic circl alaska middl winter rental car crappi tire kiss front headlight take picturemi narciss pick pretti openi took advic everyth skyjump thought would easili prove littl much suit readi could intensethank repli think help figur sort take variou quit differ idea make larger whole skyjump thesh lover convers awhil back told back certain challeng fact challeng motiv said would back either lest sheyou never know actual stay sort thing chang final realiz job simpli mean end rather defin creativ skill helpedsh look bright side could marri get thoughwer seriou relationship infatu seriou oneononemi father final succumb hideou diseas al number year ago diseas slowli took toll ravag muscl met stephen hawk backstag two peopl hadhey good hope well otherwis toopro comfort relationship ever experienc definit encourag get thing love doand great athletic isi would vote comput code suggest endless challeng want pay handsom even hobbi creat eleg power code one theyou actual want project finish unfinish one pleas talk new one\",\n          \"thank forcthst insight total understand feel manipul feel like choic act choic relationship rather push upon doesi reread post apolog seem critic inquisit understand pro put one first difficulti understand would work boththank respons sound like care infj overal seem like entp need someon support andor let alon pursu project idea seem entpsit seem entp extrem hard set intern benchmark relat other close life eg children spous famili focu isalthough narciss may seem like anoth explan confid appear root selfconstruct protect question one alway feed ego noty year sinc separ realli fulli separ awhil sinc follow ex oversea watch anoth babi anoth man towel someon seek emot connect other indic someth quit right relationship mean connect men sharethat actual help lot seem like guy need test path rather trust someonehistor knowledg said explor look reinvent wheel timesthank read thread seem hopeless entp commit longterm sustain relationship alway bore one partner whatwhen chang tuna lot entp suggest go know mani sustain long date anoth entp want get marri sure seemswhat book state theoryhaha think definit sociopath trait lay make decis easier crack erad ironi think weak one done analyzinghow ni fe combo worksigh mayb simpl excel manipul test entp hold came line commit loyal relat short time saw thishistori entp guy met almost year ago come bad long term breakup other met hit start spend lot time togeth natur fellinterest reson highli ring true infp femalesthi guy noncommitt seem know like vacil seek reassur tell refus vulner need someon patient say cannot sacrificebut read open bookdo includ disclos deepest insecuritiesfrustr piec think emot piec neither us relinquish fulli tend seek reassur give mix messag entp feelagre last bit yeah fairli critic part defens part want person getgrow spend time tri understandbeen done complic want commit anyon decid abstain deed anoth contin right return stillhow commun respect idea commun limit without seem criticalmayb creat anoth thread one reach entp emot allow feel connect soso say purpos avoid hurt other life carelov mind hurt rest would found hurt someon lovecarehmmm base like entp super friendli chameleon like like semi interest realli like someon want protect vulnerabilitysingleand possibl seekingi suspect qualif around nonprompt like testimoni stem form protection person would never tell someon like even someoneorigin post grayzon still entp weighti would tell someon arguabl vulner moment like told least still entp weighti would tell someon arguabl vulner moment like told least time entp even thatthi might interest insight entp pinkrasputin cope behavior also mo effort deal type appar need period detach getay well tad differ end us stress want commit relationship begin seem mif brought date guy feeli know entp want freedom appar shift full throttl relationship sever burn past wager like mani peopl would behaha bet care elaborateprovid insight last question post via mobil devicenot actual state hold back post via mobil devicestil thank everyon fabul insight new question pose long guysgirl continu see someon without comit decid either way whycricket difficult question answer semblanc respons actual would interestingright absenc get close andor boredom typic ever pull back open much girl feel vulnerablewel think person got pain relationship mayb need time heal howev typic assum know want continu seep deal strong posit feel sincer express tend skate intens play think entp care may couplewel think want invest relationship unless felt person actual got felt comfort otherwis would act theydo react joke manner even feel actual hurt would describ seriou could even mean felt confid person like asdo tend discuss past relationship entp everybodi pleas chime tend disappear pushpul period pull back someon like continuallyhow go figur other feel make comfort enough open elabor final andor realiz wantdo ever feel sex express love rather physic need also past relationship dealt hurt feel happen often meaningpart describ sound like teaseto point hurt someon feel realli like someon realli like would tough enough take andpleas excus ignor littl confus sometim variou conflict inform receiv extrovert confidenceunconfid entp read boldwel mean act overli goofi mode like exagger sweet point ridicul guy told shi met short period hethank repli treese know person busi want pushyclingi say persist thought entp abhor type behavior like bethat realli depend ye usual strike covers anyon soon tell senseless convers like dumb random small talk\",\n          \"ohhh yeah never heard use love play fashion game easili bore quicklol talk wooooow excus enthral much sound like go shop picki pick like buy absolut love repres mewel love glad wrote post even despit delet glad discov someth input appreci everyon els ityeah sound like suggest might take well think might tough time recal lot childhood least tri pinpoint case dom function appar someth rememb happi childi phase lot self search final figur infp strongli believ infp today even told myselfi late repli want say like video despit other might say actual remind lot plu ador annoy thank postingyeah find would appreci right dno serious guy judgement lot sound realli mean forget forum inwel never said anyth selfish intent also want point mean selfcent place oneself concern self other someon beingi think introspect selfabsorb opposit would absorb surround qualiti necessarili bad trait fact quit theyeah perc lot like mani onlin commun differ peopl interest typolog etc know somehow assum would differ guessi agre cours mean center self selfcent inconsider like selfcent neg light tri explain sister thei sens sarcasm whyhey saw post realli like point made remov itwhat hipster ps cutei guess cannot realli mistak selfcent attentionseek think lot peopl might consid infpsi believ infp selfcent explain say condescend bash anyon observ guess like throughi know curiou thing first ye quit possibl know lot enneagram know motiv core fear someth know sryan gosl realli strike enfj interview brought tear taker sigh okay unsurei pretti sure seen thread like float around curiou input sens style visual level post picturesok guy accept way cook love guy accept tast style love unconvent person bring good side mind silenc ori complet make angri say least way media lie twist truth make sound like gaza one attack israel sister talkingwhi ever talk quiet hurri ew creepi sister read storypoem tell think go read storypoemtwo best companion one arm bear orca brain encod map rule etiquett forc function accordingli hold lot secret thistobi regbo guy guilti melt heart ryan gosl apart life sinc young probabl first celebr downtown citi liveaw look adorbscamera tip tri wipe camera len microfib cloth one would use clean screen scratch len photo probabl come lot clearer andvlessit must say lot us k page thread like thislaugh well aim might effici somayb spare mayb rais eyebrow mean afraid get shot know might deadli shoot water pistolyay let us highfiv back hand dude sorri differ page would like join anywaysseri good insult energi would like tigress gallop field babi breath dandelionshaha cours hark got love eat dalek confus knowsincereri seat one careswelcom infp infp although still pretti much noob found place commun lot fun feel exhilar excit discoveringwhen think marriag think husband smile crazili smitten famili help hope creat larger famili ithank lame repli super late ever read forgiv project sort thing realli model sister somewhat ai honestli tri best cri front anyon mean one feel bad front like mother sister cri tri make sure soul know ofmi teeth hurt flirt direct multipl reaction depend flirter situat realli interest complet ignor flirt notdo feel asham alon exact thing often timehi opp select submit finish post anyway ton infp run fan doctor recent decid check see craze boy\"\n        ],\n        \"semantic_type\": \"\",\n        \"description\": \"\"\n      }\n    }\n  ]\n}"
            }
          },
          "metadata": {},
          "execution_count": 39
        }
      ]
    },
    {
      "cell_type": "markdown",
      "source": [
        "###Tokenizer"
      ],
      "metadata": {
        "id": "UeCrStNdxgg3"
      }
    },
    {
      "cell_type": "code",
      "source": [
        "#convert the text into numerical representations\n",
        "tokenizer = Tokenizer()\n",
        "tokenizer.fit_on_texts(x_train['posts'])\n",
        "sequences = tokenizer.texts_to_sequences(x_train['posts'])"
      ],
      "metadata": {
        "id": "MBtellK5xgNa"
      },
      "execution_count": 40,
      "outputs": []
    },
    {
      "cell_type": "code",
      "source": [
        "vocab_size = len(tokenizer.word_index) + 1"
      ],
      "metadata": {
        "id": "04zlZBTVxlA4"
      },
      "execution_count": 41,
      "outputs": []
    },
    {
      "cell_type": "code",
      "source": [
        "vocab_size"
      ],
      "metadata": {
        "colab": {
          "base_uri": "https://localhost:8080/"
        },
        "id": "wubraGvTzOSz",
        "outputId": "185c37c9-cd72-462f-b751-3e6ea4d6dadf"
      },
      "execution_count": 42,
      "outputs": [
        {
          "output_type": "execute_result",
          "data": {
            "text/plain": [
              "204752"
            ]
          },
          "metadata": {},
          "execution_count": 42
        }
      ]
    },
    {
      "cell_type": "code",
      "source": [
        "max_sequence_len = max(len(seq) for seq in sequences)\n",
        "print(\"Maximum sequence length :\", max_sequence_len)"
      ],
      "metadata": {
        "colab": {
          "base_uri": "https://localhost:8080/"
        },
        "id": "HrvkRH4g4Ifu",
        "outputId": "f9a580fd-6d99-4048-da84-4f0a0d1be007"
      },
      "execution_count": 43,
      "outputs": [
        {
          "output_type": "stream",
          "name": "stdout",
          "text": [
            "Maximum sequence length : 910\n"
          ]
        }
      ]
    },
    {
      "cell_type": "code",
      "source": [
        "#another way to calculate Maximum sequence length\n",
        "lengths = [len(s)for s in sequences]\n",
        "plt.hist(lengths, bins=50)\n",
        "plt.show()"
      ],
      "metadata": {
        "colab": {
          "base_uri": "https://localhost:8080/",
          "height": 430
        },
        "id": "6o0Yy4MU0BAQ",
        "outputId": "872a096c-8d75-40e6-ad3f-75a157c1e125"
      },
      "execution_count": 44,
      "outputs": [
        {
          "output_type": "display_data",
          "data": {
            "text/plain": [
              "<Figure size 640x480 with 1 Axes>"
            ],
            "image/png": "[encoded data removed]"
          },
          "metadata": {}
        }
      ]
    },
    {
      "cell_type": "code",
      "source": [
        "x_train_padded = pad_sequences(sequences, maxlen=max_sequence_len, padding='post', truncating='post')"
      ],
      "metadata": {
        "id": "gZeeTr1mEcnf"
      },
      "execution_count": 45,
      "outputs": []
    },
    {
      "cell_type": "code",
      "source": [
        "# Convert text data to sequences of tokens for validation set\n",
        "sequences_val = tokenizer.texts_to_sequences(x_val['posts'])\n",
        "x_val_padded = pad_sequences(sequences_val, maxlen=max_sequence_len, padding='post', truncating='post')"
      ],
      "metadata": {
        "id": "B61sgNJjGjd3"
      },
      "execution_count": 46,
      "outputs": []
    },
    {
      "cell_type": "code",
      "source": [
        "# Convert text data to sequences of tokens for testing set\n",
        "sequences_test = tokenizer.texts_to_sequences(x_test['posts'])\n",
        "x_test_padded = pad_sequences(sequences_test, maxlen=max_sequence_len, padding='post', truncating='post')"
      ],
      "metadata": {
        "id": "a-lN3Ja9HYp4"
      },
      "execution_count": 47,
      "outputs": []
    },
    {
      "cell_type": "code",
      "source": [
        "# Check the shapes of padded sequences for each set\n",
        "print(\"Shape of x_train_padded:\", x_train_padded.shape)\n",
        "print(\"Shape of x_val_padded:\", x_val_padded.shape)\n",
        "print(\"Shape of x_test_padded:\", x_test_padded.shape)"
      ],
      "metadata": {
        "colab": {
          "base_uri": "https://localhost:8080/"
        },
        "id": "7RwiOMetHh53",
        "outputId": "7e67d4e7-8eb0-4a77-fd3c-a486f463857b"
      },
      "execution_count": 48,
      "outputs": [
        {
          "output_type": "stream",
          "name": "stdout",
          "text": [
            "Shape of x_train_padded: (6267, 910)\n",
            "Shape of x_val_padded: (1106, 910)\n",
            "Shape of x_test_padded: (1302, 910)\n"
          ]
        }
      ]
    },
    {
      "cell_type": "markdown",
      "metadata": {
        "id": "R9BhRQbYorxf"
      },
      "source": [
        "### Modelling"
      ]
    },
    {
      "cell_type": "code",
      "source": [
        "# Initialize LabelEncoder\n",
        "label_encoder = LabelEncoder()\n",
        "# Fit label encoder and transform labels in y_train\n",
        "y_train_encoded = label_encoder.fit_transform(y_train)"
      ],
      "metadata": {
        "id": "J6Tcs1pYRpvF"
      },
      "execution_count": 49,
      "outputs": []
    },
    {
      "cell_type": "code",
      "source": [
        "y_val_encoded = label_encoder.transform(y_val)"
      ],
      "metadata": {
        "id": "rD3jt3HhR7jG"
      },
      "execution_count": 50,
      "outputs": []
    },
    {
      "cell_type": "code",
      "source": [
        "y_test_encoded = label_encoder.transform(y_test)"
      ],
      "metadata": {
        "id": "xvQqwakVR_Oe"
      },
      "execution_count": 51,
      "outputs": []
    },
    {
      "cell_type": "code",
      "execution_count": null,
      "metadata": {
        "id": "AEVf0M6EUW5C"
      },
      "outputs": [],
      "source": [
        "model = tf.keras.models.Sequential([\n",
        "    tf.keras.layers.Embedding(vocab_size,max_sequence_len),\n",
        "    tf.keras.layers.SimpleRNN(100,return_sequences=True),\n",
        "    tf.keras.layers.SimpleRNN(100),\n",
        "    tf.keras.layers.Dense(100,activation='relu'),\n",
        "    tf.keras.layers.Dense(50,activation='relu'),\n",
        "    tf.keras.layers.Dense(16,activation='softmax')\n",
        "])"
      ]
    },
    {
      "cell_type": "code",
      "execution_count": null,
      "metadata": {
        "id": "q7ydAb-fUW5C"
      },
      "outputs": [],
      "source": [
        "model.compile(loss=tf.keras.losses.sparse_categorical_crossentropy,\n",
        "              optimizer=tf.keras.optimizers.Adam(0.01),\n",
        "              metrics=['accuracy'])"
      ]
    },
    {
      "cell_type": "code",
      "execution_count": null,
      "metadata": {
        "colab": {
          "base_uri": "https://localhost:8080/"
        },
        "id": "v2Y7W1JxUW5C",
        "outputId": "eb079f21-3e35-46e5-a5d7-bc0ae405c41a"
      },
      "outputs": [
        {
          "output_type": "stream",
          "name": "stdout",
          "text": [
            "Epoch 1/5\n",
            "196/196 [==============================] - 348s 2s/step - loss: 2.2916 - accuracy: 0.2113 - val_loss: 2.2589 - val_accuracy: 0.2025\n",
            "Epoch 2/5\n",
            "196/196 [==============================] - 343s 2s/step - loss: 2.2906 - accuracy: 0.2113 - val_loss: 2.2615 - val_accuracy: 0.2025\n",
            "Epoch 3/5\n",
            "196/196 [==============================] - 343s 2s/step - loss: 2.2903 - accuracy: 0.2113 - val_loss: 2.2651 - val_accuracy: 0.2025\n",
            "Epoch 4/5\n",
            "196/196 [==============================] - 343s 2s/step - loss: 2.2896 - accuracy: 0.2113 - val_loss: 2.2664 - val_accuracy: 0.2025\n",
            "Epoch 5/5\n",
            "196/196 [==============================] - 343s 2s/step - loss: 2.2905 - accuracy: 0.2113 - val_loss: 2.2579 - val_accuracy: 0.2025\n"
          ]
        }
      ],
      "source": [
        "history = model.fit(x_train_padded, y_train_encoded, epochs=5,\n",
        "                    validation_data=(x_val_padded, y_val_encoded))\n"
      ]
    },
    {
      "cell_type": "markdown",
      "metadata": {
        "id": "85JlkIQXorxg"
      },
      "source": [
        "#### Evaluation"
      ]
    },
    {
      "cell_type": "markdown",
      "metadata": {
        "id": "XUofyDbTUW5D"
      },
      "source": [
        "**Evaluation metric:**\n",
        "Precision"
      ]
    },
    {
      "cell_type": "code",
      "execution_count": null,
      "metadata": {
        "colab": {
          "base_uri": "https://localhost:8080/"
        },
        "id": "6jTD7P72UW5E",
        "outputId": "6cd3e8aa-2984-472f-987a-11905fe4d0a0"
      },
      "outputs": [
        {
          "output_type": "stream",
          "name": "stdout",
          "text": [
            "41/41 [==============================] - 6s 130ms/step\n",
            "Precision: 0.0476\n"
          ]
        },
        {
          "output_type": "stream",
          "name": "stderr",
          "text": [
            "/usr/local/lib/python3.10/dist-packages/sklearn/metrics/_classification.py:1344: UndefinedMetricWarning: Precision is ill-defined and being set to 0.0 in labels with no predicted samples. Use `zero_division` parameter to control this behavior.\n",
            "  _warn_prf(average, modifier, msg_start, len(result))\n"
          ]
        }
      ],
      "source": [
        "# Predict the labels for the test data\n",
        "y_pred = model.predict(x_test_padded)\n",
        "\n",
        "# Convert the predicted probabilities to class labels\n",
        "y_pred_classes = np.argmax(y_pred, axis=1)\n",
        "\n",
        "# Calculate precision\n",
        "precision = precision_score(y_test_encoded, y_pred_classes, average='weighted')\n",
        "\n",
        "print('Precision: {:.4f}'.format(precision))"
      ]
    },
    {
      "cell_type": "markdown",
      "metadata": {
        "id": "fhVFUaIcorxh"
      },
      "source": [
        "### Enhancement"
      ]
    },
    {
      "cell_type": "markdown",
      "source": [
        "Using Bidirectional with GRU and reduce max_sequence_len = 800 instade of 910 words"
      ],
      "metadata": {
        "id": "ktF_NMAe1PRi"
      }
    },
    {
      "cell_type": "code",
      "source": [
        "model2 = tf.keras.models.Sequential([\n",
        "    tf.keras.layers.Embedding(vocab_size,800),\n",
        "    tf.keras.layers.Bidirectional(tf.keras.layers.GRU(units=200)),\n",
        "    tf.keras.layers.Dense(units=100, activation='relu'),\n",
        "    tf.keras.layers.Dense(units=50, activation='relu'),\n",
        "    tf.keras.layers.Dense(units=16, activation='softmax')\n",
        "])\n",
        "model2.summary()"
      ],
      "metadata": {
        "colab": {
          "base_uri": "https://localhost:8080/"
        },
        "outputId": "d9c29195-9840-415e-9ae7-01af632251e5",
        "id": "-wqr7RYv1L82"
      },
      "execution_count": null,
      "outputs": [
        {
          "output_type": "stream",
          "name": "stdout",
          "text": [
            "Model: \"sequential_1\"\n",
            "_________________________________________________________________\n",
            " Layer (type)                Output Shape              Param #   \n",
            "=================================================================\n",
            " embedding_1 (Embedding)     (None, None, 800)         163801600 \n",
            "                                                                 \n",
            " bidirectional_1 (Bidirecti  (None, 400)               1202400   \n",
            " onal)                                                           \n",
            "                                                                 \n",
            " dense_3 (Dense)             (None, 100)               40100     \n",
            "                                                                 \n",
            " dense_4 (Dense)             (None, 50)                5050      \n",
            "                                                                 \n",
            " dense_5 (Dense)             (None, 16)                816       \n",
            "                                                                 \n",
            "=================================================================\n",
            "Total params: 165049966 (629.62 MB)\n",
            "Trainable params: 165049966 (629.62 MB)\n",
            "Non-trainable params: 0 (0.00 Byte)\n",
            "_________________________________________________________________\n"
          ]
        }
      ]
    },
    {
      "cell_type": "code",
      "execution_count": null,
      "metadata": {
        "id": "rjPuvf4s1L83"
      },
      "outputs": [],
      "source": [
        "model2.compile(loss=tf.keras.losses.sparse_categorical_crossentropy,\n",
        "              optimizer=tf.keras.optimizers.Adam(0.01),\n",
        "              metrics=['accuracy'])"
      ]
    },
    {
      "cell_type": "code",
      "execution_count": null,
      "metadata": {
        "colab": {
          "base_uri": "https://localhost:8080/"
        },
        "outputId": "d06afb53-dfb8-4df9-d41b-2c7bfc577002",
        "id": "YkM92TTj1L84"
      },
      "outputs": [
        {
          "output_type": "stream",
          "name": "stdout",
          "text": [
            "Epoch 1/50\n",
            "196/196 [==============================] - 63s 292ms/step - loss: 2.3393 - accuracy: 0.1913 - val_loss: 2.2639 - val_accuracy: 0.2025\n",
            "Epoch 2/50\n",
            "196/196 [==============================] - 47s 242ms/step - loss: 2.2535 - accuracy: 0.2180 - val_loss: 2.2990 - val_accuracy: 0.1646\n",
            "Epoch 3/50\n",
            "196/196 [==============================] - 45s 230ms/step - loss: 2.1502 - accuracy: 0.2323 - val_loss: 2.3335 - val_accuracy: 0.1618\n",
            "Epoch 4/50\n",
            "196/196 [==============================] - 41s 211ms/step - loss: 2.0504 - accuracy: 0.2457 - val_loss: 2.4691 - val_accuracy: 0.1609\n",
            "Epoch 5/50\n",
            "196/196 [==============================] - 36s 186ms/step - loss: 2.0083 - accuracy: 0.2679 - val_loss: 2.5095 - val_accuracy: 0.1637\n",
            "Epoch 6/50\n",
            "196/196 [==============================] - 36s 181ms/step - loss: 2.1040 - accuracy: 0.2441 - val_loss: 2.3793 - val_accuracy: 0.1727\n",
            "Epoch 7/50\n",
            "196/196 [==============================] - 35s 177ms/step - loss: 2.2060 - accuracy: 0.2165 - val_loss: 2.3272 - val_accuracy: 0.1908\n",
            "Epoch 8/50\n",
            "196/196 [==============================] - 39s 201ms/step - loss: 2.1753 - accuracy: 0.2205 - val_loss: 2.3718 - val_accuracy: 0.1872\n",
            "Epoch 9/50\n",
            "196/196 [==============================] - 36s 183ms/step - loss: 2.1380 - accuracy: 0.2370 - val_loss: 2.4131 - val_accuracy: 0.1682\n",
            "Epoch 10/50\n",
            "196/196 [==============================] - 33s 166ms/step - loss: 2.1223 - accuracy: 0.2387 - val_loss: 2.4286 - val_accuracy: 0.1718\n",
            "Epoch 11/50\n",
            "196/196 [==============================] - 34s 172ms/step - loss: 2.0923 - accuracy: 0.2441 - val_loss: 2.4023 - val_accuracy: 0.1655\n",
            "Epoch 12/50\n",
            "196/196 [==============================] - 33s 167ms/step - loss: 2.0785 - accuracy: 0.2422 - val_loss: 2.4688 - val_accuracy: 0.1510\n",
            "Epoch 13/50\n",
            "196/196 [==============================] - 33s 168ms/step - loss: 2.0535 - accuracy: 0.2489 - val_loss: 2.4500 - val_accuracy: 0.1320\n",
            "Epoch 14/50\n",
            "196/196 [==============================] - 31s 157ms/step - loss: 2.0329 - accuracy: 0.2628 - val_loss: 2.5316 - val_accuracy: 0.1374\n",
            "Epoch 15/50\n",
            "196/196 [==============================] - 31s 158ms/step - loss: 2.0077 - accuracy: 0.2773 - val_loss: 2.5590 - val_accuracy: 0.1456\n",
            "Epoch 16/50\n",
            "196/196 [==============================] - 32s 162ms/step - loss: 2.0040 - accuracy: 0.2783 - val_loss: 2.5026 - val_accuracy: 0.1465\n",
            "Epoch 17/50\n",
            "196/196 [==============================] - 32s 164ms/step - loss: 1.9987 - accuracy: 0.2802 - val_loss: 2.5433 - val_accuracy: 0.1591\n",
            "Epoch 18/50\n",
            "196/196 [==============================] - 31s 156ms/step - loss: 1.9842 - accuracy: 0.2853 - val_loss: 2.5643 - val_accuracy: 0.1257\n",
            "Epoch 19/50\n",
            "196/196 [==============================] - 31s 158ms/step - loss: 1.9649 - accuracy: 0.2899 - val_loss: 2.5713 - val_accuracy: 0.1682\n",
            "Epoch 20/50\n",
            "196/196 [==============================] - 32s 162ms/step - loss: 1.9535 - accuracy: 0.2982 - val_loss: 2.5981 - val_accuracy: 0.1528\n",
            "Epoch 21/50\n",
            "196/196 [==============================] - 32s 161ms/step - loss: 1.9491 - accuracy: 0.2944 - val_loss: 2.8183 - val_accuracy: 0.1582\n",
            "Epoch 22/50\n",
            "196/196 [==============================] - 32s 164ms/step - loss: 1.9443 - accuracy: 0.2952 - val_loss: 2.6060 - val_accuracy: 0.1655\n",
            "Epoch 23/50\n",
            "196/196 [==============================] - 32s 163ms/step - loss: 1.9193 - accuracy: 0.3043 - val_loss: 2.6534 - val_accuracy: 0.1627\n",
            "Epoch 24/50\n",
            "196/196 [==============================] - 31s 161ms/step - loss: 1.9236 - accuracy: 0.3011 - val_loss: 2.6202 - val_accuracy: 0.1311\n",
            "Epoch 25/50\n",
            "196/196 [==============================] - 30s 155ms/step - loss: 1.9168 - accuracy: 0.3067 - val_loss: 2.7001 - val_accuracy: 0.1510\n",
            "Epoch 26/50\n",
            "196/196 [==============================] - 30s 154ms/step - loss: 1.9018 - accuracy: 0.3105 - val_loss: 2.6450 - val_accuracy: 0.1483\n",
            "Epoch 27/50\n",
            "196/196 [==============================] - 31s 160ms/step - loss: 1.8983 - accuracy: 0.3183 - val_loss: 2.6787 - val_accuracy: 0.1510\n",
            "Epoch 28/50\n",
            "196/196 [==============================] - 30s 154ms/step - loss: 1.9007 - accuracy: 0.3131 - val_loss: 2.6956 - val_accuracy: 0.1429\n",
            "Epoch 29/50\n",
            "196/196 [==============================] - 30s 153ms/step - loss: 1.8896 - accuracy: 0.3182 - val_loss: 2.7230 - val_accuracy: 0.1465\n",
            "Epoch 30/50\n",
            "196/196 [==============================] - 32s 162ms/step - loss: 1.8809 - accuracy: 0.3271 - val_loss: 2.7303 - val_accuracy: 0.1374\n",
            "Epoch 31/50\n",
            "196/196 [==============================] - 31s 158ms/step - loss: 1.8763 - accuracy: 0.3295 - val_loss: 2.7694 - val_accuracy: 0.1302\n",
            "Epoch 32/50\n",
            "196/196 [==============================] - 30s 155ms/step - loss: 1.8810 - accuracy: 0.3333 - val_loss: 2.6486 - val_accuracy: 0.1600\n",
            "Epoch 33/50\n",
            "196/196 [==============================] - 31s 157ms/step - loss: 1.8717 - accuracy: 0.3321 - val_loss: 2.6891 - val_accuracy: 0.1528\n",
            "Epoch 34/50\n",
            "196/196 [==============================] - 31s 158ms/step - loss: 1.8722 - accuracy: 0.3293 - val_loss: 2.8916 - val_accuracy: 0.1483\n",
            "Epoch 35/50\n",
            "196/196 [==============================] - 31s 159ms/step - loss: 1.8675 - accuracy: 0.3352 - val_loss: 2.7032 - val_accuracy: 0.1555\n",
            "Epoch 36/50\n",
            "196/196 [==============================] - 30s 154ms/step - loss: 1.8547 - accuracy: 0.3378 - val_loss: 2.8214 - val_accuracy: 0.1510\n",
            "Epoch 37/50\n",
            "196/196 [==============================] - 30s 153ms/step - loss: 1.8820 - accuracy: 0.3242 - val_loss: 2.7474 - val_accuracy: 0.1456\n",
            "Epoch 38/50\n",
            "196/196 [==============================] - 30s 154ms/step - loss: 1.8895 - accuracy: 0.3277 - val_loss: 2.6647 - val_accuracy: 0.1682\n",
            "Epoch 39/50\n",
            "196/196 [==============================] - 32s 163ms/step - loss: 1.8668 - accuracy: 0.3464 - val_loss: 2.6732 - val_accuracy: 0.1474\n",
            "Epoch 40/50\n",
            "196/196 [==============================] - 31s 160ms/step - loss: 1.9042 - accuracy: 0.3273 - val_loss: 2.5951 - val_accuracy: 0.1410\n",
            "Epoch 41/50\n",
            "196/196 [==============================] - 30s 154ms/step - loss: 1.8760 - accuracy: 0.3357 - val_loss: 2.6905 - val_accuracy: 0.1392\n",
            "Epoch 42/50\n",
            "196/196 [==============================] - 31s 159ms/step - loss: 1.8946 - accuracy: 0.3282 - val_loss: 2.6257 - val_accuracy: 0.1727\n",
            "Epoch 43/50\n",
            "196/196 [==============================] - 31s 158ms/step - loss: 1.9682 - accuracy: 0.3008 - val_loss: 2.6343 - val_accuracy: 0.1293\n",
            "Epoch 44/50\n",
            "196/196 [==============================] - 31s 159ms/step - loss: 2.0003 - accuracy: 0.2874 - val_loss: 2.5543 - val_accuracy: 0.1420\n",
            "Epoch 45/50\n",
            "196/196 [==============================] - 31s 156ms/step - loss: 1.9814 - accuracy: 0.2879 - val_loss: 2.5638 - val_accuracy: 0.1546\n",
            "Epoch 46/50\n",
            "196/196 [==============================] - 31s 159ms/step - loss: 1.9746 - accuracy: 0.2933 - val_loss: 2.6146 - val_accuracy: 0.1401\n",
            "Epoch 47/50\n",
            "196/196 [==============================] - 31s 158ms/step - loss: 1.9651 - accuracy: 0.2914 - val_loss: 2.6464 - val_accuracy: 0.1682\n",
            "Epoch 48/50\n",
            "196/196 [==============================] - 31s 157ms/step - loss: 1.9452 - accuracy: 0.3037 - val_loss: 2.5181 - val_accuracy: 0.1365\n",
            "Epoch 49/50\n",
            "196/196 [==============================] - 30s 155ms/step - loss: 1.9753 - accuracy: 0.2880 - val_loss: 2.6243 - val_accuracy: 0.1447\n",
            "Epoch 50/50\n",
            "196/196 [==============================] - 31s 159ms/step - loss: 1.9712 - accuracy: 0.2971 - val_loss: 2.6938 - val_accuracy: 0.1383\n"
          ]
        }
      ],
      "source": [
        "history = model2.fit(x_train_padded, y_train_encoded, epochs=50 ,validation_data=(x_val_padded, y_val_encoded))"
      ]
    },
    {
      "cell_type": "markdown",
      "source": [
        "Evaluation"
      ],
      "metadata": {
        "id": "FH67jMTp13W9"
      }
    },
    {
      "cell_type": "code",
      "source": [
        "y_pred = model2.predict(x_test_padded)\n",
        "\n",
        "# Convert the predicted probabilities to class labels\n",
        "y_pred_classes = np.argmax(y_pred, axis=1)\n",
        "\n",
        "# Calculate precision\n",
        "precision = precision_score(y_test_encoded, y_pred_classes, average='weighted')\n",
        "\n",
        "print('Precision: {:.4f}'.format(precision))"
      ],
      "metadata": {
        "colab": {
          "base_uri": "https://localhost:8080/"
        },
        "outputId": "b4a376e6-7650-42eb-916f-9e1efcb9e074",
        "id": "k4WMjFRv1L85"
      },
      "execution_count": null,
      "outputs": [
        {
          "output_type": "stream",
          "name": "stdout",
          "text": [
            "41/41 [==============================] - 2s 45ms/step\n",
            "Precision: 0.1297\n"
          ]
        },
        {
          "output_type": "stream",
          "name": "stderr",
          "text": [
            "/usr/local/lib/python3.10/dist-packages/sklearn/metrics/_classification.py:1344: UndefinedMetricWarning: Precision is ill-defined and being set to 0.0 in labels with no predicted samples. Use `zero_division` parameter to control this behavior.\n",
            "  _warn_prf(average, modifier, msg_start, len(result))\n"
          ]
        }
      ]
    },
    {
      "cell_type": "markdown",
      "source": [
        "Using Bidirectional with LSTM"
      ],
      "metadata": {
        "id": "kqt5bLEq21uD"
      }
    },
    {
      "cell_type": "code",
      "execution_count": 52,
      "metadata": {
        "id": "Y4h1Danvorxh",
        "colab": {
          "base_uri": "https://localhost:8080/"
        },
        "outputId": "c525e8c3-a900-4590-9694-b24909534703"
      },
      "outputs": [
        {
          "output_type": "stream",
          "name": "stdout",
          "text": [
            "Model: \"sequential\"\n",
            "_________________________________________________________________\n",
            " Layer (type)                Output Shape              Param #   \n",
            "=================================================================\n",
            " embedding (Embedding)       (None, None, 910)         186324320 \n",
            "                                                                 \n",
            " bidirectional (Bidirection  (None, 200)               808800    \n",
            " al)                                                             \n",
            "                                                                 \n",
            " dense (Dense)               (None, 100)               20100     \n",
            "                                                                 \n",
            " dense_1 (Dense)             (None, 50)                5050      \n",
            "                                                                 \n",
            " dense_2 (Dense)             (None, 16)                816       \n",
            "                                                                 \n",
            "=================================================================\n",
            "Total params: 187159086 (713.96 MB)\n",
            "Trainable params: 187159086 (713.96 MB)\n",
            "Non-trainable params: 0 (0.00 Byte)\n",
            "_________________________________________________________________\n"
          ]
        }
      ],
      "source": [
        "model1 = tf.keras.models.Sequential([\n",
        "    tf.keras.layers.Embedding(vocab_size,max_sequence_len),\n",
        "    tf.keras.layers.Bidirectional(tf.keras.layers.LSTM(units=100)),\n",
        "    tf.keras.layers.Dense(units=100, activation='relu'),\n",
        "    tf.keras.layers.Dense(units=50, activation='relu'),\n",
        "    tf.keras.layers.Dense(units=16, activation='softmax')\n",
        "])\n",
        "model1.summary()"
      ]
    },
    {
      "cell_type": "code",
      "execution_count": 53,
      "metadata": {
        "id": "xhhmnZwjyi3w"
      },
      "outputs": [],
      "source": [
        "model1.compile(loss=tf.keras.losses.sparse_categorical_crossentropy,\n",
        "              optimizer=tf.keras.optimizers.Adam(0.01),\n",
        "              metrics=['accuracy'])"
      ]
    },
    {
      "cell_type": "code",
      "execution_count": 58,
      "metadata": {
        "colab": {
          "base_uri": "https://localhost:8080/"
        },
        "outputId": "3d52a211-ed8b-41eb-972f-96d54648c225",
        "id": "FuxJ9sTvyi4O"
      },
      "outputs": [
        {
          "output_type": "stream",
          "name": "stdout",
          "text": [
            "Epoch 1/50\n",
            "196/196 [==============================] - 35s 180ms/step - loss: 1.7609 - accuracy: 0.4150 - val_loss: 2.6092 - val_accuracy: 0.1781\n",
            "Epoch 2/50\n",
            "196/196 [==============================] - 34s 173ms/step - loss: 1.7027 - accuracy: 0.4307 - val_loss: 2.7951 - val_accuracy: 0.1591\n",
            "Epoch 3/50\n",
            "196/196 [==============================] - 32s 165ms/step - loss: 1.6520 - accuracy: 0.4599 - val_loss: 2.7652 - val_accuracy: 0.1772\n",
            "Epoch 4/50\n",
            "196/196 [==============================] - 33s 167ms/step - loss: 1.6136 - accuracy: 0.4736 - val_loss: 2.8715 - val_accuracy: 0.1600\n",
            "Epoch 5/50\n",
            "196/196 [==============================] - 31s 157ms/step - loss: 1.5662 - accuracy: 0.4867 - val_loss: 2.8533 - val_accuracy: 0.1682\n",
            "Epoch 6/50\n",
            "196/196 [==============================] - 31s 160ms/step - loss: 1.5358 - accuracy: 0.4990 - val_loss: 3.0908 - val_accuracy: 0.1790\n",
            "Epoch 7/50\n",
            "196/196 [==============================] - 31s 159ms/step - loss: 1.5021 - accuracy: 0.5100 - val_loss: 2.9434 - val_accuracy: 0.1727\n",
            "Epoch 8/50\n",
            "196/196 [==============================] - 31s 159ms/step - loss: 1.4813 - accuracy: 0.5168 - val_loss: 3.0407 - val_accuracy: 0.1881\n",
            "Epoch 9/50\n",
            "196/196 [==============================] - 30s 152ms/step - loss: 1.4707 - accuracy: 0.5267 - val_loss: 3.0634 - val_accuracy: 0.1609\n",
            "Epoch 10/50\n",
            "196/196 [==============================] - 31s 157ms/step - loss: 1.4743 - accuracy: 0.5309 - val_loss: 2.9521 - val_accuracy: 0.1863\n",
            "Epoch 11/50\n",
            "196/196 [==============================] - 31s 158ms/step - loss: 1.5046 - accuracy: 0.5189 - val_loss: 3.0517 - val_accuracy: 0.1564\n",
            "Epoch 12/50\n",
            "196/196 [==============================] - 31s 159ms/step - loss: 1.4762 - accuracy: 0.5310 - val_loss: 3.2867 - val_accuracy: 0.1627\n",
            "Epoch 13/50\n",
            "196/196 [==============================] - 29s 146ms/step - loss: 1.4464 - accuracy: 0.5339 - val_loss: 3.0716 - val_accuracy: 0.1600\n",
            "Epoch 14/50\n",
            "196/196 [==============================] - 30s 154ms/step - loss: 1.4098 - accuracy: 0.5499 - val_loss: 3.0475 - val_accuracy: 0.1537\n",
            "Epoch 15/50\n",
            "196/196 [==============================] - 29s 150ms/step - loss: 1.4129 - accuracy: 0.5435 - val_loss: 3.1837 - val_accuracy: 0.1655\n",
            "Epoch 16/50\n",
            "196/196 [==============================] - 30s 154ms/step - loss: 1.3887 - accuracy: 0.5464 - val_loss: 3.2655 - val_accuracy: 0.1582\n",
            "Epoch 17/50\n",
            "196/196 [==============================] - 29s 147ms/step - loss: 1.3890 - accuracy: 0.5548 - val_loss: 3.0213 - val_accuracy: 0.1591\n",
            "Epoch 18/50\n",
            "196/196 [==============================] - 29s 148ms/step - loss: 1.3844 - accuracy: 0.5526 - val_loss: 3.2082 - val_accuracy: 0.1754\n",
            "Epoch 19/50\n",
            "196/196 [==============================] - 29s 146ms/step - loss: 1.3825 - accuracy: 0.5486 - val_loss: 3.0449 - val_accuracy: 0.1962\n",
            "Epoch 20/50\n",
            "196/196 [==============================] - 29s 150ms/step - loss: 1.3468 - accuracy: 0.5663 - val_loss: 3.1049 - val_accuracy: 0.1763\n",
            "Epoch 21/50\n",
            "196/196 [==============================] - 28s 145ms/step - loss: 1.3598 - accuracy: 0.5679 - val_loss: 3.0426 - val_accuracy: 0.1863\n",
            "Epoch 22/50\n",
            "196/196 [==============================] - 30s 152ms/step - loss: 1.3360 - accuracy: 0.5623 - val_loss: 3.2740 - val_accuracy: 0.1591\n",
            "Epoch 23/50\n",
            "196/196 [==============================] - 28s 144ms/step - loss: 1.3301 - accuracy: 0.5712 - val_loss: 3.1560 - val_accuracy: 0.1618\n",
            "Epoch 24/50\n",
            "196/196 [==============================] - 29s 146ms/step - loss: 1.3110 - accuracy: 0.5775 - val_loss: 3.4316 - val_accuracy: 0.1555\n",
            "Epoch 25/50\n",
            "196/196 [==============================] - 30s 151ms/step - loss: 1.3141 - accuracy: 0.5756 - val_loss: 3.1565 - val_accuracy: 0.1537\n",
            "Epoch 26/50\n",
            "196/196 [==============================] - 29s 150ms/step - loss: 1.3109 - accuracy: 0.5701 - val_loss: 3.5762 - val_accuracy: 0.1564\n",
            "Epoch 27/50\n",
            "196/196 [==============================] - 30s 152ms/step - loss: 1.2878 - accuracy: 0.5859 - val_loss: 3.2505 - val_accuracy: 0.1691\n",
            "Epoch 28/50\n",
            "196/196 [==============================] - 29s 151ms/step - loss: 1.2941 - accuracy: 0.5886 - val_loss: 3.3670 - val_accuracy: 0.1655\n",
            "Epoch 29/50\n",
            "196/196 [==============================] - 30s 151ms/step - loss: 1.2833 - accuracy: 0.5891 - val_loss: 3.2709 - val_accuracy: 0.1682\n",
            "Epoch 30/50\n",
            "196/196 [==============================] - 28s 143ms/step - loss: 1.2668 - accuracy: 0.5923 - val_loss: 3.3346 - val_accuracy: 0.1745\n",
            "Epoch 31/50\n",
            "196/196 [==============================] - 29s 146ms/step - loss: 1.2511 - accuracy: 0.5977 - val_loss: 3.5044 - val_accuracy: 0.1709\n",
            "Epoch 32/50\n",
            "196/196 [==============================] - 30s 151ms/step - loss: 1.2392 - accuracy: 0.6046 - val_loss: 3.3656 - val_accuracy: 0.1799\n",
            "Epoch 33/50\n",
            "196/196 [==============================] - 29s 148ms/step - loss: 1.2565 - accuracy: 0.5917 - val_loss: 3.3670 - val_accuracy: 0.1682\n",
            "Epoch 34/50\n",
            "196/196 [==============================] - 29s 150ms/step - loss: 1.2554 - accuracy: 0.5971 - val_loss: 3.1993 - val_accuracy: 0.1691\n",
            "Epoch 35/50\n",
            "196/196 [==============================] - 29s 150ms/step - loss: 1.2653 - accuracy: 0.5934 - val_loss: 3.4925 - val_accuracy: 0.1646\n",
            "Epoch 36/50\n",
            "196/196 [==============================] - 29s 146ms/step - loss: 1.2861 - accuracy: 0.5861 - val_loss: 3.3301 - val_accuracy: 0.1591\n",
            "Epoch 37/50\n",
            "196/196 [==============================] - 30s 153ms/step - loss: 1.2676 - accuracy: 0.5891 - val_loss: 3.2252 - val_accuracy: 0.1727\n",
            "Epoch 38/50\n",
            "196/196 [==============================] - 28s 145ms/step - loss: 1.2326 - accuracy: 0.6011 - val_loss: 3.2796 - val_accuracy: 0.1790\n",
            "Epoch 39/50\n",
            "196/196 [==============================] - 29s 149ms/step - loss: 1.2419 - accuracy: 0.6017 - val_loss: 3.3181 - val_accuracy: 0.1492\n",
            "Epoch 40/50\n",
            "196/196 [==============================] - 29s 149ms/step - loss: 1.2259 - accuracy: 0.6091 - val_loss: 3.4115 - val_accuracy: 0.1655\n",
            "Epoch 41/50\n",
            "196/196 [==============================] - 30s 151ms/step - loss: 1.2335 - accuracy: 0.6019 - val_loss: 3.5848 - val_accuracy: 0.1655\n",
            "Epoch 42/50\n",
            "196/196 [==============================] - 28s 145ms/step - loss: 1.2337 - accuracy: 0.6009 - val_loss: 3.4340 - val_accuracy: 0.1682\n",
            "Epoch 43/50\n",
            "196/196 [==============================] - 28s 143ms/step - loss: 1.2225 - accuracy: 0.6065 - val_loss: 3.5256 - val_accuracy: 0.1637\n",
            "Epoch 44/50\n",
            "196/196 [==============================] - 30s 154ms/step - loss: 1.2166 - accuracy: 0.6073 - val_loss: 3.3730 - val_accuracy: 0.1700\n",
            "Epoch 45/50\n",
            "196/196 [==============================] - 29s 146ms/step - loss: 1.2121 - accuracy: 0.6164 - val_loss: 3.4471 - val_accuracy: 0.1727\n",
            "Epoch 46/50\n",
            "196/196 [==============================] - 30s 152ms/step - loss: 1.2065 - accuracy: 0.6193 - val_loss: 3.5584 - val_accuracy: 0.1600\n",
            "Epoch 47/50\n",
            "196/196 [==============================] - 29s 150ms/step - loss: 1.1965 - accuracy: 0.6196 - val_loss: 3.6226 - val_accuracy: 0.1736\n",
            "Epoch 48/50\n",
            "196/196 [==============================] - 28s 144ms/step - loss: 1.1861 - accuracy: 0.6177 - val_loss: 3.4848 - val_accuracy: 0.1564\n",
            "Epoch 49/50\n",
            "196/196 [==============================] - 29s 148ms/step - loss: 1.1988 - accuracy: 0.6178 - val_loss: 3.4205 - val_accuracy: 0.1573\n",
            "Epoch 50/50\n",
            "196/196 [==============================] - 29s 147ms/step - loss: 1.1941 - accuracy: 0.6288 - val_loss: 3.6305 - val_accuracy: 0.1727\n"
          ]
        }
      ],
      "source": [
        "history = model1.fit(x_train_padded, y_train_encoded, epochs=50 ,validation_data=(x_val_padded, y_val_encoded))"
      ]
    },
    {
      "cell_type": "markdown",
      "source": [
        "Evaluation"
      ],
      "metadata": {
        "id": "3lnkZOiP3agT"
      }
    },
    {
      "cell_type": "code",
      "source": [
        "# Predict the labels for the test data\n",
        "y_pred = model1.predict(x_test_padded)\n",
        "\n",
        "# Convert the predicted probabilities to class labels\n",
        "y_pred_classes = np.argmax(y_pred, axis=1)\n",
        "\n",
        "# Calculate precision\n",
        "precision = precision_score(y_test_encoded, y_pred_classes, average='weighted')\n",
        "\n",
        "print('Precision: {:.4f}'.format(precision))"
      ],
      "metadata": {
        "id": "VSH5GzakK_fs",
        "colab": {
          "base_uri": "https://localhost:8080/"
        },
        "outputId": "5d124dfd-4c91-4c83-979d-923bbddd4d48"
      },
      "execution_count": 59,
      "outputs": [
        {
          "output_type": "stream",
          "name": "stdout",
          "text": [
            "41/41 [==============================] - 2s 39ms/step\n",
            "Precision: 0.1475\n"
          ]
        },
        {
          "output_type": "stream",
          "name": "stderr",
          "text": [
            "/usr/local/lib/python3.10/dist-packages/sklearn/metrics/_classification.py:1344: UndefinedMetricWarning: Precision is ill-defined and being set to 0.0 in labels with no predicted samples. Use `zero_division` parameter to control this behavior.\n",
            "  _warn_prf(average, modifier, msg_start, len(result))\n"
          ]
        }
      ]
    },
    {
      "cell_type": "markdown",
      "metadata": {
        "id": "HT0K5DRnUW5H"
      },
      "source": [
        "### Conclusion and final results\n"
      ]
    },
    {
      "cell_type": "markdown",
      "source": [
        " The best model is Using Bidirectional with LSTM, Percision_Score = 14.75%"
      ],
      "metadata": {
        "id": "xj5jxB9W5xJ5"
      }
    },
    {
      "cell_type": "markdown",
      "metadata": {
        "id": "Nw1GVnYLorxi"
      },
      "source": [
        "#### Done!"
      ]
    }
  ],
  "metadata": {
    "colab": {
      "provenance": []
    },
    "kernelspec": {
      "display_name": "Python 3",
      "name": "python3"
    },
    "language_info": {
      "codemirror_mode": {
        "name": "ipython",
        "version": 3
      },
      "file_extension": ".py",
      "mimetype": "text/x-python",
      "name": "python",
      "nbconvert_exporter": "python",
      "pygments_lexer": "ipython3",
      "version": "3.11.7"
    }
  },
  "nbformat": 4,
  "nbformat_minor": 0
}